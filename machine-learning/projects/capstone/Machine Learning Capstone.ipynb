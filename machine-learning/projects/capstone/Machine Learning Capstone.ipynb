{
 "cells": [
  {
   "cell_type": "markdown",
   "metadata": {
    "_cell_guid": "43c38433-6d17-4b1e-9f2a-bca4f692489a",
    "_execution_state": "idle",
    "_uuid": "ea7d07e39f8c6160c05767de0c4f7f6489ebe8df"
   },
   "source": [
    "Donated to Cancer Treatment\n",
    "============================="
   ]
  },
  {
   "cell_type": "markdown",
   "metadata": {},
   "source": [
    "In using the XGBOOST, I used some code from \n",
    " https://www.kaggle.com/tunguz/redefining-treatment-0-57456?scriptVersionId=1349580"
   ]
  },
  {
   "cell_type": "code",
   "execution_count": 1,
   "metadata": {},
   "outputs": [
    {
     "name": "stderr",
     "output_type": "stream",
     "text": [
      "C:\\Users\\Linggih\\Anaconda3\\envs\\tensorflow\\lib\\site-packages\\sklearn\\cross_validation.py:41: DeprecationWarning: This module was deprecated in version 0.18 in favor of the model_selection module into which all the refactored classes and functions are moved. Also note that the interface of the new CV iterators are different from that of this module. This module will be removed in 0.20.\n",
      "  \"This module will be removed in 0.20.\", DeprecationWarning)\n"
     ]
    }
   ],
   "source": [
    "import numpy as np # linear algebra\n",
    "import pandas as pd # data processing, CSV file I/O (e.g. pd.read_csv)\n",
    "import matplotlib.pyplot as plt\n",
    "import seaborn as sns\n",
    "import xgboost as xgb\n",
    "\n",
    "from sklearn.feature_extraction.text import TfidfVectorizer\n",
    "from sklearn.feature_extraction.text import CountVectorizer\n",
    "\n",
    "color = sns.color_palette()\n",
    "\n",
    "%matplotlib inline\n",
    "\n"
   ]
  },
  {
   "cell_type": "code",
   "execution_count": 2,
   "metadata": {
    "_cell_guid": "e99beda1-d7bb-4de3-916c-327d1f2d87e2",
    "_execution_state": "busy",
    "_uuid": "92a8330e090e0074e540f721894351f10a6946d6"
   },
   "outputs": [
    {
     "name": "stdout",
     "output_type": "stream",
     "text": [
      "3321\n",
      "5668\n"
     ]
    }
   ],
   "source": [
    "import pandas as pd\n",
    "import numpy as np\n",
    "\n",
    "train = pd.read_csv('training_variants')\n",
    "test = pd.read_csv('test_variants')\n",
    "trainx = pd.read_csv('training_text', sep=\"\\|\\|\", engine='python', header=None, skiprows=1, names=[\"ID\",\"Text\"])\n",
    "testx = pd.read_csv('test_text', sep=\"\\|\\|\", engine='python', header=None, skiprows=1, names=[\"ID\",\"Text\"])\n",
    "'''\n",
    "train = pd.merge(train, trainx, how='left', on='ID').fillna('')\n",
    "y = train['Class'].values\n",
    "train = train.drop(['Class'], axis=1)\n",
    "\n",
    "test = pd.merge(test, testx, how='left', on='ID').fillna('')\n",
    "pid = test['ID'].values\n",
    "\n",
    "'''\n",
    "# Separate X and Y.\n",
    "df_all = pd.concat((train, test), axis=0, ignore_index=True)\n",
    "#df_all['Gene_Share'] = df_all.apply(lambda r: sum([1 for w in r['Gene'].split(' ') if w in r['Text'].split(' ')]), axis=1)\n",
    "#df_all['Variation_Share'] = df_all.apply(lambda r: sum([1 for w in r['Variation'].split(' ') if w in r['Text'].split(' ')]), axis=1)\n",
    "\n",
    "print(len(train))\n",
    "print(len(test))"
   ]
  },
  {
   "cell_type": "code",
   "execution_count": 3,
   "metadata": {},
   "outputs": [
    {
     "name": "stdout",
     "output_type": "stream",
     "text": [
      "Train Variants and Text shape:  (3321, 4) (3321, 2)\n",
      "Test Variants and Text shape:  (5668, 3) (5668, 2)\n"
     ]
    }
   ],
   "source": [
    "print(\"Train Variants and Text shape: \", train.shape, trainx.shape)\n",
    "print(\"Test Variants and Text shape: \", test.shape, testx.shape)"
   ]
  },
  {
   "cell_type": "code",
   "execution_count": 4,
   "metadata": {},
   "outputs": [
    {
     "name": "stdout",
     "output_type": "stream",
     "text": [
      "   ID    Gene             Variation  Class\n",
      "0   0  FAM58A  Truncating Mutations      1\n",
      "1   1     CBL                 W802*      2\n",
      "2   2     CBL                 Q249E      2\n",
      "3   3     CBL                 N454D      3\n",
      "4   4     CBL                 L399V      4\n",
      "   ID                                               Text\n",
      "0   0  Cyclin-dependent kinases (CDKs) regulate a var...\n",
      "1   1   Abstract Background  Non-small cell lung canc...\n",
      "2   2   Abstract Background  Non-small cell lung canc...\n",
      "3   3  Recent evidence has demonstrated that acquired...\n",
      "4   4  Oncogenic mutations in the monomeric Casitas B...\n"
     ]
    }
   ],
   "source": [
    "print(train.head())\n",
    "print(trainx.head())"
   ]
  },
  {
   "cell_type": "code",
   "execution_count": 5,
   "metadata": {
    "collapsed": true
   },
   "outputs": [],
   "source": [
    "train_text = trainx.Text\n",
    "test_text = testx.Text"
   ]
  },
  {
   "cell_type": "code",
   "execution_count": 6,
   "metadata": {},
   "outputs": [
    {
     "data": {
      "image/png": "[encoded data removed]",
      "text/plain": [
       "<matplotlib.figure.Figure at 0x24bf11c5128>"
      ]
     },
     "metadata": {},
     "output_type": "display_data"
    }
   ],
   "source": [
    "plt.figure(figsize=(12,8))\n",
    "sns.countplot(x=\"Class\", data=train, palette=\"GnBu_d\")\n",
    "\n",
    "plt.ylabel('Frequency', fontsize=12)\n",
    "plt.xlabel('Class Count', fontsize=12)\n",
    "plt.xticks(rotation='vertical')\n",
    "plt.title(\"Frequency of Classes\", fontsize=15)\n",
    "plt.show()\n"
   ]
  },
  {
   "cell_type": "code",
   "execution_count": 7,
   "metadata": {},
   "outputs": [
    {
     "data": {
      "image/png": "[encoded data removed]",
      "text/plain": [
       "<matplotlib.figure.Figure at 0x24be8270940>"
      ]
     },
     "metadata": {},
     "output_type": "display_data"
    }
   ],
   "source": [
    "# The most common genes\n",
    "total_gene = train.Gene.value_counts()\n",
    "count_gene = total_gene[0:20].plot(kind='bar', title=\"Frequencies by Genes\")\n",
    "count_gene.set_xlabel('Genes')\n",
    "count_gene.set_ylabel('Frequencies')\n",
    "plt.show()"
   ]
  },
  {
   "cell_type": "code",
   "execution_count": 8,
   "metadata": {
    "scrolled": true
   },
   "outputs": [
    {
     "data": {
      "image/png": "[encoded data removed]",
      "text/plain": [
       "<matplotlib.figure.Figure at 0x24bff252940>"
      ]
     },
     "metadata": {},
     "output_type": "display_data"
    }
   ],
   "source": [
    "# THe most common variations\n",
    "common_variations = train.Variation.value_counts()\n",
    "count_variations = common_variations[0:20].plot(kind='bar', title='Frequencies vs Variations')\n",
    "count_variations.set_xlabel('Variations')\n",
    "count_variations.set_ylabel('Frequencies')\n",
    "plt.show()"
   ]
  },
  {
   "cell_type": "code",
   "execution_count": 9,
   "metadata": {},
   "outputs": [
    {
     "data": {
      "image/png": "[encoded data removed]",
      "text/plain": [
       "<matplotlib.figure.Figure at 0x24bff2671d0>"
      ]
     },
     "metadata": {},
     "output_type": "display_data"
    }
   ],
   "source": [
    "# Count of Classes\n",
    "most_classes = train.Class.value_counts()\n",
    "count_classes = most_classes.plot(kind='bar', title='Frequencies vs Classes')\n",
    "count_classes.set_xlabel('Classes')\n",
    "count_classes.set_ylabel('Frequencies')\n",
    "plt.show()"
   ]
  },
  {
   "cell_type": "code",
   "execution_count": null,
   "metadata": {
    "collapsed": true
   },
   "outputs": [],
   "source": []
  },
  {
   "cell_type": "code",
   "execution_count": 10,
   "metadata": {
    "collapsed": true
   },
   "outputs": [],
   "source": [
    "# Cleaning the text in hoping to get better results.\n",
    "import re\n",
    "\n",
    "def cleaning(text):\n",
    "    text = re.sub(r\"[^A-Za-z0-9^,!.\\/'+-=]\", \" \", str(text))\n",
    "    text = text.lower().split()\n",
    "    stops = {'fig.', 'figure', 'cells', 'cell', 'table'\n",
    "     'so', 'his', 't', 'y', 'ours', 'herself', \n",
    "     'your', 'all', 'some', 'they', 'i', 'of', 'didn', \n",
    "     'them', 'when', 'will', 'that', 'its', 'because', \n",
    "     'while', 'those', 'my', 'don', 'again', 'her', 'if',\n",
    "     'further', 'now', 'does', 'against', 'won', 'same', \n",
    "     'a', 'b', 'c', 'd', 'e','f','g', 'h', 'i', 'j', 'k', 'l', 'm', 'n', \n",
    "     'o', 'p', 'q', 'r', 's', 't', 'u', 'v', 'x', 'w', 'y', 'z',\n",
    "     'during', 'who', 'here', 'have', 'in', 'being', \n",
    "     'it', 'other', 'once', 'itself', 'hers', 'after', 're',\n",
    "     'just', 'their', 'himself', 'theirs', 'whom', 'then', 'd', \n",
    "     'out', 'm', 'mustn', 'where', 'below', 'about', 'isn',\n",
    "     'shouldn', 'wouldn', 'these', 'me', 'to', 'doesn', 'into',\n",
    "     'the', 'until', 'she', 'am', 'under', 'how', 'yourself',\n",
    "     'couldn', 'ma', 'up', 'than', 'from', 'themselves', 'yourselves',\n",
    "     'off', 'above', 'yours', 'having', 'mightn', 'needn', 'on', \n",
    "     'too', 'there', 'an', 'and', 'down', 'ourselves', 'each',\n",
    "     'hadn', 'ain', 'such', 've', 'did', 'be', 'or', 'aren', 'he', \n",
    "     'should', 'for', 'both', 'doing', 'this', 'through', 'do', 'had',\n",
    "     'own', 'but', 'were', 'over', 'not', 'are', 'few', 'by', \n",
    "     'been', 'most', 'no', 'as', 'was', 'what', 's', 'is', 'you', \n",
    "     'shan', 'between', 'wasn', 'has', 'more', 'him', 'nor',\n",
    "     'can', 'why', 'any', 'at', 'myself', 'very', 'with', 'we', \n",
    "     'which', 'hasn', 'weren', 'haven', 'our', 'll', 'only', 'before'}\n",
    "    \n",
    "\n",
    "    text = [word for word in text if not word in stops]\n",
    "    text = \" \".join(text)\n",
    "    text = text.replace(\".\",\" \").replace(\",\",\" \")\n",
    "    return(text)\n"
   ]
  },
  {
   "cell_type": "code",
   "execution_count": 11,
   "metadata": {
    "collapsed": true
   },
   "outputs": [],
   "source": [
    "train_text_clean = []\n",
    "for i in train_text:\n",
    "    meta = cleaning(i)\n",
    "    train_text_clean.append(meta)"
   ]
  },
  {
   "cell_type": "code",
   "execution_count": 12,
   "metadata": {
    "collapsed": true
   },
   "outputs": [],
   "source": [
    "test_text_clean = []\n",
    "for i in test_text:\n",
    "    meta = cleaning(i)\n",
    "    test_text_clean.append(meta)"
   ]
  },
  {
   "cell_type": "code",
   "execution_count": 13,
   "metadata": {},
   "outputs": [
    {
     "data": {
      "text/plain": [
       "'cyclin-dependent kinases cdks regulate variety fundamental cellular processes  cdk10 stands one last'"
      ]
     },
     "execution_count": 13,
     "metadata": {},
     "output_type": "execute_result"
    }
   ],
   "source": [
    "train_text_clean[0][:100]"
   ]
  },
  {
   "cell_type": "code",
   "execution_count": 14,
   "metadata": {
    "scrolled": true
   },
   "outputs": [
    {
     "name": "stdout",
     "output_type": "stream",
     "text": [
      "\n",
      " Doc  0\n",
      "[('cyclin', 90), ('cdk10', 81), ('ets2', 54), ('expression', 43), ('1', 42), ('protein', 38), ('levels', 35), ('star', 33), ('fam58a', 33), ('2', 32)]\n",
      "\n",
      " Doc  1\n",
      "[('c-cbl', 153), ('mutations', 66), ('lung', 56), ('mutation', 43), ('egfr', 43), ('1', 41), ('met', 33), ('samples', 33), ('cancer', 32), ('0', 29)]\n",
      "\n",
      " Doc  2\n",
      "[('c-cbl', 153), ('mutations', 66), ('lung', 56), ('mutation', 43), ('egfr', 43), ('1', 41), ('met', 33), ('samples', 33), ('cancer', 32), ('0', 29)]\n",
      "\n",
      " Doc  3\n",
      "[('cbl', 104), ('mutations', 69), ('cases', 50), ('aupd', 42), ('upn', 38), ('mutation', 37), ('2', 34), ('3', 29), ('analysis', 29), ('case', 26)]\n",
      "\n",
      " Doc  4\n",
      "[('mutations', 150), ('cbl', 121), ('binding', 64), ('cancer', 62), ('stability', 40), ('effects', 33), ('1', 32), ('protein', 30), ('cbl-e2', 30), ('activity', 30)]\n",
      "\n",
      " Doc  5\n",
      "[('mutations', 150), ('cbl', 121), ('binding', 64), ('cancer', 62), ('stability', 40), ('effects', 33), ('1', 32), ('protein', 30), ('cbl-e2', 30), ('activity', 30)]\n",
      "\n",
      " Doc  6\n",
      "[('mutations', 150), ('cbl', 121), ('binding', 64), ('cancer', 62), ('stability', 40), ('effects', 33), ('1', 32), ('protein', 30), ('cbl-e2', 30), ('activity', 30)]\n",
      "\n",
      " Doc  7\n",
      "[('cbl', 273), ('mutations', 175), ('flt3', 163), ('patients', 117), ('1', 79), ('c-cbl', 56), ('p', 54), ('patient', 50), ('mutant', 46), ('mutation', 46)]\n",
      "\n",
      " Doc  8\n",
      "[('cbl', 275), ('mutations', 186), ('phosphorylation', 72), ('gm-csf', 70), ('binding', 69), ('gm-csfr', 66), ('mutants', 64), ('cancer', 62), ('activity', 53), ('1', 51)]\n",
      "\n",
      " Doc  9\n",
      "[('cbl', 154), ('gm-csf', 70), ('phosphorylation', 69), ('gm-csfr', 66), ('tf-1', 49), ('jak2', 49), ('mutants', 48), ('expression', 45), ('enhanced', 43), ('cbl-y371h', 38)]\n"
     ]
    }
   ],
   "source": [
    "# Checking the most common words.\n",
    "from collections import Counter\n",
    "for i in range(10):\n",
    "    print('\\n Doc ', str(i))\n",
    "    check = Counter(train_text_clean[i].split())\n",
    "    print(check.most_common()[:10])"
   ]
  },
  {
   "cell_type": "code",
   "execution_count": 15,
   "metadata": {
    "collapsed": true
   },
   "outputs": [],
   "source": [
    "# Limit the features to get into the vectorizer.\n",
    "max_features = 500"
   ]
  },
  {
   "cell_type": "code",
   "execution_count": 16,
   "metadata": {},
   "outputs": [
    {
     "data": {
      "text/plain": [
       "TfidfVectorizer(analyzer='word', binary=False, decode_error='strict',\n",
       "        dtype=<class 'numpy.int64'>, encoding='utf-8', input='content',\n",
       "        lowercase=True, max_df=1.0, max_features=500, min_df=5,\n",
       "        ngram_range=(1, 3), norm='l2', preprocessor=None, smooth_idf=True,\n",
       "        stop_words='english', strip_accents='unicode', sublinear_tf=True,\n",
       "        token_pattern='\\\\w+', tokenizer=None, use_idf=True,\n",
       "        vocabulary=None)"
      ]
     },
     "execution_count": 16,
     "metadata": {},
     "output_type": "execute_result"
    }
   ],
   "source": [
    "\n",
    "tfidf = TfidfVectorizer(min_df=5, max_features=max_features, ngram_range=(1,3),\n",
    "                        strip_accents='unicode',\n",
    "                        lowercase =True, analyzer='word', token_pattern=r'\\w+',\n",
    "                        use_idf=True, smooth_idf=True, sublinear_tf=True, \n",
    "                        stop_words = 'english')\n",
    "tfidf.fit(train_text_clean)"
   ]
  },
  {
   "cell_type": "code",
   "execution_count": 17,
   "metadata": {},
   "outputs": [
    {
     "data": {
      "text/plain": [
       "CountVectorizer(analyzer='word', binary=False, decode_error='strict',\n",
       "        dtype=<class 'numpy.int64'>, encoding='utf-8', input='content',\n",
       "        lowercase=True, max_df=1.0, max_features=500, min_df=5,\n",
       "        ngram_range=(1, 3), preprocessor=None, stop_words='english',\n",
       "        strip_accents='unicode', token_pattern='\\\\w+', tokenizer=None,\n",
       "        vocabulary=None)"
      ]
     },
     "execution_count": 17,
     "metadata": {},
     "output_type": "execute_result"
    }
   ],
   "source": [
    "countvec = CountVectorizer(min_df=5, ngram_range=(1,3), max_features=max_features, \n",
    "                       strip_accents='unicode',\n",
    "                       lowercase =True, analyzer='word', token_pattern=r'\\w+',\n",
    "                       stop_words = 'english')\n",
    "countvec.fit(train_text_clean)"
   ]
  },
  {
   "cell_type": "code",
   "execution_count": 18,
   "metadata": {
    "collapsed": true
   },
   "outputs": [],
   "source": [
    "from sklearn.decomposition import TruncatedSVD\n",
    "\n",
    "tsvd = TruncatedSVD(n_components=200)\n",
    "tsvdfit = tsvd.fit(tfidf.transform(train_text_clean))"
   ]
  },
  {
   "cell_type": "code",
   "execution_count": 19,
   "metadata": {
    "collapsed": true
   },
   "outputs": [],
   "source": [
    "def featuresEngineering(texts_part, variations_parts):\n",
    "    temp = variations_parts.copy()\n",
    "    print(\"Factorize...\")\n",
    "    temp.Gene = pd.factorize(variations_parts.Gene)[0]\n",
    "    temp.Variation = pd.factorize(variations_parts.Variation)[0]\n",
    "    temp.Gene_variation_ratio = temp.Gene/temp.Variation\n",
    "    \n",
    "    print(\"tfidf...\")\n",
    "    temp_tfidf = tfidf.transform(texts_part)\n",
    "    temp.tfidf_sum = temp_tfidf.sum(axis=1)\n",
    "    temp.tfidf_mean = temp_tfidf.mean(axis=1)\n",
    "    temp.tfidf_len = (temp_tfidf!=0).sum(axis=1)\n",
    "    \n",
    "    print(\"lsa\")\n",
    "    temp_col = list(temp.columns)\n",
    "    temp_lsa = tsvd.transform(temp_tfidf)\n",
    "    \n",
    "    for i in range(np.shape(temp_lsa)[1]):\n",
    "        temp_col.append('lsa'+str(i+1))\n",
    "    temp = pd.concat([temp, pd.DataFrame(temp_lsa, index=temp.index)], axis=1)\n",
    "    \n",
    "    return temp, temp_col"
   ]
  },
  {
   "cell_type": "code",
   "execution_count": 20,
   "metadata": {},
   "outputs": [
    {
     "name": "stdout",
     "output_type": "stream",
     "text": [
      "Factorize...\n",
      "tfidf...\n",
      "lsa\n"
     ]
    }
   ],
   "source": [
    "train_df, train_columns = featuresEngineering(train_text_clean, train)"
   ]
  },
  {
   "cell_type": "code",
   "execution_count": 21,
   "metadata": {},
   "outputs": [
    {
     "name": "stdout",
     "output_type": "stream",
     "text": [
      "Factorize...\n",
      "tfidf...\n",
      "lsa\n"
     ]
    }
   ],
   "source": [
    "test_df, test_columns = featuresEngineering(test_text_clean, test)"
   ]
  },
  {
   "cell_type": "code",
   "execution_count": 22,
   "metadata": {},
   "outputs": [
    {
     "name": "stdout",
     "output_type": "stream",
     "text": [
      "Original Counter({7: 953, 4: 686, 1: 568, 2: 452, 6: 275, 5: 242, 3: 89, 9: 37, 8: 19}) \n",
      " Rehashed:  Counter({6: 953, 3: 686, 0: 568, 1: 452, 5: 275, 4: 242, 2: 89, 8: 37, 7: 19})\n"
     ]
    }
   ],
   "source": [
    "classes = train.Class - 1\n",
    "print('Original', Counter(train.Class), '\\n Rehashed: ', Counter(classes))"
   ]
  },
  {
   "cell_type": "code",
   "execution_count": 23,
   "metadata": {},
   "outputs": [
    {
     "name": "stdout",
     "output_type": "stream",
     "text": [
      "(2225, 202)\n",
      "(1096, 202)\n"
     ]
    }
   ],
   "source": [
    "# Import train_test_split\n",
    "from sklearn.cross_validation import train_test_split\n",
    "\n",
    "# Split the 'features' and 'income' data into training and testing sets\n",
    "X_train, X_test, y_train, y_test = train_test_split(train_df.drop(['ID', 'Class'], axis=1), classes, test_size = 0.33, random_state = 0)\n",
    "\n",
    "# Show the results of the split\n",
    "print(format(X_train.shape))\n",
    "print(format(X_test.shape))"
   ]
  },
  {
   "cell_type": "code",
   "execution_count": 24,
   "metadata": {},
   "outputs": [
    {
     "name": "stdout",
     "output_type": "stream",
     "text": [
      "        ID  Gene  Variation  Class         0         1         2         3  \\\n",
      "0        0     0          0      1  0.752828 -0.019792 -0.118816 -0.104973   \n",
      "1        1     1          1      2  0.763223 -0.138636  0.059093 -0.105341   \n",
      "2        2     1          2      2  0.763223 -0.138636  0.059093 -0.105341   \n",
      "3        3     1          3      3  0.736831 -0.030943  0.129126 -0.099866   \n",
      "4        4     1          4      4  0.770890  0.016294 -0.074732  0.088066   \n",
      "5        5     1          5      4  0.770890  0.016294 -0.074732  0.088066   \n",
      "6        6     1          6      5  0.770890  0.016294 -0.074732  0.088066   \n",
      "7        7     1          7      1  0.832240 -0.133820  0.090564 -0.033577   \n",
      "8        8     1          8      4  0.821791 -0.153531 -0.071258  0.126092   \n",
      "9        9     1          9      4  0.674953 -0.258520 -0.094937  0.121560   \n",
      "10      10     1         10      4  0.770890  0.016294 -0.074732  0.088066   \n",
      "11      11     1         11      4  0.832313 -0.060180 -0.109799  0.045273   \n",
      "12      12     1         12      4  0.864549 -0.174815 -0.017583 -0.001696   \n",
      "13      13     1         13      4  0.832313 -0.060180 -0.109799  0.045273   \n",
      "14      14     1         14      5  0.770890  0.016294 -0.074732  0.088066   \n",
      "15      15     1         15      4  0.700623 -0.106182 -0.146613  0.007708   \n",
      "16      16     1          0      1  0.833894 -0.069849  0.063835 -0.066024   \n",
      "17      17     1         16      4  0.627163 -0.097067 -0.025499  0.007966   \n",
      "18      18     1         17      5  0.770890  0.016294 -0.074732  0.088066   \n",
      "19      19     1         18      4  0.627163 -0.097067 -0.025499  0.007966   \n",
      "20      20     1         19      6  0.847298 -0.073881 -0.000717 -0.014110   \n",
      "21      21     1         20      4  0.770890  0.016294 -0.074732  0.088066   \n",
      "22      22     1         21      4  0.770890  0.016294 -0.074732  0.088066   \n",
      "23      23     1         22      4  0.736831 -0.030943  0.129126 -0.099866   \n",
      "24      24     1         23      4  0.736831 -0.030943  0.129126 -0.099866   \n",
      "25      25     1         24      4  0.736831 -0.030943  0.129126 -0.099866   \n",
      "26      26     2         25      4  0.734687  0.010251  0.042233 -0.145972   \n",
      "27      27     3         26      4  0.548220  0.130146  0.071811 -0.175091   \n",
      "28      28     3         27      7  0.821839  0.055197  0.082147 -0.215798   \n",
      "29      29     3         28      4  0.548220  0.130146  0.071811 -0.175091   \n",
      "...    ...   ...        ...    ...       ...       ...       ...       ...   \n",
      "3291  3291   262       2969      7  0.575507  0.002989 -0.041509  0.011353   \n",
      "3292  3292   262       2970      7  0.575507  0.002989 -0.041509  0.011353   \n",
      "3293  3293   262       2971      1  0.696524 -0.249449 -0.072155  0.195099   \n",
      "3294  3294   262       2972      7  0.768630 -0.054715 -0.003264  0.089875   \n",
      "3295  3295   262       2973      4  0.695261 -0.144456 -0.132381  0.055074   \n",
      "3296  3296   262       2974      7  0.854834 -0.103728 -0.032672 -0.029083   \n",
      "3297  3297   263       2975      4  0.847771  0.094497 -0.060880 -0.171335   \n",
      "3298  3298   263       2976      4  0.702302 -0.009286 -0.017044 -0.184276   \n",
      "3299  3299   263       2977      4  0.764183 -0.055895 -0.141559 -0.105863   \n",
      "3300  3300   263       2978      4  0.810513  0.090602 -0.061019 -0.173476   \n",
      "3301  3301   263       2979      4  0.822807  0.055720 -0.079623 -0.158744   \n",
      "3302  3302   263       2980      4  0.709623  0.109680 -0.013181 -0.196399   \n",
      "3303  3303   263       2981      4  0.702302 -0.009286 -0.017044 -0.184276   \n",
      "3304  3304   263       2982      4  0.709623  0.109680 -0.013181 -0.196399   \n",
      "3305  3305   263       2983      4  0.702302 -0.009286 -0.017044 -0.184276   \n",
      "3306  3306   263       2984      1  0.562800  0.091942  0.056623 -0.176667   \n",
      "3307  3307   263          0      1  0.856509  0.021615 -0.007194 -0.223333   \n",
      "3308  3308   263       2985      7  0.740741 -0.016847  0.030783 -0.228054   \n",
      "3309  3309   263       2986      1  0.764183 -0.055895 -0.141559 -0.105863   \n",
      "3310  3310   263         32      7  0.681357 -0.031077 -0.142136 -0.116339   \n",
      "3311  3311   263       2987      4  0.725024 -0.065327 -0.155645 -0.085396   \n",
      "3312  3312   263       2988      4  0.681477  0.044453 -0.106429 -0.092400   \n",
      "3313  3313   263       2989      4  0.764183 -0.055895 -0.141559 -0.105863   \n",
      "3314  3314   263       2990      6  0.827289  0.019614 -0.050000 -0.189742   \n",
      "3315  3315   263       2991      4  0.769596  0.046141 -0.125636 -0.106005   \n",
      "3316  3316   263       2992      4  0.809045  0.011575 -0.062510 -0.175297   \n",
      "3317  3317   263       2993      1  0.702302 -0.009286 -0.017044 -0.184276   \n",
      "3318  3318   263        261      1  0.637392  0.080116 -0.003743 -0.175387   \n",
      "3319  3319   263       2994      4  0.676291  0.097758 -0.007355 -0.177919   \n",
      "3320  3320   263       2995      4  0.810513  0.090602 -0.061019 -0.173476   \n",
      "\n",
      "             4         5    ...          190       191       192       193  \\\n",
      "0    -0.059877  0.006954    ...    -0.005886 -0.030538 -0.043847 -0.046483   \n",
      "1    -0.041580  0.007430    ...     0.006293 -0.010209  0.001563  0.015599   \n",
      "2    -0.041580  0.007430    ...     0.006293 -0.010209  0.001563  0.015599   \n",
      "3    -0.124374  0.136324    ...    -0.007413  0.026611 -0.040167 -0.010294   \n",
      "4    -0.016406  0.054946    ...     0.017350 -0.005004  0.008707 -0.023427   \n",
      "5    -0.016406  0.054946    ...     0.017350 -0.005004  0.008707 -0.023427   \n",
      "6    -0.016406  0.054946    ...     0.017350 -0.005004  0.008707 -0.023427   \n",
      "7    -0.133282  0.114018    ...     0.038109  0.000322  0.014537 -0.017525   \n",
      "8    -0.044400  0.067877    ...     0.006914  0.019635 -0.007584 -0.005934   \n",
      "9    -0.113947  0.109964    ...    -0.014477 -0.003703 -0.015579  0.013317   \n",
      "10   -0.016406  0.054946    ...     0.017350 -0.005004  0.008707 -0.023427   \n",
      "11   -0.037422  0.028112    ...     0.007496  0.007318 -0.011831 -0.011036   \n",
      "12   -0.099996  0.058094    ...    -0.020670  0.034437 -0.013967 -0.006310   \n",
      "13   -0.037422  0.028112    ...     0.007496  0.007318 -0.011831 -0.011036   \n",
      "14   -0.016406  0.054946    ...     0.017350 -0.005004  0.008707 -0.023427   \n",
      "15   -0.073202  0.069478    ...    -0.015141  0.016544 -0.011014 -0.008623   \n",
      "16   -0.065259  0.142300    ...     0.045680 -0.020271  0.008647  0.001006   \n",
      "17   -0.044986  0.070228    ...    -0.045920 -0.032855  0.001709  0.009026   \n",
      "18   -0.016406  0.054946    ...     0.017350 -0.005004  0.008707 -0.023427   \n",
      "19   -0.044986  0.070228    ...    -0.045920 -0.032855  0.001709  0.009026   \n",
      "20   -0.024504 -0.007999    ...     0.014248  0.003191  0.007892 -0.007348   \n",
      "21   -0.016406  0.054946    ...     0.017350 -0.005004  0.008707 -0.023427   \n",
      "22   -0.016406  0.054946    ...     0.017350 -0.005004  0.008707 -0.023427   \n",
      "23   -0.124374  0.136324    ...    -0.007413  0.026611 -0.040167 -0.010294   \n",
      "24   -0.124374  0.136324    ...    -0.007413  0.026611 -0.040167 -0.010294   \n",
      "25   -0.124374  0.136324    ...    -0.007413  0.026611 -0.040167 -0.010294   \n",
      "26    0.036457  0.028584    ...    -0.013402 -0.001751 -0.064447 -0.019230   \n",
      "27   -0.076827  0.199431    ...     0.051190  0.025497  0.002592 -0.017562   \n",
      "28    0.096382 -0.133759    ...    -0.019033  0.029326  0.040693  0.004392   \n",
      "29   -0.076827  0.199431    ...     0.051190  0.025497  0.002592 -0.017562   \n",
      "...        ...       ...    ...          ...       ...       ...       ...   \n",
      "3291 -0.111694  0.225052    ...     0.004947 -0.013917  0.008037  0.010586   \n",
      "3292 -0.111694  0.225052    ...     0.004947 -0.013917  0.008037  0.010586   \n",
      "3293 -0.127664  0.071507    ...    -0.006075 -0.014131  0.019163 -0.027582   \n",
      "3294 -0.091227  0.060526    ...    -0.041029 -0.002682  0.014862 -0.003021   \n",
      "3295 -0.075095  0.175027    ...    -0.016646 -0.012925  0.011992 -0.028157   \n",
      "3296 -0.104297  0.017012    ...     0.016508 -0.019394  0.038179 -0.000166   \n",
      "3297 -0.162692  0.018877    ...     0.010392  0.001047  0.014685  0.016806   \n",
      "3298 -0.186333  0.034210    ...     0.021102  0.029222  0.018784 -0.024706   \n",
      "3299 -0.165718 -0.015673    ...    -0.043453  0.008150 -0.021481  0.043167   \n",
      "3300 -0.163536  0.024099    ...     0.018293  0.004823  0.012052  0.023796   \n",
      "3301 -0.185350  0.030637    ...     0.030163  0.038616  0.029728 -0.000725   \n",
      "3302 -0.117387  0.116662    ...    -0.012271 -0.008592 -0.038048 -0.026183   \n",
      "3303 -0.186333  0.034210    ...     0.021102  0.029222  0.018784 -0.024706   \n",
      "3304 -0.117387  0.116662    ...    -0.012271 -0.008592 -0.038048 -0.026183   \n",
      "3305 -0.186333  0.034210    ...     0.021102  0.029222  0.018784 -0.024706   \n",
      "3306 -0.155081  0.128425    ...    -0.001112  0.026255  0.053274  0.046094   \n",
      "3307 -0.103899 -0.073083    ...    -0.021316 -0.012114  0.014491 -0.025390   \n",
      "3308 -0.180362  0.073590    ...     0.050005  0.007881 -0.030796 -0.057708   \n",
      "3309 -0.165718 -0.015673    ...    -0.043453  0.008150 -0.021481  0.043167   \n",
      "3310  0.008762 -0.285693    ...    -0.005750 -0.017063 -0.014297  0.042931   \n",
      "3311 -0.163265 -0.132523    ...     0.006745 -0.010706  0.031331 -0.010788   \n",
      "3312 -0.135527 -0.196130    ...     0.018054  0.005094 -0.030950  0.024393   \n",
      "3313 -0.165718 -0.015673    ...    -0.043453  0.008150 -0.021481  0.043167   \n",
      "3314 -0.211778  0.048298    ...    -0.016307  0.014358  0.030588 -0.023148   \n",
      "3315 -0.227417 -0.008958    ...    -0.000254 -0.051004  0.019595 -0.007846   \n",
      "3316 -0.196408  0.038283    ...    -0.015345  0.019852  0.012882 -0.021875   \n",
      "3317 -0.186333  0.034210    ...     0.021102  0.029222  0.018784 -0.024706   \n",
      "3318 -0.207126  0.028121    ...     0.016148 -0.005070  0.039133 -0.009972   \n",
      "3319 -0.121576  0.030510    ...     0.010367 -0.035845 -0.017621 -0.002856   \n",
      "3320 -0.163536  0.024099    ...     0.018293  0.004823  0.012052  0.023796   \n",
      "\n",
      "           194       195       196       197       198       199  \n",
      "0    -0.029222 -0.030321  0.006078  0.006505  0.000832  0.038781  \n",
      "1    -0.061117 -0.019817 -0.008002 -0.013135  0.020895 -0.004131  \n",
      "2    -0.061117 -0.019817 -0.008002 -0.013135  0.020895 -0.004131  \n",
      "3    -0.003892 -0.000336 -0.020463  0.001561 -0.011566  0.017275  \n",
      "4     0.005786  0.006215  0.000623 -0.011561  0.004161 -0.021144  \n",
      "5     0.005786  0.006215  0.000623 -0.011561  0.004161 -0.021144  \n",
      "6     0.005786  0.006215  0.000623 -0.011561  0.004161 -0.021144  \n",
      "7     0.002637 -0.015034 -0.006300  0.000235 -0.013799  0.013756  \n",
      "8     0.001153 -0.011711  0.006506  0.020003 -0.008262 -0.007735  \n",
      "9    -0.015123 -0.034472  0.031791  0.033627 -0.020596  0.005700  \n",
      "10    0.005786  0.006215  0.000623 -0.011561  0.004161 -0.021144  \n",
      "11    0.001992  0.025526 -0.008911  0.025986 -0.005871  0.015572  \n",
      "12   -0.023356  0.002332 -0.003883  0.022349  0.007811  0.005871  \n",
      "13    0.001992  0.025526 -0.008911  0.025986 -0.005871  0.015572  \n",
      "14    0.005786  0.006215  0.000623 -0.011561  0.004161 -0.021144  \n",
      "15   -0.011757  0.036661  0.002912  0.059421  0.009979  0.047469  \n",
      "16    0.007857  0.027280 -0.012845  0.015764 -0.011322  0.012325  \n",
      "17   -0.003624 -0.015894  0.077810  0.065422  0.031933  0.017346  \n",
      "18    0.005786  0.006215  0.000623 -0.011561  0.004161 -0.021144  \n",
      "19   -0.003624 -0.015894  0.077810  0.065422  0.031933  0.017346  \n",
      "20   -0.041243 -0.014937  0.000834 -0.012358  0.011681 -0.011939  \n",
      "21    0.005786  0.006215  0.000623 -0.011561  0.004161 -0.021144  \n",
      "22    0.005786  0.006215  0.000623 -0.011561  0.004161 -0.021144  \n",
      "23   -0.003892 -0.000336 -0.020463  0.001561 -0.011566  0.017275  \n",
      "24   -0.003892 -0.000336 -0.020463  0.001561 -0.011566  0.017275  \n",
      "25   -0.003892 -0.000336 -0.020463  0.001561 -0.011566  0.017275  \n",
      "26   -0.011610  0.009769 -0.010723  0.009216  0.022973 -0.012687  \n",
      "27    0.000213 -0.007854 -0.017087 -0.035288 -0.011735  0.004493  \n",
      "28   -0.031857  0.018676 -0.030642 -0.019146  0.002626 -0.008537  \n",
      "29    0.000213 -0.007854 -0.017087 -0.035288 -0.011735  0.004493  \n",
      "...        ...       ...       ...       ...       ...       ...  \n",
      "3291 -0.022215  0.002652 -0.001385  0.003064 -0.011788 -0.004643  \n",
      "3292 -0.022215  0.002652 -0.001385  0.003064 -0.011788 -0.004643  \n",
      "3293 -0.006295  0.000770  0.064364  0.007654 -0.016447 -0.006105  \n",
      "3294 -0.090097  0.000643  0.051401 -0.018229 -0.032687  0.058588  \n",
      "3295  0.022257 -0.007769 -0.003929 -0.005224 -0.002223  0.005499  \n",
      "3296  0.012810 -0.003350 -0.020040  0.013123  0.014798 -0.003755  \n",
      "3297  0.004226  0.000219 -0.002669  0.035109  0.010124 -0.041948  \n",
      "3298 -0.002752 -0.018136 -0.009724  0.017095  0.023091  0.033641  \n",
      "3299 -0.035901  0.040140  0.029449 -0.013997 -0.033071  0.032711  \n",
      "3300 -0.002088 -0.005967  0.008475  0.057484  0.025024 -0.061131  \n",
      "3301  0.016180 -0.009328  0.010171  0.028200  0.032033 -0.018142  \n",
      "3302  0.005382  0.027943  0.013831  0.000790 -0.009434 -0.036466  \n",
      "3303 -0.002752 -0.018136 -0.009724  0.017095  0.023091  0.033641  \n",
      "3304  0.005382  0.027943  0.013831  0.000790 -0.009434 -0.036466  \n",
      "3305 -0.002752 -0.018136 -0.009724  0.017095  0.023091  0.033641  \n",
      "3306  0.033137 -0.019297  0.000425  0.032212 -0.035051  0.050854  \n",
      "3307  0.018105 -0.018824  0.024114  0.026320  0.012590 -0.002257  \n",
      "3308 -0.027289 -0.013049  0.002099 -0.013908 -0.015363  0.024513  \n",
      "3309 -0.035901  0.040140  0.029449 -0.013997 -0.033071  0.032711  \n",
      "3310  0.000045 -0.006009  0.030012 -0.038932  0.040822 -0.004961  \n",
      "3311  0.005426 -0.004588 -0.040902 -0.012229 -0.015914  0.024529  \n",
      "3312 -0.008377 -0.029608  0.029302  0.006071  0.024157 -0.009883  \n",
      "3313 -0.035901  0.040140  0.029449 -0.013997 -0.033071  0.032711  \n",
      "3314 -0.003843  0.000642  0.002444  0.022450  0.010071  0.029316  \n",
      "3315 -0.020361 -0.000148 -0.016661 -0.021681 -0.001256 -0.031724  \n",
      "3316 -0.002575  0.004468  0.009146  0.020809  0.007825  0.029760  \n",
      "3317 -0.002752 -0.018136 -0.009724  0.017095  0.023091  0.033641  \n",
      "3318 -0.060385 -0.034030  0.030954  0.015311  0.009468 -0.023353  \n",
      "3319 -0.016178 -0.002247 -0.027984  0.069209  0.017083 -0.054403  \n",
      "3320 -0.002088 -0.005967  0.008475  0.057484  0.025024 -0.061131  \n",
      "\n",
      "[3321 rows x 204 columns]\n"
     ]
    }
   ],
   "source": [
    "print(train_df)"
   ]
  },
  {
   "cell_type": "code",
   "execution_count": 26,
   "metadata": {},
   "outputs": [
    {
     "name": "stdout",
     "output_type": "stream",
     "text": [
      "Format a Train and Validation Set for XGB\n",
      "      Gene  Variation         0         1         2         3         4  \\\n",
      "2584   213       2344  0.792837  0.464723 -0.019916  0.176561 -0.011646   \n",
      "41       4          0  0.857841  0.106734  0.078842 -0.242670  0.035995   \n",
      "3158   241       2875  0.768989 -0.121276 -0.140588  0.010308  0.128111   \n",
      "3043   229       2789  0.872104 -0.227419  0.162298  0.016134 -0.083465   \n",
      "1423   114       1288  0.860835 -0.166277 -0.059200 -0.061887 -0.072811   \n",
      "\n",
      "             5         6         7    ...          190       191       192  \\\n",
      "2584 -0.135318 -0.045641 -0.100110    ...    -0.001022  0.000665 -0.002870   \n",
      "41   -0.064959 -0.061499 -0.002669    ...     0.000714  0.001858 -0.009130   \n",
      "3158 -0.032617  0.294138 -0.069502    ...    -0.001599 -0.009235 -0.009479   \n",
      "3043  0.039937  0.006146 -0.008942    ...     0.003236  0.000081 -0.011761   \n",
      "1423 -0.029517  0.003831  0.167234    ...     0.004717  0.015177  0.021312   \n",
      "\n",
      "           193       194       195       196       197       198       199  \n",
      "2584  0.009055 -0.011459 -0.017612 -0.004340  0.011818 -0.009221  0.013653  \n",
      "41    0.025027 -0.007908 -0.012682 -0.000637 -0.006637 -0.007784  0.022421  \n",
      "3158 -0.000348 -0.010400 -0.002671 -0.019440  0.004977  0.036054  0.023018  \n",
      "3043  0.015548 -0.002857  0.004516  0.001910 -0.002944 -0.005254 -0.003528  \n",
      "1423 -0.000584 -0.003189 -0.001864 -0.012825  0.003392 -0.005406  0.016441  \n",
      "\n",
      "[5 rows x 202 columns]\n"
     ]
    },
    {
     "name": "stderr",
     "output_type": "stream",
     "text": [
      "C:\\Users\\Linggih\\Anaconda3\\envs\\tensorflow\\lib\\site-packages\\sklearn\\grid_search.py:42: DeprecationWarning: This module was deprecated in version 0.18 in favor of the model_selection module into which all the refactored classes and functions are moved. This module will be removed in 0.20.\n",
      "  DeprecationWarning)\n"
     ]
    }
   ],
   "source": [
    "# Import XGB here\n",
    "import xgboost as xgb\n",
    "from xgboost.sklearn import XGBClassifier\n",
    "from sklearn import cross_validation, metrics\n",
    "from sklearn.grid_search import GridSearchCV\n",
    "\n",
    "print('Format a Train and Validation Set for XGB')\n",
    "#xgb_train = xgb(data = X_train, label= y_train)\n",
    "print(X_train.head())"
   ]
  },
  {
   "cell_type": "code",
   "execution_count": 28,
   "metadata": {},
   "outputs": [
    {
     "name": "stdout",
     "output_type": "stream",
     "text": [
      "[0]\ttrain-mlogloss:2.14453\tvalid-mlogloss:2.15272\n",
      "Multiple eval metrics have been passed: 'valid-mlogloss' will be used for early stopping.\n",
      "\n",
      "Will train until valid-mlogloss hasn't improved in 200 rounds.\n",
      "[50]\ttrain-mlogloss:1.11272\tvalid-mlogloss:1.33714\n",
      "[100]\ttrain-mlogloss:0.791568\tvalid-mlogloss:1.13453\n",
      "[150]\ttrain-mlogloss:0.621857\tvalid-mlogloss:1.0487\n",
      "[200]\ttrain-mlogloss:0.505418\tvalid-mlogloss:1.008\n",
      "[250]\ttrain-mlogloss:0.423948\tvalid-mlogloss:0.991048\n",
      "[300]\ttrain-mlogloss:0.366048\tvalid-mlogloss:0.98716\n",
      "[350]\ttrain-mlogloss:0.324272\tvalid-mlogloss:0.987306\n",
      "[400]\ttrain-mlogloss:0.291088\tvalid-mlogloss:0.990285\n",
      "[450]\ttrain-mlogloss:0.264263\tvalid-mlogloss:0.997273\n",
      "[500]\ttrain-mlogloss:0.241552\tvalid-mlogloss:1.00399\n",
      "Stopping. Best iteration:\n",
      "[310]\ttrain-mlogloss:0.356543\tvalid-mlogloss:0.986669\n",
      "\n",
      "Empty DataFrame\n",
      "Columns: []\n",
      "Index: []\n",
      "0.986669131918\n"
     ]
    }
   ],
   "source": [
    "from sklearn import metrics\n",
    "params = {\n",
    "        'eta': 0.03,\n",
    "        'max_depth':4,\n",
    "        \n",
    "        'objective': 'multi:softprob',\n",
    "        'eval_metric': 'mlogloss',\n",
    "        'num_class': 9,\n",
    "        'gamma': 0,\n",
    "        'seed': 0,\n",
    "        'silent': True}\n",
    "watchlist = [(xgb.DMatrix(X_train, y_train), 'train'), (xgb.DMatrix(X_test, y_test), 'valid')]\n",
    "model = xgb.train(params, xgb.DMatrix(X_train, y_train), 1000,  watchlist, verbose_eval=50, early_stopping_rounds=100)\n",
    "cross_validation = xgb.cv(params, xgb.DMatrix(X_train, y_train), num_boost_round=0, nfold=5, metrics='mlogloss', early_stopping_rounds=100)\n",
    "print(cross_validation)\n",
    "\n",
    "score1 = metrics.log_loss(y_test, model.predict(xgb.DMatrix(X_test), ntree_limit=model.best_ntree_limit), labels = list(range(9)))\n",
    "print(score1)"
   ]
  },
  {
   "cell_type": "code",
   "execution_count": 29,
   "metadata": {
    "collapsed": true
   },
   "outputs": [],
   "source": [
    "pred = model.predict(xgb.DMatrix(test_df.drop(['ID'], axis=1)), ntree_limit=model.best_ntree_limit+80)"
   ]
  },
  {
   "cell_type": "code",
   "execution_count": 30,
   "metadata": {
    "collapsed": true
   },
   "outputs": [],
   "source": [
    "submission = pd.DataFrame(pred, columns=['class'+str(c+1) for c in range(9)])\n",
    "submission['ID'] = test_df.index"
   ]
  },
  {
   "cell_type": "code",
   "execution_count": 31,
   "metadata": {},
   "outputs": [
    {
     "data": {
      "text/html": [
       "<div>\n",
       "<style>\n",
       "    .dataframe thead tr:only-child th {\n",
       "        text-align: right;\n",
       "    }\n",
       "\n",
       "    .dataframe thead th {\n",
       "        text-align: left;\n",
       "    }\n",
       "\n",
       "    .dataframe tbody tr th {\n",
       "        vertical-align: top;\n",
       "    }\n",
       "</style>\n",
       "<table border=\"1\" class=\"dataframe\">\n",
       "  <thead>\n",
       "    <tr style=\"text-align: right;\">\n",
       "      <th></th>\n",
       "      <th>class1</th>\n",
       "      <th>class2</th>\n",
       "      <th>class3</th>\n",
       "      <th>class4</th>\n",
       "      <th>class5</th>\n",
       "      <th>class6</th>\n",
       "      <th>class7</th>\n",
       "      <th>class8</th>\n",
       "      <th>class9</th>\n",
       "      <th>ID</th>\n",
       "    </tr>\n",
       "  </thead>\n",
       "  <tbody>\n",
       "    <tr>\n",
       "      <th>0</th>\n",
       "      <td>0.256817</td>\n",
       "      <td>0.516203</td>\n",
       "      <td>0.001349</td>\n",
       "      <td>0.011772</td>\n",
       "      <td>0.025340</td>\n",
       "      <td>0.057674</td>\n",
       "      <td>0.129500</td>\n",
       "      <td>0.000547</td>\n",
       "      <td>0.000798</td>\n",
       "      <td>0</td>\n",
       "    </tr>\n",
       "    <tr>\n",
       "      <th>1</th>\n",
       "      <td>0.925835</td>\n",
       "      <td>0.016704</td>\n",
       "      <td>0.000418</td>\n",
       "      <td>0.034601</td>\n",
       "      <td>0.008842</td>\n",
       "      <td>0.004602</td>\n",
       "      <td>0.008147</td>\n",
       "      <td>0.000172</td>\n",
       "      <td>0.000679</td>\n",
       "      <td>1</td>\n",
       "    </tr>\n",
       "    <tr>\n",
       "      <th>2</th>\n",
       "      <td>0.378180</td>\n",
       "      <td>0.351787</td>\n",
       "      <td>0.004961</td>\n",
       "      <td>0.010531</td>\n",
       "      <td>0.036378</td>\n",
       "      <td>0.018486</td>\n",
       "      <td>0.196887</td>\n",
       "      <td>0.001898</td>\n",
       "      <td>0.000892</td>\n",
       "      <td>2</td>\n",
       "    </tr>\n",
       "    <tr>\n",
       "      <th>3</th>\n",
       "      <td>0.530639</td>\n",
       "      <td>0.192584</td>\n",
       "      <td>0.003711</td>\n",
       "      <td>0.014973</td>\n",
       "      <td>0.057392</td>\n",
       "      <td>0.010924</td>\n",
       "      <td>0.188108</td>\n",
       "      <td>0.000793</td>\n",
       "      <td>0.000875</td>\n",
       "      <td>3</td>\n",
       "    </tr>\n",
       "    <tr>\n",
       "      <th>4</th>\n",
       "      <td>0.757632</td>\n",
       "      <td>0.023700</td>\n",
       "      <td>0.000293</td>\n",
       "      <td>0.197049</td>\n",
       "      <td>0.001942</td>\n",
       "      <td>0.008176</td>\n",
       "      <td>0.010370</td>\n",
       "      <td>0.000360</td>\n",
       "      <td>0.000477</td>\n",
       "      <td>4</td>\n",
       "    </tr>\n",
       "    <tr>\n",
       "      <th>5</th>\n",
       "      <td>0.511034</td>\n",
       "      <td>0.009169</td>\n",
       "      <td>0.000882</td>\n",
       "      <td>0.456322</td>\n",
       "      <td>0.008208</td>\n",
       "      <td>0.009633</td>\n",
       "      <td>0.003069</td>\n",
       "      <td>0.000954</td>\n",
       "      <td>0.000729</td>\n",
       "      <td>5</td>\n",
       "    </tr>\n",
       "    <tr>\n",
       "      <th>6</th>\n",
       "      <td>0.670452</td>\n",
       "      <td>0.173700</td>\n",
       "      <td>0.001454</td>\n",
       "      <td>0.081784</td>\n",
       "      <td>0.005679</td>\n",
       "      <td>0.025091</td>\n",
       "      <td>0.040114</td>\n",
       "      <td>0.001233</td>\n",
       "      <td>0.000492</td>\n",
       "      <td>6</td>\n",
       "    </tr>\n",
       "    <tr>\n",
       "      <th>7</th>\n",
       "      <td>0.654765</td>\n",
       "      <td>0.028430</td>\n",
       "      <td>0.000652</td>\n",
       "      <td>0.211542</td>\n",
       "      <td>0.025734</td>\n",
       "      <td>0.011448</td>\n",
       "      <td>0.065955</td>\n",
       "      <td>0.000454</td>\n",
       "      <td>0.001019</td>\n",
       "      <td>7</td>\n",
       "    </tr>\n",
       "    <tr>\n",
       "      <th>8</th>\n",
       "      <td>0.088532</td>\n",
       "      <td>0.419668</td>\n",
       "      <td>0.005340</td>\n",
       "      <td>0.241633</td>\n",
       "      <td>0.028862</td>\n",
       "      <td>0.063404</td>\n",
       "      <td>0.145417</td>\n",
       "      <td>0.004310</td>\n",
       "      <td>0.002835</td>\n",
       "      <td>8</td>\n",
       "    </tr>\n",
       "    <tr>\n",
       "      <th>9</th>\n",
       "      <td>0.018325</td>\n",
       "      <td>0.489189</td>\n",
       "      <td>0.008935</td>\n",
       "      <td>0.081264</td>\n",
       "      <td>0.019798</td>\n",
       "      <td>0.130627</td>\n",
       "      <td>0.248391</td>\n",
       "      <td>0.001466</td>\n",
       "      <td>0.002006</td>\n",
       "      <td>9</td>\n",
       "    </tr>\n",
       "    <tr>\n",
       "      <th>10</th>\n",
       "      <td>0.006875</td>\n",
       "      <td>0.627841</td>\n",
       "      <td>0.002070</td>\n",
       "      <td>0.133790</td>\n",
       "      <td>0.031597</td>\n",
       "      <td>0.023927</td>\n",
       "      <td>0.170541</td>\n",
       "      <td>0.001575</td>\n",
       "      <td>0.001783</td>\n",
       "      <td>10</td>\n",
       "    </tr>\n",
       "    <tr>\n",
       "      <th>11</th>\n",
       "      <td>0.018000</td>\n",
       "      <td>0.194633</td>\n",
       "      <td>0.020433</td>\n",
       "      <td>0.330386</td>\n",
       "      <td>0.037336</td>\n",
       "      <td>0.054085</td>\n",
       "      <td>0.338241</td>\n",
       "      <td>0.003989</td>\n",
       "      <td>0.002897</td>\n",
       "      <td>11</td>\n",
       "    </tr>\n",
       "    <tr>\n",
       "      <th>12</th>\n",
       "      <td>0.072873</td>\n",
       "      <td>0.008376</td>\n",
       "      <td>0.001056</td>\n",
       "      <td>0.039368</td>\n",
       "      <td>0.189989</td>\n",
       "      <td>0.673120</td>\n",
       "      <td>0.012882</td>\n",
       "      <td>0.000900</td>\n",
       "      <td>0.001436</td>\n",
       "      <td>12</td>\n",
       "    </tr>\n",
       "    <tr>\n",
       "      <th>13</th>\n",
       "      <td>0.020649</td>\n",
       "      <td>0.420742</td>\n",
       "      <td>0.002682</td>\n",
       "      <td>0.156255</td>\n",
       "      <td>0.051582</td>\n",
       "      <td>0.051406</td>\n",
       "      <td>0.293073</td>\n",
       "      <td>0.001506</td>\n",
       "      <td>0.002104</td>\n",
       "      <td>13</td>\n",
       "    </tr>\n",
       "    <tr>\n",
       "      <th>14</th>\n",
       "      <td>0.005133</td>\n",
       "      <td>0.762388</td>\n",
       "      <td>0.003298</td>\n",
       "      <td>0.019114</td>\n",
       "      <td>0.023324</td>\n",
       "      <td>0.036223</td>\n",
       "      <td>0.147978</td>\n",
       "      <td>0.001269</td>\n",
       "      <td>0.001273</td>\n",
       "      <td>14</td>\n",
       "    </tr>\n",
       "    <tr>\n",
       "      <th>15</th>\n",
       "      <td>0.007860</td>\n",
       "      <td>0.459836</td>\n",
       "      <td>0.018495</td>\n",
       "      <td>0.190311</td>\n",
       "      <td>0.037127</td>\n",
       "      <td>0.013694</td>\n",
       "      <td>0.262648</td>\n",
       "      <td>0.002996</td>\n",
       "      <td>0.007034</td>\n",
       "      <td>15</td>\n",
       "    </tr>\n",
       "    <tr>\n",
       "      <th>16</th>\n",
       "      <td>0.045301</td>\n",
       "      <td>0.346122</td>\n",
       "      <td>0.003442</td>\n",
       "      <td>0.312887</td>\n",
       "      <td>0.037897</td>\n",
       "      <td>0.032810</td>\n",
       "      <td>0.216297</td>\n",
       "      <td>0.002038</td>\n",
       "      <td>0.003205</td>\n",
       "      <td>16</td>\n",
       "    </tr>\n",
       "    <tr>\n",
       "      <th>17</th>\n",
       "      <td>0.005786</td>\n",
       "      <td>0.574262</td>\n",
       "      <td>0.004384</td>\n",
       "      <td>0.040213</td>\n",
       "      <td>0.035205</td>\n",
       "      <td>0.012080</td>\n",
       "      <td>0.324864</td>\n",
       "      <td>0.001604</td>\n",
       "      <td>0.001602</td>\n",
       "      <td>17</td>\n",
       "    </tr>\n",
       "    <tr>\n",
       "      <th>18</th>\n",
       "      <td>0.019276</td>\n",
       "      <td>0.144110</td>\n",
       "      <td>0.002668</td>\n",
       "      <td>0.600536</td>\n",
       "      <td>0.022382</td>\n",
       "      <td>0.014733</td>\n",
       "      <td>0.192583</td>\n",
       "      <td>0.001429</td>\n",
       "      <td>0.002283</td>\n",
       "      <td>18</td>\n",
       "    </tr>\n",
       "    <tr>\n",
       "      <th>19</th>\n",
       "      <td>0.001985</td>\n",
       "      <td>0.035017</td>\n",
       "      <td>0.843863</td>\n",
       "      <td>0.007561</td>\n",
       "      <td>0.010297</td>\n",
       "      <td>0.002264</td>\n",
       "      <td>0.098001</td>\n",
       "      <td>0.000384</td>\n",
       "      <td>0.000627</td>\n",
       "      <td>19</td>\n",
       "    </tr>\n",
       "  </tbody>\n",
       "</table>\n",
       "</div>"
      ],
      "text/plain": [
       "      class1    class2    class3    class4    class5    class6    class7  \\\n",
       "0   0.256817  0.516203  0.001349  0.011772  0.025340  0.057674  0.129500   \n",
       "1   0.925835  0.016704  0.000418  0.034601  0.008842  0.004602  0.008147   \n",
       "2   0.378180  0.351787  0.004961  0.010531  0.036378  0.018486  0.196887   \n",
       "3   0.530639  0.192584  0.003711  0.014973  0.057392  0.010924  0.188108   \n",
       "4   0.757632  0.023700  0.000293  0.197049  0.001942  0.008176  0.010370   \n",
       "5   0.511034  0.009169  0.000882  0.456322  0.008208  0.009633  0.003069   \n",
       "6   0.670452  0.173700  0.001454  0.081784  0.005679  0.025091  0.040114   \n",
       "7   0.654765  0.028430  0.000652  0.211542  0.025734  0.011448  0.065955   \n",
       "8   0.088532  0.419668  0.005340  0.241633  0.028862  0.063404  0.145417   \n",
       "9   0.018325  0.489189  0.008935  0.081264  0.019798  0.130627  0.248391   \n",
       "10  0.006875  0.627841  0.002070  0.133790  0.031597  0.023927  0.170541   \n",
       "11  0.018000  0.194633  0.020433  0.330386  0.037336  0.054085  0.338241   \n",
       "12  0.072873  0.008376  0.001056  0.039368  0.189989  0.673120  0.012882   \n",
       "13  0.020649  0.420742  0.002682  0.156255  0.051582  0.051406  0.293073   \n",
       "14  0.005133  0.762388  0.003298  0.019114  0.023324  0.036223  0.147978   \n",
       "15  0.007860  0.459836  0.018495  0.190311  0.037127  0.013694  0.262648   \n",
       "16  0.045301  0.346122  0.003442  0.312887  0.037897  0.032810  0.216297   \n",
       "17  0.005786  0.574262  0.004384  0.040213  0.035205  0.012080  0.324864   \n",
       "18  0.019276  0.144110  0.002668  0.600536  0.022382  0.014733  0.192583   \n",
       "19  0.001985  0.035017  0.843863  0.007561  0.010297  0.002264  0.098001   \n",
       "\n",
       "      class8    class9  ID  \n",
       "0   0.000547  0.000798   0  \n",
       "1   0.000172  0.000679   1  \n",
       "2   0.001898  0.000892   2  \n",
       "3   0.000793  0.000875   3  \n",
       "4   0.000360  0.000477   4  \n",
       "5   0.000954  0.000729   5  \n",
       "6   0.001233  0.000492   6  \n",
       "7   0.000454  0.001019   7  \n",
       "8   0.004310  0.002835   8  \n",
       "9   0.001466  0.002006   9  \n",
       "10  0.001575  0.001783  10  \n",
       "11  0.003989  0.002897  11  \n",
       "12  0.000900  0.001436  12  \n",
       "13  0.001506  0.002104  13  \n",
       "14  0.001269  0.001273  14  \n",
       "15  0.002996  0.007034  15  \n",
       "16  0.002038  0.003205  16  \n",
       "17  0.001604  0.001602  17  \n",
       "18  0.001429  0.002283  18  \n",
       "19  0.000384  0.000627  19  "
      ]
     },
     "execution_count": 31,
     "metadata": {},
     "output_type": "execute_result"
    }
   ],
   "source": [
    "submission.head(20)"
   ]
  },
  {
   "cell_type": "code",
   "execution_count": 32,
   "metadata": {
    "collapsed": true
   },
   "outputs": [],
   "source": [
    "import datetime\n",
    "now = datetime.datetime.now()\n",
    "submission.to_csv('xgb_'+str(now.strftime(\"%Y-%m-%d-%H-%M\"))+'.csv', index=False)"
   ]
  },
  {
   "cell_type": "code",
   "execution_count": 33,
   "metadata": {
    "collapsed": true
   },
   "outputs": [],
   "source": [
    "test_var_stage2 = pd.read_csv('stage2_test_variants')\n",
    "test_x_stage2 = pd.read_csv('stage2_test_text.csv', sep=\"\\|\\|\", engine='python', header=None, skiprows=1, names=[\"ID\",\"Text\"])\n"
   ]
  },
  {
   "cell_type": "code",
   "execution_count": 34,
   "metadata": {
    "collapsed": true
   },
   "outputs": [],
   "source": [
    "trial2 = test_x_stage2\n",
    "numbers = []\n",
    "\n",
    "for i in range(0, len(test_x_stage2)):\n",
    "    try:\n",
    "        if int(test_x_stage2.ID[i]):\n",
    "            continue\n",
    "    except:\n",
    "        numbers.append(i)\n",
    "        "
   ]
  },
  {
   "cell_type": "code",
   "execution_count": 35,
   "metadata": {},
   "outputs": [
    {
     "name": "stdout",
     "output_type": "stream",
     "text": [
      "986\n",
      "True\n",
      "989\n"
     ]
    }
   ],
   "source": [
    "whole_text = []\n",
    "for i in numbers:\n",
    "    i = int(i)\n",
    "    step = test_x_stage2.Text[i-1] + test_x_stage2.ID[i]\n",
    "    trial2.set_value(i-1, 'Text', step)\n",
    "\n",
    "trial2_dropped = trial2.drop([16, 208, 791])\n",
    "\n",
    "print(len(trial2_dropped))\n",
    "print(test_x_stage2.Text[15] == trial2.Text[15])\n",
    "\n",
    "print(len(trial2))\n"
   ]
  },
  {
   "cell_type": "code",
   "execution_count": 36,
   "metadata": {
    "collapsed": true
   },
   "outputs": [],
   "source": [
    "test_text_stage2 = trial2_dropped.Text\n"
   ]
  },
  {
   "cell_type": "code",
   "execution_count": 37,
   "metadata": {},
   "outputs": [
    {
     "name": "stdout",
     "output_type": "stream",
     "text": [
      "Factorize...\n",
      "tfidf...\n",
      "lsa\n"
     ]
    }
   ],
   "source": [
    "test_text_stage2_clean = []\n",
    "\n",
    "\n",
    "for i in test_text_stage2:\n",
    "    meta = cleaning(i)\n",
    "    test_text_stage2_clean.append(meta)\n",
    "    \n",
    "    \n",
    "test_tex_stage2_clean = tfidf.fit(test_text_stage2_clean)\n",
    "test_tex_stage2_clean = countvec.fit(test_text_stage2_clean)\n",
    "\n",
    "test_stage2_df, test_stage2_columns = featuresEngineering(test_text_stage2_clean, test_var_stage2)\n"
   ]
  },
  {
   "cell_type": "code",
   "execution_count": 38,
   "metadata": {},
   "outputs": [
    {
     "name": "stdout",
     "output_type": "stream",
     "text": [
      "986\n",
      "986\n"
     ]
    }
   ],
   "source": [
    "print(len(test_text_stage2_clean))\n",
    "print(len(test_var_stage2))\n"
   ]
  },
  {
   "cell_type": "code",
   "execution_count": 39,
   "metadata": {
    "collapsed": true
   },
   "outputs": [],
   "source": [
    "pred_stage2 = model.predict(xgb.DMatrix(test_stage2_df.drop(['ID'], axis=1)), ntree_limit=model.best_ntree_limit)"
   ]
  },
  {
   "cell_type": "code",
   "execution_count": 40,
   "metadata": {},
   "outputs": [
    {
     "name": "stdout",
     "output_type": "stream",
     "text": [
      "RangeIndex(start=0, stop=986, step=1)\n",
      "None\n"
     ]
    }
   ],
   "source": [
    "def generateSubmission(file):\n",
    "    submission_stage2 = pd.DataFrame(file, columns=['class'+str(c+1) for c in range(9)])\n",
    "    #submission_stage2 = pd.DataFrame(pred_stage2, columns=['class'+str(c+1) for c in range(9)])\n",
    "    #test_stage2_df.index +=1\n",
    "    stage2_id = test_stage2_df.index\n",
    "    submission_stage2.insert(loc=0, column='ID', value=stage2_id)\n",
    "    \n",
    "    import datetime\n",
    "    now = datetime.datetime.now()\n",
    "    \n",
    "    submission_stage2.to_csv('xgb_stage2_'+str(now.strftime(\"%Y-%m-%d-%H-%M\"))+'.csv', index=False)\n",
    "    print(test_stage2_df.index)\n",
    "    \n",
    "print(generateSubmission(pred_stage2))"
   ]
  },
  {
   "cell_type": "code",
   "execution_count": null,
   "metadata": {
    "collapsed": true
   },
   "outputs": [],
   "source": []
  }
 ],
 "metadata": {
  "kernelspec": {
   "display_name": "Python 3",
   "language": "python",
   "name": "python3"
  },
  "language_info": {
   "codemirror_mode": {
    "name": "ipython",
    "version": 3
   },
   "file_extension": ".py",
   "mimetype": "text/x-python",
   "name": "python",
   "nbconvert_exporter": "python",
   "pygments_lexer": "ipython3",
   "version": "3.5.4"
  }
 },
 "nbformat": 4,
 "nbformat_minor": 1
}
