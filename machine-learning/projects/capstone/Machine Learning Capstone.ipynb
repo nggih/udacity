{
 "cells": [
  {
   "cell_type": "markdown",
   "metadata": {
    "_cell_guid": "43c38433-6d17-4b1e-9f2a-bca4f692489a",
    "_execution_state": "idle",
    "_uuid": "ea7d07e39f8c6160c05767de0c4f7f6489ebe8df"
   },
   "source": [
    "Machine Learning Capstone\n",
    "============================="
   ]
  },
  {
   "cell_type": "markdown",
   "metadata": {},
   "source": [
    "In using the XGBOOST, I used some code from \n",
    " https://www.kaggle.com/tunguz/redefining-treatment-0-57456?scriptVersionId=1349580"
   ]
  },
  {
   "cell_type": "code",
   "execution_count": 1,
   "metadata": {},
   "outputs": [
    {
     "name": "stderr",
     "output_type": "stream",
     "text": [
      "C:\\Users\\Linggih\\Anaconda3\\envs\\tensorflow\\lib\\site-packages\\sklearn\\cross_validation.py:41: DeprecationWarning: This module was deprecated in version 0.18 in favor of the model_selection module into which all the refactored classes and functions are moved. Also note that the interface of the new CV iterators are different from that of this module. This module will be removed in 0.20.\n",
      "  \"This module will be removed in 0.20.\", DeprecationWarning)\n"
     ]
    }
   ],
   "source": [
    "import numpy as np # linear algebra\n",
    "import pandas as pd # data processing, CSV file I/O (e.g. pd.read_csv)\n",
    "import matplotlib.pyplot as plt\n",
    "import seaborn as sns\n",
    "import xgboost as xgb\n",
    "\n",
    "from sklearn.feature_extraction.text import TfidfVectorizer\n",
    "from sklearn.feature_extraction.text import CountVectorizer\n",
    "\n",
    "color = sns.color_palette()\n",
    "\n",
    "%matplotlib inline\n",
    "\n"
   ]
  },
  {
   "cell_type": "code",
   "execution_count": 2,
   "metadata": {
    "_cell_guid": "e99beda1-d7bb-4de3-916c-327d1f2d87e2",
    "_execution_state": "busy",
    "_uuid": "92a8330e090e0074e540f721894351f10a6946d6"
   },
   "outputs": [
    {
     "name": "stdout",
     "output_type": "stream",
     "text": [
      "3321\n",
      "5668\n"
     ]
    }
   ],
   "source": [
    "import pandas as pd\n",
    "import numpy as np\n",
    "\n",
    "train = pd.read_csv('training_variants')\n",
    "test = pd.read_csv('test_variants')\n",
    "trainx = pd.read_csv('training_text', sep=\"\\|\\|\", engine='python', header=None, skiprows=1, names=[\"ID\",\"Text\"])\n",
    "testx = pd.read_csv('test_text', sep=\"\\|\\|\", engine='python', header=None, skiprows=1, names=[\"ID\",\"Text\"])\n",
    "'''\n",
    "train = pd.merge(train, trainx, how='left', on='ID').fillna('')\n",
    "y = train['Class'].values\n",
    "train = train.drop(['Class'], axis=1)\n",
    "\n",
    "test = pd.merge(test, testx, how='left', on='ID').fillna('')\n",
    "pid = test['ID'].values\n",
    "\n",
    "'''\n",
    "# Separate X and Y.\n",
    "df_all = pd.concat((train, test), axis=0, ignore_index=True)\n",
    "#df_all['Gene_Share'] = df_all.apply(lambda r: sum([1 for w in r['Gene'].split(' ') if w in r['Text'].split(' ')]), axis=1)\n",
    "#df_all['Variation_Share'] = df_all.apply(lambda r: sum([1 for w in r['Variation'].split(' ') if w in r['Text'].split(' ')]), axis=1)\n",
    "\n",
    "print(len(train))\n",
    "print(len(test))"
   ]
  },
  {
   "cell_type": "code",
   "execution_count": 3,
   "metadata": {},
   "outputs": [
    {
     "name": "stdout",
     "output_type": "stream",
     "text": [
      "Train Variants and Text shape:  (3321, 4) (3321, 2)\n",
      "Test Variants and Text shape:  (5668, 3) (5668, 2)\n"
     ]
    }
   ],
   "source": [
    "print(\"Train Variants and Text shape: \", train.shape, trainx.shape)\n",
    "print(\"Test Variants and Text shape: \", test.shape, testx.shape)"
   ]
  },
  {
   "cell_type": "code",
   "execution_count": 4,
   "metadata": {},
   "outputs": [
    {
     "name": "stdout",
     "output_type": "stream",
     "text": [
      "   ID    Gene             Variation  Class\n",
      "0   0  FAM58A  Truncating Mutations      1\n",
      "1   1     CBL                 W802*      2\n",
      "2   2     CBL                 Q249E      2\n",
      "3   3     CBL                 N454D      3\n",
      "4   4     CBL                 L399V      4\n",
      "   ID                                               Text\n",
      "0   0  Cyclin-dependent kinases (CDKs) regulate a var...\n",
      "1   1   Abstract Background  Non-small cell lung canc...\n",
      "2   2   Abstract Background  Non-small cell lung canc...\n",
      "3   3  Recent evidence has demonstrated that acquired...\n",
      "4   4  Oncogenic mutations in the monomeric Casitas B...\n"
     ]
    }
   ],
   "source": [
    "print(train.head())\n",
    "print(trainx.head())"
   ]
  },
  {
   "cell_type": "code",
   "execution_count": 5,
   "metadata": {
    "collapsed": true
   },
   "outputs": [],
   "source": [
    "train_text = trainx.Text\n",
    "test_text = testx.Text"
   ]
  },
  {
   "cell_type": "code",
   "execution_count": 6,
   "metadata": {},
   "outputs": [
    {
     "data": {
      "image/png": "[encoded data removed]",
      "text/plain": [
       "<matplotlib.figure.Figure at 0x1308db25d68>"
      ]
     },
     "metadata": {},
     "output_type": "display_data"
    }
   ],
   "source": [
    "plt.figure(figsize=(12,8))\n",
    "sns.countplot(x=\"Class\", data=train, palette=\"GnBu_d\")\n",
    "\n",
    "plt.ylabel('Frequency', fontsize=12)\n",
    "plt.xlabel('Class Count', fontsize=12)\n",
    "plt.xticks(rotation='vertical')\n",
    "plt.title(\"Frequency of Classes\", fontsize=15)\n",
    "plt.show()\n"
   ]
  },
  {
   "cell_type": "code",
   "execution_count": 7,
   "metadata": {},
   "outputs": [
    {
     "data": {
      "image/png": "[encoded data removed]",
      "text/plain": [
       "<matplotlib.figure.Figure at 0x13084bbbfd0>"
      ]
     },
     "metadata": {},
     "output_type": "display_data"
    }
   ],
   "source": [
    "# The most common genes\n",
    "total_gene = train.Gene.value_counts()\n",
    "count_gene = total_gene[0:20].plot(kind='bar', title=\"Frequencies by Genes\")\n",
    "count_gene.set_xlabel('Genes')\n",
    "count_gene.set_ylabel('Frequencies')\n",
    "plt.show()"
   ]
  },
  {
   "cell_type": "code",
   "execution_count": 8,
   "metadata": {
    "scrolled": true
   },
   "outputs": [
    {
     "data": {
      "image/png": "[encoded data removed]",
      "text/plain": [
       "<matplotlib.figure.Figure at 0x130bf4dda90>"
      ]
     },
     "metadata": {},
     "output_type": "display_data"
    }
   ],
   "source": [
    "# THe most common variations\n",
    "common_variations = train.Variation.value_counts()\n",
    "count_variations = common_variations[0:20].plot(kind='bar', title='Frequencies vs Variations')\n",
    "count_variations.set_xlabel('Variations')\n",
    "count_variations.set_ylabel('Frequencies')\n",
    "plt.show()"
   ]
  },
  {
   "cell_type": "code",
   "execution_count": 9,
   "metadata": {},
   "outputs": [
    {
     "data": {
      "image/png": "[encoded data removed]",
      "text/plain": [
       "<matplotlib.figure.Figure at 0x130bf7ef080>"
      ]
     },
     "metadata": {},
     "output_type": "display_data"
    }
   ],
   "source": [
    "# Count of Classes\n",
    "most_classes = train.Class.value_counts()\n",
    "count_classes = most_classes.plot(kind='bar', title='Frequencies vs Classes')\n",
    "count_classes.set_xlabel('Classes')\n",
    "count_classes.set_ylabel('Frequencies')\n",
    "plt.show()"
   ]
  },
  {
   "cell_type": "code",
   "execution_count": 10,
   "metadata": {
    "collapsed": true
   },
   "outputs": [],
   "source": [
    "# Cleaning the text in hoping to get better results.\n",
    "import re\n",
    "\n",
    "def cleaning(text):\n",
    "    text = re.sub(r\"[^A-Za-z0-9^,!.\\/'+-=]\", \" \", str(text))\n",
    "    text = text.lower().split()\n",
    "    stops = {'fig.', 'figure', 'cells', 'cell', 'table'\n",
    "     'so', 'his', 't', 'y', 'ours', 'herself', \n",
    "     'your', 'all', 'some', 'they', 'i', 'of', 'didn', \n",
    "     'them', 'when', 'will', 'that', 'its', 'because', \n",
    "     'while', 'those', 'my', 'don', 'again', 'her', 'if',\n",
    "     'further', 'now', 'does', 'against', 'won', 'same', \n",
    "     'a', 'b', 'c', 'd', 'e','f','g', 'h', 'i', 'j', 'k', 'l', 'm', 'n', \n",
    "     'o', 'p', 'q', 'r', 's', 't', 'u', 'v', 'x', 'w', 'y', 'z',\n",
    "     'during', 'who', 'here', 'have', 'in', 'being', \n",
    "     'it', 'other', 'once', 'itself', 'hers', 'after', 're',\n",
    "     'just', 'their', 'himself', 'theirs', 'whom', 'then', 'd', \n",
    "     'out', 'm', 'mustn', 'where', 'below', 'about', 'isn',\n",
    "     'shouldn', 'wouldn', 'these', 'me', 'to', 'doesn', 'into',\n",
    "     'the', 'until', 'she', 'am', 'under', 'how', 'yourself',\n",
    "     'couldn', 'ma', 'up', 'than', 'from', 'themselves', 'yourselves',\n",
    "     'off', 'above', 'yours', 'having', 'mightn', 'needn', 'on', \n",
    "     'too', 'there', 'an', 'and', 'down', 'ourselves', 'each',\n",
    "     'hadn', 'ain', 'such', 've', 'did', 'be', 'or', 'aren', 'he', \n",
    "     'should', 'for', 'both', 'doing', 'this', 'through', 'do', 'had',\n",
    "     'own', 'but', 'were', 'over', 'not', 'are', 'few', 'by', \n",
    "     'been', 'most', 'no', 'as', 'was', 'what', 's', 'is', 'you', \n",
    "     'shan', 'between', 'wasn', 'has', 'more', 'him', 'nor',\n",
    "     'can', 'why', 'any', 'at', 'myself', 'very', 'with', 'we', \n",
    "     'which', 'hasn', 'weren', 'haven', 'our', 'll', 'only', 'before'}\n",
    "    \n",
    "\n",
    "    text = [word for word in text if not word in stops]\n",
    "    text = \" \".join(text)\n",
    "    text = text.replace(\".\",\" \").replace(\",\",\" \")\n",
    "    return(text)\n"
   ]
  },
  {
   "cell_type": "code",
   "execution_count": 11,
   "metadata": {
    "collapsed": true
   },
   "outputs": [],
   "source": [
    "train_text_clean = []\n",
    "for i in train_text:\n",
    "    meta = cleaning(i)\n",
    "    train_text_clean.append(meta)"
   ]
  },
  {
   "cell_type": "code",
   "execution_count": 12,
   "metadata": {
    "collapsed": true
   },
   "outputs": [],
   "source": [
    "test_text_clean = []\n",
    "for i in test_text:\n",
    "    meta = cleaning(i)\n",
    "    test_text_clean.append(meta)"
   ]
  },
  {
   "cell_type": "code",
   "execution_count": 13,
   "metadata": {},
   "outputs": [
    {
     "data": {
      "text/plain": [
       "'cyclin-dependent kinases cdks regulate variety fundamental cellular processes  cdk10 stands one last'"
      ]
     },
     "execution_count": 13,
     "metadata": {},
     "output_type": "execute_result"
    }
   ],
   "source": [
    "train_text_clean[0][:100]"
   ]
  },
  {
   "cell_type": "code",
   "execution_count": 14,
   "metadata": {
    "scrolled": true
   },
   "outputs": [
    {
     "name": "stdout",
     "output_type": "stream",
     "text": [
      "\n",
      " Doc  0\n",
      "[('cyclin', 90), ('cdk10', 81), ('ets2', 54), ('expression', 43), ('1', 42), ('protein', 38), ('levels', 35), ('fam58a', 33), ('star', 33), ('2', 32)]\n",
      "\n",
      " Doc  1\n",
      "[('c-cbl', 153), ('mutations', 66), ('lung', 56), ('mutation', 43), ('egfr', 43), ('1', 41), ('samples', 33), ('met', 33), ('cancer', 32), ('0', 29)]\n",
      "\n",
      " Doc  2\n",
      "[('c-cbl', 153), ('mutations', 66), ('lung', 56), ('mutation', 43), ('egfr', 43), ('1', 41), ('samples', 33), ('met', 33), ('cancer', 32), ('0', 29)]\n",
      "\n",
      " Doc  3\n",
      "[('cbl', 104), ('mutations', 69), ('cases', 50), ('aupd', 42), ('upn', 38), ('mutation', 37), ('2', 34), ('3', 29), ('analysis', 29), ('case', 26)]\n",
      "\n",
      " Doc  4\n",
      "[('mutations', 150), ('cbl', 121), ('binding', 64), ('cancer', 62), ('stability', 40), ('effects', 33), ('1', 32), ('activity', 30), ('cbl-e2', 30), ('protein', 30)]\n",
      "\n",
      " Doc  5\n",
      "[('mutations', 150), ('cbl', 121), ('binding', 64), ('cancer', 62), ('stability', 40), ('effects', 33), ('1', 32), ('activity', 30), ('cbl-e2', 30), ('protein', 30)]\n",
      "\n",
      " Doc  6\n",
      "[('mutations', 150), ('cbl', 121), ('binding', 64), ('cancer', 62), ('stability', 40), ('effects', 33), ('1', 32), ('activity', 30), ('cbl-e2', 30), ('protein', 30)]\n",
      "\n",
      " Doc  7\n",
      "[('cbl', 273), ('mutations', 175), ('flt3', 163), ('patients', 117), ('1', 79), ('c-cbl', 56), ('p', 54), ('patient', 50), ('mutation', 46), ('mutant', 46)]\n",
      "\n",
      " Doc  8\n",
      "[('cbl', 275), ('mutations', 186), ('phosphorylation', 72), ('gm-csf', 70), ('binding', 69), ('gm-csfr', 66), ('mutants', 64), ('cancer', 62), ('activity', 53), ('1', 51)]\n",
      "\n",
      " Doc  9\n",
      "[('cbl', 154), ('gm-csf', 70), ('phosphorylation', 69), ('gm-csfr', 66), ('tf-1', 49), ('jak2', 49), ('mutants', 48), ('expression', 45), ('enhanced', 43), ('cbl-y371h', 38)]\n"
     ]
    }
   ],
   "source": [
    "# Checking the most common words.\n",
    "from collections import Counter\n",
    "for i in range(10):\n",
    "    print('\\n Doc ', str(i))\n",
    "    check = Counter(train_text_clean[i].split())\n",
    "    print(check.most_common()[:10])"
   ]
  },
  {
   "cell_type": "code",
   "execution_count": 15,
   "metadata": {
    "collapsed": true
   },
   "outputs": [],
   "source": [
    "# Limit the features to get into the vectorizer.\n",
    "max_features = 500\n"
   ]
  },
  {
   "cell_type": "code",
   "execution_count": 16,
   "metadata": {},
   "outputs": [
    {
     "data": {
      "text/plain": [
       "TfidfVectorizer(analyzer='word', binary=False, decode_error='strict',\n",
       "        dtype=<class 'numpy.int64'>, encoding='utf-8', input='content',\n",
       "        lowercase=True, max_df=1.0, max_features=500, min_df=5,\n",
       "        ngram_range=(1, 3), norm='l2', preprocessor=None, smooth_idf=True,\n",
       "        stop_words='english', strip_accents='unicode', sublinear_tf=True,\n",
       "        token_pattern='\\\\w+', tokenizer=None, use_idf=True,\n",
       "        vocabulary=None)"
      ]
     },
     "execution_count": 16,
     "metadata": {},
     "output_type": "execute_result"
    }
   ],
   "source": [
    "\n",
    "tfidf = TfidfVectorizer(min_df=5, max_features=max_features, ngram_range=(1,3),\n",
    "                        strip_accents='unicode',\n",
    "                        lowercase =True, analyzer='word', token_pattern=r'\\w+',\n",
    "                        use_idf=True, smooth_idf=True, sublinear_tf=True, \n",
    "                        stop_words = 'english')\n",
    "tfidf.fit(train_text_clean)"
   ]
  },
  {
   "cell_type": "code",
   "execution_count": 17,
   "metadata": {
    "collapsed": true
   },
   "outputs": [],
   "source": [
    "from sklearn.decomposition import TruncatedSVD\n",
    "\n",
    "tsvd = TruncatedSVD(n_components=200)\n",
    "tsvdfit = tsvd.fit(tfidf.transform(train_text_clean))"
   ]
  },
  {
   "cell_type": "code",
   "execution_count": 18,
   "metadata": {
    "collapsed": true
   },
   "outputs": [],
   "source": [
    "def featuresEngineering(texts_part, variations_parts):\n",
    "    temp = variations_parts.copy()\n",
    "    print(\"Factorize...\")\n",
    "    temp.Gene = pd.factorize(variations_parts.Gene)[0]\n",
    "    temp.Variation = pd.factorize(variations_parts.Variation)[0]\n",
    "    temp.Gene_variation_ratio = temp.Gene/temp.Variation\n",
    "    \n",
    "    print(\"tfidf...\")\n",
    "    temp_tfidf = tfidf.transform(texts_part)\n",
    "    temp.tfidf_sum = temp_tfidf.sum(axis=1)\n",
    "    temp.tfidf_mean = temp_tfidf.mean(axis=1)\n",
    "    temp.tfidf_len = (temp_tfidf!=0).sum(axis=1)\n",
    "    \n",
    "    print(\"lsa\")\n",
    "    temp_col = list(temp.columns)\n",
    "    temp_lsa = tsvd.transform(temp_tfidf)\n",
    "    \n",
    "    for i in range(np.shape(temp_lsa)[1]):\n",
    "        temp_col.append('lsa'+str(i+1))\n",
    "    temp = pd.concat([temp, pd.DataFrame(temp_lsa, index=temp.index)], axis=1)\n",
    "    \n",
    "    return temp, temp_col"
   ]
  },
  {
   "cell_type": "code",
   "execution_count": 19,
   "metadata": {},
   "outputs": [
    {
     "name": "stdout",
     "output_type": "stream",
     "text": [
      "Factorize...\n",
      "tfidf...\n",
      "lsa\n"
     ]
    }
   ],
   "source": [
    "train_df, train_columns = featuresEngineering(train_text_clean, train)"
   ]
  },
  {
   "cell_type": "code",
   "execution_count": 20,
   "metadata": {},
   "outputs": [
    {
     "name": "stdout",
     "output_type": "stream",
     "text": [
      "Factorize...\n",
      "tfidf...\n",
      "lsa\n"
     ]
    }
   ],
   "source": [
    "test_df, test_columns = featuresEngineering(test_text_clean, test)"
   ]
  },
  {
   "cell_type": "code",
   "execution_count": 21,
   "metadata": {},
   "outputs": [
    {
     "name": "stdout",
     "output_type": "stream",
     "text": [
      "Original Counter({7: 953, 4: 686, 1: 568, 2: 452, 6: 275, 5: 242, 3: 89, 9: 37, 8: 19}) \n",
      " Rehashed:  Counter({6: 953, 3: 686, 0: 568, 1: 452, 5: 275, 4: 242, 2: 89, 8: 37, 7: 19})\n"
     ]
    }
   ],
   "source": [
    "classes = train.Class - 1\n",
    "print('Original', Counter(train.Class), '\\n Rehashed: ', Counter(classes))"
   ]
  },
  {
   "cell_type": "code",
   "execution_count": 22,
   "metadata": {},
   "outputs": [
    {
     "name": "stdout",
     "output_type": "stream",
     "text": [
      "(2225, 202)\n",
      "(1096, 202)\n"
     ]
    }
   ],
   "source": [
    "# Import train_test_split\n",
    "from sklearn.cross_validation import train_test_split\n",
    "\n",
    "# Split the 'features' and 'income' data into training and testing sets\n",
    "X_train, X_test, y_train, y_test = train_test_split(train_df.drop(['ID', 'Class'], axis=1), classes, test_size = 0.33, random_state = 0)\n",
    "\n",
    "# Show the results of the split\n",
    "print(format(X_train.shape))\n",
    "print(format(X_test.shape))"
   ]
  },
  {
   "cell_type": "code",
   "execution_count": 23,
   "metadata": {},
   "outputs": [
    {
     "name": "stdout",
     "output_type": "stream",
     "text": [
      "        ID  Gene  Variation  Class         0         1         2         3  \\\n",
      "0        0     0          0      1  0.752828 -0.019792 -0.118816 -0.104973   \n",
      "1        1     1          1      2  0.763223 -0.138636  0.059093 -0.105341   \n",
      "2        2     1          2      2  0.763223 -0.138636  0.059093 -0.105341   \n",
      "3        3     1          3      3  0.736831 -0.030943  0.129126 -0.099866   \n",
      "4        4     1          4      4  0.770890  0.016294 -0.074732  0.088066   \n",
      "5        5     1          5      4  0.770890  0.016294 -0.074732  0.088066   \n",
      "6        6     1          6      5  0.770890  0.016294 -0.074732  0.088066   \n",
      "7        7     1          7      1  0.832240 -0.133820  0.090564 -0.033577   \n",
      "8        8     1          8      4  0.821791 -0.153531 -0.071258  0.126092   \n",
      "9        9     1          9      4  0.674953 -0.258520 -0.094937  0.121560   \n",
      "10      10     1         10      4  0.770890  0.016294 -0.074732  0.088066   \n",
      "11      11     1         11      4  0.832313 -0.060180 -0.109799  0.045273   \n",
      "12      12     1         12      4  0.864549 -0.174815 -0.017583 -0.001696   \n",
      "13      13     1         13      4  0.832313 -0.060180 -0.109799  0.045273   \n",
      "14      14     1         14      5  0.770890  0.016294 -0.074732  0.088066   \n",
      "15      15     1         15      4  0.700623 -0.106182 -0.146613  0.007708   \n",
      "16      16     1          0      1  0.833894 -0.069849  0.063835 -0.066024   \n",
      "17      17     1         16      4  0.627163 -0.097067 -0.025499  0.007966   \n",
      "18      18     1         17      5  0.770890  0.016294 -0.074732  0.088066   \n",
      "19      19     1         18      4  0.627163 -0.097067 -0.025499  0.007966   \n",
      "20      20     1         19      6  0.847298 -0.073881 -0.000717 -0.014110   \n",
      "21      21     1         20      4  0.770890  0.016294 -0.074732  0.088066   \n",
      "22      22     1         21      4  0.770890  0.016294 -0.074732  0.088066   \n",
      "23      23     1         22      4  0.736831 -0.030943  0.129126 -0.099866   \n",
      "24      24     1         23      4  0.736831 -0.030943  0.129126 -0.099866   \n",
      "25      25     1         24      4  0.736831 -0.030943  0.129126 -0.099866   \n",
      "26      26     2         25      4  0.734687  0.010251  0.042233 -0.145972   \n",
      "27      27     3         26      4  0.548220  0.130146  0.071811 -0.175091   \n",
      "28      28     3         27      7  0.821839  0.055197  0.082147 -0.215798   \n",
      "29      29     3         28      4  0.548220  0.130146  0.071811 -0.175091   \n",
      "...    ...   ...        ...    ...       ...       ...       ...       ...   \n",
      "3291  3291   262       2969      7  0.575507  0.002989 -0.041509  0.011353   \n",
      "3292  3292   262       2970      7  0.575507  0.002989 -0.041509  0.011353   \n",
      "3293  3293   262       2971      1  0.696524 -0.249449 -0.072155  0.195099   \n",
      "3294  3294   262       2972      7  0.768630 -0.054715 -0.003264  0.089875   \n",
      "3295  3295   262       2973      4  0.695261 -0.144456 -0.132381  0.055074   \n",
      "3296  3296   262       2974      7  0.854834 -0.103728 -0.032672 -0.029083   \n",
      "3297  3297   263       2975      4  0.847771  0.094497 -0.060880 -0.171335   \n",
      "3298  3298   263       2976      4  0.702302 -0.009286 -0.017044 -0.184276   \n",
      "3299  3299   263       2977      4  0.764183 -0.055895 -0.141559 -0.105863   \n",
      "3300  3300   263       2978      4  0.810513  0.090602 -0.061019 -0.173476   \n",
      "3301  3301   263       2979      4  0.822807  0.055720 -0.079623 -0.158744   \n",
      "3302  3302   263       2980      4  0.709623  0.109680 -0.013181 -0.196399   \n",
      "3303  3303   263       2981      4  0.702302 -0.009286 -0.017044 -0.184276   \n",
      "3304  3304   263       2982      4  0.709623  0.109680 -0.013181 -0.196399   \n",
      "3305  3305   263       2983      4  0.702302 -0.009286 -0.017044 -0.184276   \n",
      "3306  3306   263       2984      1  0.562800  0.091942  0.056623 -0.176667   \n",
      "3307  3307   263          0      1  0.856509  0.021615 -0.007194 -0.223333   \n",
      "3308  3308   263       2985      7  0.740741 -0.016847  0.030783 -0.228054   \n",
      "3309  3309   263       2986      1  0.764183 -0.055895 -0.141559 -0.105863   \n",
      "3310  3310   263         32      7  0.681357 -0.031077 -0.142136 -0.116339   \n",
      "3311  3311   263       2987      4  0.725024 -0.065327 -0.155645 -0.085396   \n",
      "3312  3312   263       2988      4  0.681477  0.044453 -0.106429 -0.092400   \n",
      "3313  3313   263       2989      4  0.764183 -0.055895 -0.141559 -0.105863   \n",
      "3314  3314   263       2990      6  0.827289  0.019614 -0.050000 -0.189742   \n",
      "3315  3315   263       2991      4  0.769596  0.046141 -0.125636 -0.106005   \n",
      "3316  3316   263       2992      4  0.809045  0.011575 -0.062510 -0.175297   \n",
      "3317  3317   263       2993      1  0.702302 -0.009286 -0.017044 -0.184276   \n",
      "3318  3318   263        261      1  0.637392  0.080116 -0.003743 -0.175387   \n",
      "3319  3319   263       2994      4  0.676291  0.097758 -0.007355 -0.177919   \n",
      "3320  3320   263       2995      4  0.810513  0.090602 -0.061019 -0.173476   \n",
      "\n",
      "             4         5    ...          190       191       192       193  \\\n",
      "0    -0.059877  0.006954    ...    -0.011483  0.026202  0.025535 -0.018232   \n",
      "1    -0.041580  0.007430    ...    -0.008060 -0.049573 -0.036457 -0.027910   \n",
      "2    -0.041580  0.007430    ...    -0.008060 -0.049573 -0.036457 -0.027910   \n",
      "3    -0.124374  0.136324    ...     0.015805  0.010096 -0.005168  0.028457   \n",
      "4    -0.016406  0.054946    ...    -0.003621  0.011337  0.017600 -0.027230   \n",
      "5    -0.016406  0.054946    ...    -0.003621  0.011337  0.017600 -0.027230   \n",
      "6    -0.016406  0.054946    ...    -0.003621  0.011337  0.017600 -0.027230   \n",
      "7    -0.133282  0.114018    ...    -0.019931  0.005420  0.016217  0.001470   \n",
      "8    -0.044400  0.067877    ...     0.005964 -0.006167 -0.000769 -0.012699   \n",
      "9    -0.113947  0.109964    ...     0.012630 -0.025108 -0.021970 -0.006136   \n",
      "10   -0.016406  0.054946    ...    -0.003621  0.011337  0.017600 -0.027230   \n",
      "11   -0.037422  0.028112    ...    -0.008270  0.025609 -0.006987  0.030804   \n",
      "12   -0.099996  0.058094    ...     0.017022  0.002264  0.001287  0.031126   \n",
      "13   -0.037422  0.028112    ...    -0.008270  0.025609 -0.006987  0.030804   \n",
      "14   -0.016406  0.054946    ...    -0.003621  0.011337  0.017600 -0.027230   \n",
      "15   -0.073202  0.069478    ...    -0.018347  0.020414 -0.013517  0.089964   \n",
      "16   -0.065259  0.142300    ...    -0.053684 -0.005188 -0.011272  0.031656   \n",
      "17   -0.044986  0.070228    ...     0.026331 -0.017637  0.018768  0.036302   \n",
      "18   -0.016406  0.054946    ...    -0.003621  0.011337  0.017600 -0.027230   \n",
      "19   -0.044986  0.070228    ...     0.026331 -0.017637  0.018768  0.036302   \n",
      "20   -0.024504 -0.007999    ...    -0.009562 -0.023186 -0.011274 -0.034515   \n",
      "21   -0.016406  0.054946    ...    -0.003621  0.011337  0.017600 -0.027230   \n",
      "22   -0.016406  0.054946    ...    -0.003621  0.011337  0.017600 -0.027230   \n",
      "23   -0.124374  0.136324    ...     0.015805  0.010096 -0.005168  0.028457   \n",
      "24   -0.124374  0.136324    ...     0.015805  0.010096 -0.005168  0.028457   \n",
      "25   -0.124374  0.136324    ...     0.015805  0.010096 -0.005168  0.028457   \n",
      "26    0.036457  0.028584    ...    -0.016485  0.033310 -0.035360  0.001962   \n",
      "27   -0.076827  0.199431    ...    -0.044215  0.013617  0.033678 -0.018750   \n",
      "28    0.096382 -0.133759    ...    -0.001386 -0.003136 -0.026173 -0.032551   \n",
      "29   -0.076827  0.199431    ...    -0.044215  0.013617  0.033678 -0.018750   \n",
      "...        ...       ...    ...          ...       ...       ...       ...   \n",
      "3291 -0.111694  0.225052    ...     0.009872 -0.023818 -0.009111 -0.013790   \n",
      "3292 -0.111694  0.225052    ...     0.009872 -0.023818 -0.009111 -0.013790   \n",
      "3293 -0.127664  0.071507    ...    -0.043720 -0.001084  0.027562  0.058847   \n",
      "3294 -0.091227  0.060526    ...    -0.025460 -0.048998 -0.011094  0.003024   \n",
      "3295 -0.075095  0.175027    ...     0.008650  0.011306  0.015592  0.001372   \n",
      "3296 -0.104297  0.017012    ...     0.014089  0.024632 -0.002191 -0.048600   \n",
      "3297 -0.162692  0.018877    ...     0.002091  0.001644 -0.016101 -0.003781   \n",
      "3298 -0.186333  0.034210    ...    -0.001646  0.019919  0.005724 -0.011556   \n",
      "3299 -0.165718 -0.015673    ...    -0.006501 -0.018915 -0.030140  0.051643   \n",
      "3300 -0.163536  0.024099    ...    -0.005875 -0.003863 -0.026909  0.003160   \n",
      "3301 -0.185350  0.030637    ...    -0.006399  0.015515 -0.006699 -0.013550   \n",
      "3302 -0.117387  0.116662    ...     0.032555 -0.000143  0.001678  0.020299   \n",
      "3303 -0.186333  0.034210    ...    -0.001646  0.019919  0.005724 -0.011556   \n",
      "3304 -0.117387  0.116662    ...     0.032555 -0.000143  0.001678  0.020299   \n",
      "3305 -0.186333  0.034210    ...    -0.001646  0.019919  0.005724 -0.011556   \n",
      "3306 -0.155081  0.128425    ...    -0.056054  0.062252 -0.033533 -0.013541   \n",
      "3307 -0.103899 -0.073083    ...    -0.002415  0.020197  0.015624 -0.004347   \n",
      "3308 -0.180362  0.073590    ...    -0.037879 -0.031413  0.057171 -0.006245   \n",
      "3309 -0.165718 -0.015673    ...    -0.006501 -0.018915 -0.030140  0.051643   \n",
      "3310  0.008762 -0.285693    ...    -0.013696 -0.020764  0.021467  0.006265   \n",
      "3311 -0.163265 -0.132523    ...    -0.025146  0.009036  0.001885  0.008650   \n",
      "3312 -0.135527 -0.196130    ...    -0.058384 -0.047108  0.030792  0.036392   \n",
      "3313 -0.165718 -0.015673    ...    -0.006501 -0.018915 -0.030140  0.051643   \n",
      "3314 -0.211778  0.048298    ...     0.000046  0.012219 -0.000476  0.020833   \n",
      "3315 -0.227417 -0.008958    ...     0.006912 -0.023118  0.015655 -0.025657   \n",
      "3316 -0.196408  0.038283    ...    -0.001474  0.008610  0.003415  0.031639   \n",
      "3317 -0.186333  0.034210    ...    -0.001646  0.019919  0.005724 -0.011556   \n",
      "3318 -0.207126  0.028121    ...    -0.031506 -0.034598  0.010277 -0.013573   \n",
      "3319 -0.121576  0.030510    ...    -0.000135 -0.022530 -0.016690  0.024674   \n",
      "3320 -0.163536  0.024099    ...    -0.005875 -0.003863 -0.026909  0.003160   \n",
      "\n",
      "           194       195       196       197       198       199  \n",
      "0     0.011876 -0.009611  0.013893  0.055487  0.030975  0.033824  \n",
      "1    -0.004894 -0.021726 -0.006906 -0.002423 -0.036727 -0.024081  \n",
      "2    -0.004894 -0.021726 -0.006906 -0.002423 -0.036727 -0.024081  \n",
      "3     0.045826 -0.008117  0.008824 -0.012196 -0.008417  0.018684  \n",
      "4    -0.002168  0.004014  0.001635  0.003411  0.015460 -0.005548  \n",
      "5    -0.002168  0.004014  0.001635  0.003411  0.015460 -0.005548  \n",
      "6    -0.002168  0.004014  0.001635  0.003411  0.015460 -0.005548  \n",
      "7     0.007061  0.010325 -0.005234  0.005212  0.005429 -0.002259  \n",
      "8     0.028125  0.007378  0.005774 -0.007260  0.006762  0.006779  \n",
      "9     0.027664  0.010996  0.003132 -0.012768 -0.018898  0.030388  \n",
      "10   -0.002168  0.004014  0.001635  0.003411  0.015460 -0.005548  \n",
      "11    0.011206  0.017813 -0.008646  0.008950  0.020966 -0.012531  \n",
      "12    0.029019 -0.003287 -0.001769  0.009770  0.014651  0.012254  \n",
      "13    0.011206  0.017813 -0.008646  0.008950  0.020966 -0.012531  \n",
      "14   -0.002168  0.004014  0.001635  0.003411  0.015460 -0.005548  \n",
      "15    0.022859  0.033130 -0.014319  0.019878  0.018186  0.013299  \n",
      "16   -0.009805  0.024626 -0.015030  0.008497  0.033963 -0.036833  \n",
      "17   -0.021058  0.035555  0.003183  0.011927 -0.027594  0.001889  \n",
      "18   -0.002168  0.004014  0.001635  0.003411  0.015460 -0.005548  \n",
      "19   -0.021058  0.035555  0.003183  0.011927 -0.027594  0.001889  \n",
      "20   -0.001213 -0.006257  0.015064  0.002476 -0.015872 -0.016172  \n",
      "21   -0.002168  0.004014  0.001635  0.003411  0.015460 -0.005548  \n",
      "22   -0.002168  0.004014  0.001635  0.003411  0.015460 -0.005548  \n",
      "23    0.045826 -0.008117  0.008824 -0.012196 -0.008417  0.018684  \n",
      "24    0.045826 -0.008117  0.008824 -0.012196 -0.008417  0.018684  \n",
      "25    0.045826 -0.008117  0.008824 -0.012196 -0.008417  0.018684  \n",
      "26    0.021785 -0.012557 -0.038765 -0.013222 -0.011257  0.001944  \n",
      "27    0.011707 -0.000401  0.016493  0.004001 -0.007334 -0.047008  \n",
      "28   -0.015472 -0.006559  0.034273 -0.009411  0.035022  0.017599  \n",
      "29    0.011707 -0.000401  0.016493  0.004001 -0.007334 -0.047008  \n",
      "...        ...       ...       ...       ...       ...       ...  \n",
      "3291 -0.010761  0.008442 -0.002577  0.000014  0.003106 -0.015842  \n",
      "3292 -0.010761  0.008442 -0.002577  0.000014  0.003106 -0.015842  \n",
      "3293 -0.006042  0.015690  0.001344 -0.021444 -0.024254 -0.001959  \n",
      "3294 -0.035717  0.010869  0.035457  0.017091 -0.002360  0.005957  \n",
      "3295 -0.007858  0.031975  0.016288 -0.001790 -0.002919  0.010812  \n",
      "3296 -0.014630  0.014474 -0.027222  0.014539  0.009897 -0.008342  \n",
      "3297  0.000612  0.014481 -0.013265 -0.002270 -0.030416  0.000313  \n",
      "3298  0.048689  0.001867 -0.001745  0.010605  0.001198  0.011603  \n",
      "3299 -0.041559 -0.048757 -0.004150  0.030599  0.041975  0.005968  \n",
      "3300  0.005648  0.024205 -0.016150 -0.018125 -0.040735  0.017265  \n",
      "3301  0.014935 -0.016798  0.002956 -0.004743 -0.004524 -0.006303  \n",
      "3302  0.003429 -0.026545 -0.022117 -0.037026  0.019831 -0.031130  \n",
      "3303  0.048689  0.001867 -0.001745  0.010605  0.001198  0.011603  \n",
      "3304  0.003429 -0.026545 -0.022117 -0.037026  0.019831 -0.031130  \n",
      "3305  0.048689  0.001867 -0.001745  0.010605  0.001198  0.011603  \n",
      "3306 -0.017196 -0.009777  0.019426  0.004402 -0.003997 -0.002263  \n",
      "3307  0.006148  0.018158 -0.000114  0.006452  0.013733  0.000941  \n",
      "3308  0.035627  0.008447 -0.008859 -0.003560  0.025254 -0.003794  \n",
      "3309 -0.041559 -0.048757 -0.004150  0.030599  0.041975  0.005968  \n",
      "3310 -0.041400 -0.050486  0.001376  0.003192 -0.017556 -0.003064  \n",
      "3311 -0.016434  0.018219  0.006928  0.017599  0.009302  0.004753  \n",
      "3312  0.009861  0.004239 -0.005656 -0.010679 -0.020919  0.039470  \n",
      "3313 -0.041559 -0.048757 -0.004150  0.030599  0.041975  0.005968  \n",
      "3314  0.014024  0.019809  0.012523  0.017008  0.013180  0.008050  \n",
      "3315 -0.044595  0.051803 -0.011516  0.007640 -0.002335  0.033740  \n",
      "3316  0.019758  0.002716  0.016009  0.001982  0.009380  0.002435  \n",
      "3317  0.048689  0.001867 -0.001745  0.010605  0.001198  0.011603  \n",
      "3318 -0.006753  0.051146  0.001490  0.020781 -0.028291  0.044104  \n",
      "3319  0.026413  0.067190 -0.040442 -0.028425 -0.054689  0.033356  \n",
      "3320  0.005648  0.024205 -0.016150 -0.018125 -0.040735  0.017265  \n",
      "\n",
      "[3321 rows x 204 columns]\n"
     ]
    }
   ],
   "source": [
    "print(train_df)"
   ]
  },
  {
   "cell_type": "code",
   "execution_count": 24,
   "metadata": {},
   "outputs": [
    {
     "name": "stdout",
     "output_type": "stream",
     "text": [
      "Format a Train and Validation Set for XGB\n",
      "      Gene  Variation         0         1         2         3         4  \\\n",
      "2584   213       2344  0.792837  0.464723 -0.019916  0.176561 -0.011646   \n",
      "41       4          0  0.857841  0.106734  0.078842 -0.242670  0.035995   \n",
      "3158   241       2875  0.768989 -0.121276 -0.140588  0.010308  0.128111   \n",
      "3043   229       2789  0.872104 -0.227419  0.162298  0.016134 -0.083465   \n",
      "1423   114       1288  0.860835 -0.166277 -0.059200 -0.061887 -0.072811   \n",
      "\n",
      "             5         6         7    ...          190       191       192  \\\n",
      "2584 -0.135318 -0.045641 -0.100110    ...     0.004557 -0.008744 -0.003142   \n",
      "41   -0.064959 -0.061499 -0.002669    ...    -0.003688  0.001870 -0.009329   \n",
      "3158 -0.032617  0.294138 -0.069502    ...    -0.003998  0.009877 -0.012359   \n",
      "3043  0.039937  0.006146 -0.008942    ...     0.000352 -0.001732  0.007349   \n",
      "1423 -0.029517  0.003831  0.167234    ...    -0.008529  0.017030  0.001721   \n",
      "\n",
      "           193       194       195       196       197       198       199  \n",
      "2584 -0.004198  0.015293  0.011119  0.003209 -0.000771 -0.005884  0.009347  \n",
      "41    0.000974  0.009883 -0.000897  0.003252 -0.007523 -0.002543  0.023368  \n",
      "3158 -0.015183  0.010353 -0.035743 -0.027444  0.006028 -0.003796  0.001672  \n",
      "3043 -0.006212 -0.007934 -0.008931 -0.002978 -0.002339 -0.012580 -0.002132  \n",
      "1423 -0.011616  0.012788 -0.009735  0.023393  0.001891 -0.013345 -0.001176  \n",
      "\n",
      "[5 rows x 202 columns]\n"
     ]
    },
    {
     "name": "stderr",
     "output_type": "stream",
     "text": [
      "C:\\Users\\Linggih\\Anaconda3\\envs\\tensorflow\\lib\\site-packages\\sklearn\\grid_search.py:42: DeprecationWarning: This module was deprecated in version 0.18 in favor of the model_selection module into which all the refactored classes and functions are moved. This module will be removed in 0.20.\n",
      "  DeprecationWarning)\n"
     ]
    }
   ],
   "source": [
    "# Import XGB here\n",
    "import xgboost as xgb\n",
    "from xgboost.sklearn import XGBClassifier\n",
    "from sklearn import cross_validation, metrics\n",
    "from sklearn.grid_search import GridSearchCV\n",
    "\n",
    "print('Format a Train and Validation Set for XGB')\n",
    "#xgb_train = xgb(data = X_train, label= y_train)\n",
    "print(X_train.head())"
   ]
  },
  {
   "cell_type": "code",
   "execution_count": 25,
   "metadata": {},
   "outputs": [
    {
     "name": "stdout",
     "output_type": "stream",
     "text": [
      "[0]\ttrain-mlogloss:2.14442\tvalid-mlogloss:2.15303\n",
      "Multiple eval metrics have been passed: 'valid-mlogloss' will be used for early stopping.\n",
      "\n",
      "Will train until valid-mlogloss hasn't improved in 100 rounds.\n",
      "[50]\ttrain-mlogloss:1.11098\tvalid-mlogloss:1.33835\n",
      "[100]\ttrain-mlogloss:0.79162\tvalid-mlogloss:1.13208\n",
      "[150]\ttrain-mlogloss:0.622115\tvalid-mlogloss:1.04967\n",
      "[200]\ttrain-mlogloss:0.504315\tvalid-mlogloss:1.00937\n",
      "[250]\ttrain-mlogloss:0.42525\tvalid-mlogloss:0.993614\n",
      "[300]\ttrain-mlogloss:0.367531\tvalid-mlogloss:0.989033\n",
      "[350]\ttrain-mlogloss:0.325649\tvalid-mlogloss:0.991018\n",
      "[400]\ttrain-mlogloss:0.291598\tvalid-mlogloss:0.996307\n",
      "Stopping. Best iteration:\n",
      "[304]\ttrain-mlogloss:0.363479\tvalid-mlogloss:0.988564\n",
      "\n",
      "0.988564026638\n"
     ]
    }
   ],
   "source": [
    "from sklearn import metrics\n",
    "from sklearn.metrics import accuracy_score\n",
    "params = {\n",
    "        'eta': 0.03,\n",
    "        'max_depth':4,\n",
    "        \n",
    "        'objective': 'multi:softprob',\n",
    "        'eval_metric': 'mlogloss',\n",
    "        'num_class': 9,\n",
    "        'gamma': 0,\n",
    "        'seed': 0,\n",
    "        'silent': True}\n",
    "watchlist = [(xgb.DMatrix(X_train, y_train), 'train'), (xgb.DMatrix(X_test, y_test), 'valid')]\n",
    "model = xgb.train(params, xgb.DMatrix(X_train, y_train), 1000,  watchlist, verbose_eval=50, early_stopping_rounds=100)\n",
    "\n",
    "score1 = metrics.log_loss(y_test, model.predict(xgb.DMatrix(X_test), ntree_limit=model.best_ntree_limit), labels = list(range(9)))\n",
    "print(score1)\n"
   ]
  },
  {
   "cell_type": "code",
   "execution_count": 26,
   "metadata": {
    "collapsed": true
   },
   "outputs": [],
   "source": [
    "pred = model.predict(xgb.DMatrix(test_df.drop(['ID'], axis=1)), ntree_limit=model.best_ntree_limit+80)\n"
   ]
  },
  {
   "cell_type": "code",
   "execution_count": 27,
   "metadata": {
    "collapsed": true
   },
   "outputs": [],
   "source": [
    "submission = pd.DataFrame(pred, columns=['class'+str(c+1) for c in range(9)])\n",
    "submission['ID'] = test_df.index"
   ]
  },
  {
   "cell_type": "code",
   "execution_count": 28,
   "metadata": {},
   "outputs": [
    {
     "data": {
      "text/html": [
       "<div>\n",
       "<style>\n",
       "    .dataframe thead tr:only-child th {\n",
       "        text-align: right;\n",
       "    }\n",
       "\n",
       "    .dataframe thead th {\n",
       "        text-align: left;\n",
       "    }\n",
       "\n",
       "    .dataframe tbody tr th {\n",
       "        vertical-align: top;\n",
       "    }\n",
       "</style>\n",
       "<table border=\"1\" class=\"dataframe\">\n",
       "  <thead>\n",
       "    <tr style=\"text-align: right;\">\n",
       "      <th></th>\n",
       "      <th>class1</th>\n",
       "      <th>class2</th>\n",
       "      <th>class3</th>\n",
       "      <th>class4</th>\n",
       "      <th>class5</th>\n",
       "      <th>class6</th>\n",
       "      <th>class7</th>\n",
       "      <th>class8</th>\n",
       "      <th>class9</th>\n",
       "      <th>ID</th>\n",
       "    </tr>\n",
       "  </thead>\n",
       "  <tbody>\n",
       "    <tr>\n",
       "      <th>0</th>\n",
       "      <td>0.156054</td>\n",
       "      <td>0.523648</td>\n",
       "      <td>0.007488</td>\n",
       "      <td>0.018490</td>\n",
       "      <td>0.080548</td>\n",
       "      <td>0.074140</td>\n",
       "      <td>0.137482</td>\n",
       "      <td>0.001172</td>\n",
       "      <td>0.000978</td>\n",
       "      <td>0</td>\n",
       "    </tr>\n",
       "    <tr>\n",
       "      <th>1</th>\n",
       "      <td>0.834022</td>\n",
       "      <td>0.049171</td>\n",
       "      <td>0.001842</td>\n",
       "      <td>0.080161</td>\n",
       "      <td>0.006944</td>\n",
       "      <td>0.008206</td>\n",
       "      <td>0.016528</td>\n",
       "      <td>0.000330</td>\n",
       "      <td>0.002797</td>\n",
       "      <td>1</td>\n",
       "    </tr>\n",
       "    <tr>\n",
       "      <th>2</th>\n",
       "      <td>0.289553</td>\n",
       "      <td>0.388575</td>\n",
       "      <td>0.006498</td>\n",
       "      <td>0.015875</td>\n",
       "      <td>0.057809</td>\n",
       "      <td>0.028878</td>\n",
       "      <td>0.209614</td>\n",
       "      <td>0.002102</td>\n",
       "      <td>0.001096</td>\n",
       "      <td>2</td>\n",
       "    </tr>\n",
       "    <tr>\n",
       "      <th>3</th>\n",
       "      <td>0.485948</td>\n",
       "      <td>0.254935</td>\n",
       "      <td>0.002662</td>\n",
       "      <td>0.030820</td>\n",
       "      <td>0.035607</td>\n",
       "      <td>0.009661</td>\n",
       "      <td>0.177609</td>\n",
       "      <td>0.001508</td>\n",
       "      <td>0.001249</td>\n",
       "      <td>3</td>\n",
       "    </tr>\n",
       "    <tr>\n",
       "      <th>4</th>\n",
       "      <td>0.837213</td>\n",
       "      <td>0.038452</td>\n",
       "      <td>0.000323</td>\n",
       "      <td>0.095592</td>\n",
       "      <td>0.002643</td>\n",
       "      <td>0.006223</td>\n",
       "      <td>0.018634</td>\n",
       "      <td>0.000422</td>\n",
       "      <td>0.000499</td>\n",
       "      <td>4</td>\n",
       "    </tr>\n",
       "    <tr>\n",
       "      <th>5</th>\n",
       "      <td>0.717828</td>\n",
       "      <td>0.014277</td>\n",
       "      <td>0.000600</td>\n",
       "      <td>0.254202</td>\n",
       "      <td>0.003213</td>\n",
       "      <td>0.007151</td>\n",
       "      <td>0.001209</td>\n",
       "      <td>0.001013</td>\n",
       "      <td>0.000508</td>\n",
       "      <td>5</td>\n",
       "    </tr>\n",
       "    <tr>\n",
       "      <th>6</th>\n",
       "      <td>0.654675</td>\n",
       "      <td>0.143194</td>\n",
       "      <td>0.000913</td>\n",
       "      <td>0.104182</td>\n",
       "      <td>0.014202</td>\n",
       "      <td>0.036573</td>\n",
       "      <td>0.044114</td>\n",
       "      <td>0.001649</td>\n",
       "      <td>0.000500</td>\n",
       "      <td>6</td>\n",
       "    </tr>\n",
       "    <tr>\n",
       "      <th>7</th>\n",
       "      <td>0.760595</td>\n",
       "      <td>0.015051</td>\n",
       "      <td>0.000626</td>\n",
       "      <td>0.149830</td>\n",
       "      <td>0.020652</td>\n",
       "      <td>0.009597</td>\n",
       "      <td>0.042656</td>\n",
       "      <td>0.000397</td>\n",
       "      <td>0.000595</td>\n",
       "      <td>7</td>\n",
       "    </tr>\n",
       "    <tr>\n",
       "      <th>8</th>\n",
       "      <td>0.158534</td>\n",
       "      <td>0.382434</td>\n",
       "      <td>0.004339</td>\n",
       "      <td>0.121122</td>\n",
       "      <td>0.038922</td>\n",
       "      <td>0.112775</td>\n",
       "      <td>0.173405</td>\n",
       "      <td>0.005308</td>\n",
       "      <td>0.003160</td>\n",
       "      <td>8</td>\n",
       "    </tr>\n",
       "    <tr>\n",
       "      <th>9</th>\n",
       "      <td>0.018200</td>\n",
       "      <td>0.665920</td>\n",
       "      <td>0.007159</td>\n",
       "      <td>0.061838</td>\n",
       "      <td>0.028311</td>\n",
       "      <td>0.058204</td>\n",
       "      <td>0.157470</td>\n",
       "      <td>0.001388</td>\n",
       "      <td>0.001510</td>\n",
       "      <td>9</td>\n",
       "    </tr>\n",
       "    <tr>\n",
       "      <th>10</th>\n",
       "      <td>0.009366</td>\n",
       "      <td>0.490240</td>\n",
       "      <td>0.002906</td>\n",
       "      <td>0.166581</td>\n",
       "      <td>0.020768</td>\n",
       "      <td>0.025291</td>\n",
       "      <td>0.281064</td>\n",
       "      <td>0.002071</td>\n",
       "      <td>0.001712</td>\n",
       "      <td>10</td>\n",
       "    </tr>\n",
       "    <tr>\n",
       "      <th>11</th>\n",
       "      <td>0.012797</td>\n",
       "      <td>0.149316</td>\n",
       "      <td>0.010543</td>\n",
       "      <td>0.282307</td>\n",
       "      <td>0.036048</td>\n",
       "      <td>0.046274</td>\n",
       "      <td>0.456866</td>\n",
       "      <td>0.003915</td>\n",
       "      <td>0.001935</td>\n",
       "      <td>11</td>\n",
       "    </tr>\n",
       "    <tr>\n",
       "      <th>12</th>\n",
       "      <td>0.077595</td>\n",
       "      <td>0.008699</td>\n",
       "      <td>0.001276</td>\n",
       "      <td>0.048636</td>\n",
       "      <td>0.215554</td>\n",
       "      <td>0.634894</td>\n",
       "      <td>0.010413</td>\n",
       "      <td>0.001080</td>\n",
       "      <td>0.001853</td>\n",
       "      <td>12</td>\n",
       "    </tr>\n",
       "    <tr>\n",
       "      <th>13</th>\n",
       "      <td>0.026026</td>\n",
       "      <td>0.457609</td>\n",
       "      <td>0.005179</td>\n",
       "      <td>0.174907</td>\n",
       "      <td>0.016629</td>\n",
       "      <td>0.028417</td>\n",
       "      <td>0.287826</td>\n",
       "      <td>0.001463</td>\n",
       "      <td>0.001944</td>\n",
       "      <td>13</td>\n",
       "    </tr>\n",
       "    <tr>\n",
       "      <th>14</th>\n",
       "      <td>0.010499</td>\n",
       "      <td>0.638263</td>\n",
       "      <td>0.005077</td>\n",
       "      <td>0.012868</td>\n",
       "      <td>0.027670</td>\n",
       "      <td>0.032531</td>\n",
       "      <td>0.270768</td>\n",
       "      <td>0.001391</td>\n",
       "      <td>0.000934</td>\n",
       "      <td>14</td>\n",
       "    </tr>\n",
       "    <tr>\n",
       "      <th>15</th>\n",
       "      <td>0.008611</td>\n",
       "      <td>0.350773</td>\n",
       "      <td>0.041444</td>\n",
       "      <td>0.126556</td>\n",
       "      <td>0.037029</td>\n",
       "      <td>0.023381</td>\n",
       "      <td>0.402337</td>\n",
       "      <td>0.003981</td>\n",
       "      <td>0.005888</td>\n",
       "      <td>15</td>\n",
       "    </tr>\n",
       "    <tr>\n",
       "      <th>16</th>\n",
       "      <td>0.016371</td>\n",
       "      <td>0.330986</td>\n",
       "      <td>0.003226</td>\n",
       "      <td>0.338638</td>\n",
       "      <td>0.020528</td>\n",
       "      <td>0.023283</td>\n",
       "      <td>0.263360</td>\n",
       "      <td>0.001702</td>\n",
       "      <td>0.001905</td>\n",
       "      <td>16</td>\n",
       "    </tr>\n",
       "    <tr>\n",
       "      <th>17</th>\n",
       "      <td>0.011364</td>\n",
       "      <td>0.508215</td>\n",
       "      <td>0.006476</td>\n",
       "      <td>0.043113</td>\n",
       "      <td>0.022675</td>\n",
       "      <td>0.056442</td>\n",
       "      <td>0.347848</td>\n",
       "      <td>0.001924</td>\n",
       "      <td>0.001943</td>\n",
       "      <td>17</td>\n",
       "    </tr>\n",
       "    <tr>\n",
       "      <th>18</th>\n",
       "      <td>0.012908</td>\n",
       "      <td>0.165233</td>\n",
       "      <td>0.005757</td>\n",
       "      <td>0.383938</td>\n",
       "      <td>0.034722</td>\n",
       "      <td>0.027368</td>\n",
       "      <td>0.365092</td>\n",
       "      <td>0.002368</td>\n",
       "      <td>0.002615</td>\n",
       "      <td>18</td>\n",
       "    </tr>\n",
       "    <tr>\n",
       "      <th>19</th>\n",
       "      <td>0.002364</td>\n",
       "      <td>0.042708</td>\n",
       "      <td>0.801500</td>\n",
       "      <td>0.008334</td>\n",
       "      <td>0.014240</td>\n",
       "      <td>0.003231</td>\n",
       "      <td>0.126130</td>\n",
       "      <td>0.000506</td>\n",
       "      <td>0.000987</td>\n",
       "      <td>19</td>\n",
       "    </tr>\n",
       "  </tbody>\n",
       "</table>\n",
       "</div>"
      ],
      "text/plain": [
       "      class1    class2    class3    class4    class5    class6    class7  \\\n",
       "0   0.156054  0.523648  0.007488  0.018490  0.080548  0.074140  0.137482   \n",
       "1   0.834022  0.049171  0.001842  0.080161  0.006944  0.008206  0.016528   \n",
       "2   0.289553  0.388575  0.006498  0.015875  0.057809  0.028878  0.209614   \n",
       "3   0.485948  0.254935  0.002662  0.030820  0.035607  0.009661  0.177609   \n",
       "4   0.837213  0.038452  0.000323  0.095592  0.002643  0.006223  0.018634   \n",
       "5   0.717828  0.014277  0.000600  0.254202  0.003213  0.007151  0.001209   \n",
       "6   0.654675  0.143194  0.000913  0.104182  0.014202  0.036573  0.044114   \n",
       "7   0.760595  0.015051  0.000626  0.149830  0.020652  0.009597  0.042656   \n",
       "8   0.158534  0.382434  0.004339  0.121122  0.038922  0.112775  0.173405   \n",
       "9   0.018200  0.665920  0.007159  0.061838  0.028311  0.058204  0.157470   \n",
       "10  0.009366  0.490240  0.002906  0.166581  0.020768  0.025291  0.281064   \n",
       "11  0.012797  0.149316  0.010543  0.282307  0.036048  0.046274  0.456866   \n",
       "12  0.077595  0.008699  0.001276  0.048636  0.215554  0.634894  0.010413   \n",
       "13  0.026026  0.457609  0.005179  0.174907  0.016629  0.028417  0.287826   \n",
       "14  0.010499  0.638263  0.005077  0.012868  0.027670  0.032531  0.270768   \n",
       "15  0.008611  0.350773  0.041444  0.126556  0.037029  0.023381  0.402337   \n",
       "16  0.016371  0.330986  0.003226  0.338638  0.020528  0.023283  0.263360   \n",
       "17  0.011364  0.508215  0.006476  0.043113  0.022675  0.056442  0.347848   \n",
       "18  0.012908  0.165233  0.005757  0.383938  0.034722  0.027368  0.365092   \n",
       "19  0.002364  0.042708  0.801500  0.008334  0.014240  0.003231  0.126130   \n",
       "\n",
       "      class8    class9  ID  \n",
       "0   0.001172  0.000978   0  \n",
       "1   0.000330  0.002797   1  \n",
       "2   0.002102  0.001096   2  \n",
       "3   0.001508  0.001249   3  \n",
       "4   0.000422  0.000499   4  \n",
       "5   0.001013  0.000508   5  \n",
       "6   0.001649  0.000500   6  \n",
       "7   0.000397  0.000595   7  \n",
       "8   0.005308  0.003160   8  \n",
       "9   0.001388  0.001510   9  \n",
       "10  0.002071  0.001712  10  \n",
       "11  0.003915  0.001935  11  \n",
       "12  0.001080  0.001853  12  \n",
       "13  0.001463  0.001944  13  \n",
       "14  0.001391  0.000934  14  \n",
       "15  0.003981  0.005888  15  \n",
       "16  0.001702  0.001905  16  \n",
       "17  0.001924  0.001943  17  \n",
       "18  0.002368  0.002615  18  \n",
       "19  0.000506  0.000987  19  "
      ]
     },
     "execution_count": 28,
     "metadata": {},
     "output_type": "execute_result"
    }
   ],
   "source": [
    "submission.head(20)"
   ]
  },
  {
   "cell_type": "markdown",
   "metadata": {},
   "source": [
    "### Benchmark Model\n",
    "\n",
    "To make it fair, this project will use decision tree to compare it with xgboost."
   ]
  },
  {
   "cell_type": "code",
   "execution_count": 29,
   "metadata": {},
   "outputs": [
    {
     "name": "stdout",
     "output_type": "stream",
     "text": [
      "1096\n",
      "[6 5 0 ..., 3 0 6]\n",
      "None\n"
     ]
    }
   ],
   "source": [
    "# importing necessary libraries\n",
    "from sklearn import datasets\n",
    "from sklearn.metrics import confusion_matrix\n",
    "from sklearn.model_selection import train_test_split\n",
    "\n",
    "# training a DecisionTreeClassifier\n",
    "from sklearn.tree import DecisionTreeClassifier\n",
    "\n",
    "dtree_model = DecisionTreeClassifier(max_depth = 9).fit(X_train, y_train)\n",
    "dtree_predictions = dtree_model.predict(X_test)\n",
    "\n",
    "# creating a confusion matrix\n",
    "\n",
    "print(len(dtree_predictions))\n",
    "print(print(dtree_predictions))"
   ]
  },
  {
   "cell_type": "code",
   "execution_count": 30,
   "metadata": {},
   "outputs": [
    {
     "name": "stdout",
     "output_type": "stream",
     "text": [
      "   0  1  2  3  4  5  6  8\n",
      "0  0  0  0  0  0  0  1  0\n",
      "1  0  0  0  0  0  1  0  0\n",
      "2  1  0  0  0  0  0  0  0\n",
      "3  0  0  0  1  0  0  0  0\n",
      "4  0  0  0  1  0  0  0  0\n"
     ]
    }
   ],
   "source": [
    "onehot_dtree = pd.get_dummies(dtree_predictions)\n",
    "print(onehot_dtree.head())"
   ]
  },
  {
   "cell_type": "code",
   "execution_count": null,
   "metadata": {
    "collapsed": true
   },
   "outputs": [],
   "source": []
  },
  {
   "cell_type": "code",
   "execution_count": 31,
   "metadata": {
    "collapsed": true
   },
   "outputs": [],
   "source": [
    "import lightgbm as lgb\n",
    "\n"
   ]
  },
  {
   "cell_type": "code",
   "execution_count": 32,
   "metadata": {
    "collapsed": true
   },
   "outputs": [],
   "source": [
    "train_data = lgb.Dataset(X_train, label=y_train)\n",
    "param_lgb = {'num_leaves':150, 'objective':'binary','max_depth':7,'learning_rate':.05,'max_bin':200}\n",
    "param_lgb['metric'] = ['auc', 'binary_logloss']"
   ]
  },
  {
   "cell_type": "code",
   "execution_count": 33,
   "metadata": {},
   "outputs": [
    {
     "data": {
      "text/plain": [
       "array([ 0.95843249,  0.94711773,  0.66896926,  0.89815873,  0.93504069])"
      ]
     },
     "execution_count": 33,
     "metadata": {},
     "output_type": "execute_result"
    }
   ],
   "source": [
    "# Training our model using lightgbm\n",
    "num_round = 50\n",
    "lgbm = lgb.train(param_lgb, train_data, num_round)\n",
    "\n",
    "y_pred_lgb = lgbm.predict(X_test)\n",
    "y_pred_lgb[0:5]"
   ]
  },
  {
   "cell_type": "code",
   "execution_count": 34,
   "metadata": {
    "collapsed": true
   },
   "outputs": [],
   "source": [
    "import datetime\n",
    "now = datetime.datetime.now()\n",
    "submission.to_csv('xgb_'+str(now.strftime(\"%Y-%m-%d-%H-%M\"))+'.csv', index=False)"
   ]
  },
  {
   "cell_type": "code",
   "execution_count": 35,
   "metadata": {
    "collapsed": true
   },
   "outputs": [],
   "source": [
    "test_var_stage2 = pd.read_csv('stage2_test_variants')\n",
    "test_x_stage2 = pd.read_csv('stage2_test_text.csv', sep=\"\\|\\|\", engine='python', header=None, skiprows=1, names=[\"ID\",\"Text\"])\n"
   ]
  },
  {
   "cell_type": "code",
   "execution_count": 36,
   "metadata": {
    "collapsed": true
   },
   "outputs": [],
   "source": [
    "trial2 = test_x_stage2\n",
    "numbers = []\n",
    "\n",
    "for i in range(0, len(test_x_stage2)):\n",
    "    try:\n",
    "        if int(test_x_stage2.ID[i]):\n",
    "            continue\n",
    "    except:\n",
    "        numbers.append(i)\n",
    "        "
   ]
  },
  {
   "cell_type": "code",
   "execution_count": 37,
   "metadata": {},
   "outputs": [
    {
     "name": "stdout",
     "output_type": "stream",
     "text": [
      "986\n",
      "True\n",
      "989\n"
     ]
    }
   ],
   "source": [
    "whole_text = []\n",
    "for i in numbers:\n",
    "    i = int(i)\n",
    "    step = test_x_stage2.Text[i-1] + test_x_stage2.ID[i]\n",
    "    trial2.set_value(i-1, 'Text', step)\n",
    "\n",
    "trial2_dropped = trial2.drop([16, 208, 791])\n",
    "\n",
    "print(len(trial2_dropped))\n",
    "print(test_x_stage2.Text[15] == trial2.Text[15])\n",
    "\n",
    "print(len(trial2))\n"
   ]
  },
  {
   "cell_type": "code",
   "execution_count": 38,
   "metadata": {
    "collapsed": true
   },
   "outputs": [],
   "source": [
    "test_text_stage2 = trial2_dropped.Text\n"
   ]
  },
  {
   "cell_type": "code",
   "execution_count": 39,
   "metadata": {},
   "outputs": [
    {
     "name": "stdout",
     "output_type": "stream",
     "text": [
      "Factorize...\n",
      "tfidf...\n",
      "lsa\n"
     ]
    }
   ],
   "source": [
    "test_text_stage2_clean = []\n",
    "\n",
    "\n",
    "for i in test_text_stage2:\n",
    "    meta = cleaning(i)\n",
    "    test_text_stage2_clean.append(meta)\n",
    "    \n",
    "    \n",
    "test_tex_stage2_clean = tfidf.fit(test_text_stage2_clean)\n",
    "\n",
    "\n",
    "test_stage2_df, test_stage2_columns = featuresEngineering(test_text_stage2_clean, test_var_stage2)\n"
   ]
  },
  {
   "cell_type": "code",
   "execution_count": 40,
   "metadata": {},
   "outputs": [
    {
     "name": "stdout",
     "output_type": "stream",
     "text": [
      "986\n",
      "986\n"
     ]
    }
   ],
   "source": [
    "print(len(test_text_stage2_clean))\n",
    "print(len(test_var_stage2))\n"
   ]
  },
  {
   "cell_type": "code",
   "execution_count": 41,
   "metadata": {
    "collapsed": true
   },
   "outputs": [],
   "source": [
    "pred_stage2 = model.predict(xgb.DMatrix(test_stage2_df.drop(['ID'], axis=1)), ntree_limit=model.best_ntree_limit)"
   ]
  },
  {
   "cell_type": "code",
   "execution_count": 42,
   "metadata": {},
   "outputs": [
    {
     "name": "stdout",
     "output_type": "stream",
     "text": [
      "RangeIndex(start=0, stop=986, step=1)\n",
      "None\n"
     ]
    }
   ],
   "source": [
    "def generateSubmission(file):\n",
    "    submission_stage2 = pd.DataFrame(file, columns=['class'+str(c+1) for c in range(9)])\n",
    "    #submission_stage2 = pd.DataFrame(pred_stage2, columns=['class'+str(c+1) for c in range(9)])\n",
    "    #test_stage2_df.index +=1\n",
    "    stage2_id = test_stage2_df.index\n",
    "    submission_stage2.insert(loc=0, column='ID', value=stage2_id)\n",
    "    \n",
    "    import datetime\n",
    "    now = datetime.datetime.now()\n",
    "    \n",
    "    submission_stage2.to_csv('xgb_stage2_'+str(now.strftime(\"%Y-%m-%d-%H-%M\"))+'.csv', index=False)\n",
    "    print(test_stage2_df.index)\n",
    "    \n",
    "print(generateSubmission(pred_stage2))"
   ]
  },
  {
   "cell_type": "code",
   "execution_count": null,
   "metadata": {
    "collapsed": true
   },
   "outputs": [],
   "source": []
  }
 ],
 "metadata": {
  "kernelspec": {
   "display_name": "Python 3",
   "language": "python",
   "name": "python3"
  },
  "language_info": {
   "codemirror_mode": {
    "name": "ipython",
    "version": 3
   },
   "file_extension": ".py",
   "mimetype": "text/x-python",
   "name": "python",
   "nbconvert_exporter": "python",
   "pygments_lexer": "ipython3",
   "version": "3.5.4"
  }
 },
 "nbformat": 4,
 "nbformat_minor": 1
}
