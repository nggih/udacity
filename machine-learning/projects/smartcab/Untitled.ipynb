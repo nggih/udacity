{
 "cells": [
  {
   "cell_type": "code",
   "execution_count": 26,
   "metadata": {
    "collapsed": false
   },
   "outputs": [
    {
     "name": "stdout",
     "output_type": "stream",
     "text": [
      "L:\\udacity\\machine-learning-master\\projects\\smartcab\n"
     ]
    }
   ],
   "source": [
    "import matplotlib.pyplot as plt\n",
    "import numpy as np\n",
    "import pandas as pd\n",
    "import os\n",
    "import ast\n",
    "csv = \"sim_default-learning.csv\"\n",
    "#filepath = \"L:/udacity/machine-learning-master/projects/smartcab/logs/\"\n",
    "filepath = \"L:\\\\udacity\\\\machine-learning-master\\\\projects\\\\smartcab\\\\logs\\\\\"\n",
    "\n",
    "import os\n",
    "cwd = os.getcwd()\n",
    "print cwd"
   ]
  }
 ],
 "metadata": {
  "kernelspec": {
   "display_name": "Python 2",
   "language": "python",
   "name": "python2"
  },
  "language_info": {
   "codemirror_mode": {
    "name": "ipython",
    "version": 2
   },
   "file_extension": ".py",
   "mimetype": "text/x-python",
   "name": "python",
   "nbconvert_exporter": "python",
   "pygments_lexer": "ipython2",
   "version": "2.7.13"
  }
 },
 "nbformat": 4,
 "nbformat_minor": 2
}
