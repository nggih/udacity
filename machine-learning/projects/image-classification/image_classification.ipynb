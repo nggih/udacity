{
 "cells": [
  {
   "cell_type": "markdown",
   "metadata": {
    "collapsed": true
   },
   "source": [
    "# Image Classification\n",
    "In this project, you'll classify images from the [CIFAR-10 dataset](https://www.cs.toronto.edu/~kriz/cifar.html).  The dataset consists of airplanes, dogs, cats, and other objects. You'll preprocess the images, then train a convolutional neural network on all the samples. The images need to be normalized and the labels need to be one-hot encoded.  You'll get to apply what you learned and build a convolutional, max pooling, dropout, and fully connected layers.  At the end, you'll get to see your neural network's predictions on the sample images.\n",
    "## Get the Data\n",
    "Run the following cell to download the [CIFAR-10 dataset for python](https://www.cs.toronto.edu/~kriz/cifar-10-python.tar.gz)."
   ]
  },
  {
   "cell_type": "code",
   "execution_count": 3,
   "metadata": {},
   "outputs": [
    {
     "name": "stderr",
     "output_type": "stream",
     "text": [
      "CIFAR-10 Dataset: 171MB [08:57, 317KB/s]                                                                               \n"
     ]
    },
    {
     "name": "stdout",
     "output_type": "stream",
     "text": [
      "All files found!\n"
     ]
    }
   ],
   "source": [
    "\"\"\"\n",
    "DON'T MODIFY ANYTHING IN THIS CELL THAT IS BELOW THIS LINE\n",
    "\"\"\"\n",
    "from urllib.request import urlretrieve\n",
    "from os.path import isfile, isdir\n",
    "from tqdm import tqdm\n",
    "import problem_unittests as tests\n",
    "import tarfile\n",
    "\n",
    "cifar10_dataset_folder_path = 'cifar-10-batches-py'\n",
    "\n",
    "class DLProgress(tqdm):\n",
    "    last_block = 0\n",
    "\n",
    "    def hook(self, block_num=1, block_size=1, total_size=None):\n",
    "        self.total = total_size\n",
    "        self.update((block_num - self.last_block) * block_size)\n",
    "        self.last_block = block_num\n",
    "\n",
    "if not isfile('cifar-10-python.tar.gz'):\n",
    "    with DLProgress(unit='B', unit_scale=True, miniters=1, desc='CIFAR-10 Dataset') as pbar:\n",
    "        urlretrieve(\n",
    "            'https://www.cs.toronto.edu/~kriz/cifar-10-python.tar.gz',\n",
    "            'cifar-10-python.tar.gz',\n",
    "            pbar.hook)\n",
    "\n",
    "if not isdir(cifar10_dataset_folder_path):\n",
    "    with tarfile.open('cifar-10-python.tar.gz') as tar:\n",
    "        tar.extractall()\n",
    "        tar.close()\n",
    "\n",
    "\n",
    "tests.test_folder_path(cifar10_dataset_folder_path)"
   ]
  },
  {
   "cell_type": "markdown",
   "metadata": {},
   "source": [
    "## Explore the Data\n",
    "The dataset is broken into batches to prevent your machine from running out of memory.  The CIFAR-10 dataset consists of 5 batches, named `data_batch_1`, `data_batch_2`, etc.. Each batch contains the labels and images that are one of the following:\n",
    "* airplane\n",
    "* automobile\n",
    "* bird\n",
    "* cat\n",
    "* deer\n",
    "* dog\n",
    "* frog\n",
    "* horse\n",
    "* ship\n",
    "* truck\n",
    "\n",
    "Understanding a dataset is part of making predictions on the data.  Play around with the code cell below by changing the `batch_id` and `sample_id`. The `batch_id` is the id for a batch (1-5). The `sample_id` is the id for a image and label pair in the batch.\n",
    "\n",
    "Ask yourself \"What are all possible labels?\", \"What is the range of values for the image data?\", \"Are the labels in order or random?\".  Answers to questions like these will help you preprocess the data and end up with better predictions."
   ]
  },
  {
   "cell_type": "code",
   "execution_count": 4,
   "metadata": {},
   "outputs": [
    {
     "name": "stdout",
     "output_type": "stream",
     "text": [
      "\n",
      "Stats of batch 5:\n",
      "Samples: 10000\n",
      "Label Counts: {0: 1014, 1: 1014, 2: 952, 3: 1016, 4: 997, 5: 1025, 6: 980, 7: 977, 8: 1003, 9: 1022}\n",
      "First 20 Labels: [1, 8, 5, 1, 5, 7, 4, 3, 8, 2, 7, 2, 0, 1, 5, 9, 6, 2, 0, 8]\n",
      "\n",
      "Example of Image 1:\n",
      "Image - Min Value: 1 Max Value: 244\n",
      "Image - Shape: (32, 32, 3)\n",
      "Label - Label Id: 8 Name: ship\n"
     ]
    },
    {
     "data": {
      "image/png": "[encoded data removed]",
      "text/plain": [
       "<matplotlib.figure.Figure at 0x25a5ef439e8>"
      ]
     },
     "metadata": {
      "image/png": {
       "height": 250,
       "width": 253
      }
     },
     "output_type": "display_data"
    }
   ],
   "source": [
    "%matplotlib inline\n",
    "%config InlineBackend.figure_format = 'retina'\n",
    "\n",
    "import helper\n",
    "import numpy as np\n",
    "\n",
    "# Explore the dataset\n",
    "batch_id = 5\n",
    "sample_id = 1\n",
    "helper.display_stats(cifar10_dataset_folder_path, batch_id, sample_id)"
   ]
  },
  {
   "cell_type": "markdown",
   "metadata": {},
   "source": [
    "## Implement Preprocess Functions\n",
    "### Normalize\n",
    "In the cell below, implement the `normalize` function to take in image data, `x`, and return it as a normalized Numpy array. The values should be in the range of 0 to 1, inclusive.  The return object should be the same shape as `x`."
   ]
  },
  {
   "cell_type": "code",
   "execution_count": 5,
   "metadata": {},
   "outputs": [
    {
     "name": "stdout",
     "output_type": "stream",
     "text": [
      "Tests Passed\n"
     ]
    }
   ],
   "source": [
    "def normalize(x):\n",
    "    \"\"\"\n",
    "    Normalize a list of sample image data in the range of 0 to 1\n",
    "    : x: List of image data.  The image shape is (32, 32, 3)\n",
    "    : return: Numpy array of normalize data\n",
    "    \"\"\"\n",
    "    # TODO: Implement Function\n",
    "    return np.asarray(x / 255)\n",
    "\n",
    "\n",
    "\"\"\"\n",
    "DON'T MODIFY ANYTHING IN THIS CELL THAT IS BELOW THIS LINE\n",
    "\"\"\"\n",
    "tests.test_normalize(normalize)"
   ]
  },
  {
   "cell_type": "markdown",
   "metadata": {},
   "source": [
    "### One-hot encode\n",
    "Just like the previous code cell, you'll be implementing a function for preprocessing.  This time, you'll implement the `one_hot_encode` function. The input, `x`, are a list of labels.  Implement the function to return the list of labels as One-Hot encoded Numpy array.  The possible values for labels are 0 to 9. The one-hot encoding function should return the same encoding for each value between each call to `one_hot_encode`.  Make sure to save the map of encodings outside the function.\n",
    "\n",
    "**Hint:**\n",
    "\n",
    "Look into LabelBinarizer in the preprocessing module of sklearn."
   ]
  },
  {
   "cell_type": "code",
   "execution_count": 6,
   "metadata": {},
   "outputs": [
    {
     "name": "stdout",
     "output_type": "stream",
     "text": [
      "Tests Passed\n"
     ]
    }
   ],
   "source": [
    "from sklearn import preprocessing\n",
    "map = [0,1,2,3,4,5,6,7,8,9]\n",
    "def one_hot_encode(x):\n",
    "    \"\"\"\n",
    "    One hot encode a list of sample labels. Return a one-hot encoded vector for each label.\n",
    "    : x: List of sample Labels\n",
    "    : return: Numpy array of one-hot encoded labels\n",
    "    \"\"\"\n",
    "    # TODO: Implement Function\n",
    "    lb = preprocessing.LabelBinarizer()\n",
    "    lb.fit(map)\n",
    "    return np.asarray(lb.transform(x))\n",
    "\n",
    "\n",
    "\"\"\"\n",
    "DON'T MODIFY ANYTHING IN THIS CELL THAT IS BELOW THIS LINE\n",
    "\"\"\"\n",
    "tests.test_one_hot_encode(one_hot_encode)"
   ]
  },
  {
   "cell_type": "markdown",
   "metadata": {},
   "source": [
    "### Randomize Data\n",
    "As you saw from exploring the data above, the order of the samples are randomized.  It doesn't hurt to randomize it again, but you don't need to for this dataset."
   ]
  },
  {
   "cell_type": "markdown",
   "metadata": {},
   "source": [
    "## Preprocess all the data and save it\n",
    "Running the code cell below will preprocess all the CIFAR-10 data and save it to file. The code below also uses 10% of the training data for validation."
   ]
  },
  {
   "cell_type": "code",
   "execution_count": 9,
   "metadata": {
    "collapsed": true
   },
   "outputs": [],
   "source": [
    "\"\"\"\n",
    "DON'T MODIFY ANYTHING IN THIS CELL\n",
    "\"\"\"\n",
    "# Preprocess Training, Validation, and Testing Data\n",
    "helper.preprocess_and_save_data(cifar10_dataset_folder_path, normalize, one_hot_encode)"
   ]
  },
  {
   "cell_type": "markdown",
   "metadata": {},
   "source": [
    "# Check Point\n",
    "This is your first checkpoint.  If you ever decide to come back to this notebook or have to restart the notebook, you can start from here.  The preprocessed data has been saved to disk."
   ]
  },
  {
   "cell_type": "code",
   "execution_count": 2,
   "metadata": {
    "collapsed": true
   },
   "outputs": [],
   "source": [
    "\"\"\"\n",
    "DON'T MODIFY ANYTHING IN THIS CELL\n",
    "\"\"\"\n",
    "import pickle\n",
    "import problem_unittests as tests\n",
    "import helper\n",
    "\n",
    "# Load the Preprocessed Validation data\n",
    "valid_features, valid_labels = pickle.load(open('preprocess_validation.p', mode='rb'))"
   ]
  },
  {
   "cell_type": "markdown",
   "metadata": {},
   "source": [
    "## Build the network\n",
    "For the neural network, you'll build each layer into a function.  Most of the code you've seen has been outside of functions. To test your code more thoroughly, we require that you put each layer in a function.  This allows us to give you better feedback and test for simple mistakes using our unittests before you submit your project.\n",
    "\n",
    ">**Note:** If you're finding it hard to dedicate enough time for this course each week, we've provided a small shortcut to this part of the project. In the next couple of problems, you'll have the option to use classes from the [TensorFlow Layers](https://www.tensorflow.org/api_docs/python/tf/layers) or [TensorFlow Layers (contrib)](https://www.tensorflow.org/api_guides/python/contrib.layers) packages to build each layer, except the layers you build in the \"Convolutional and Max Pooling Layer\" section.  TF Layers is similar to Keras's and TFLearn's abstraction to layers, so it's easy to pickup.\n",
    "\n",
    ">However, if you would like to get the most out of this course, try to solve all the problems _without_ using anything from the TF Layers packages. You **can** still use classes from other packages that happen to have the same name as ones you find in TF Layers! For example, instead of using the TF Layers version of the `conv2d` class, [tf.layers.conv2d](https://www.tensorflow.org/api_docs/python/tf/layers/conv2d), you would want to use the TF Neural Network version of `conv2d`, [tf.nn.conv2d](https://www.tensorflow.org/api_docs/python/tf/nn/conv2d). \n",
    "\n",
    "Let's begin!\n",
    "\n",
    "### Input\n",
    "The neural network needs to read the image data, one-hot encoded labels, and dropout keep probability. Implement the following functions\n",
    "* Implement `neural_net_image_input`\n",
    " * Return a [TF Placeholder](https://www.tensorflow.org/api_docs/python/tf/placeholder)\n",
    " * Set the shape using `image_shape` with batch size set to `None`.\n",
    " * Name the TensorFlow placeholder \"x\" using the TensorFlow `name` parameter in the [TF Placeholder](https://www.tensorflow.org/api_docs/python/tf/placeholder).\n",
    "* Implement `neural_net_label_input`\n",
    " * Return a [TF Placeholder](https://www.tensorflow.org/api_docs/python/tf/placeholder)\n",
    " * Set the shape using `n_classes` with batch size set to `None`.\n",
    " * Name the TensorFlow placeholder \"y\" using the TensorFlow `name` parameter in the [TF Placeholder](https://www.tensorflow.org/api_docs/python/tf/placeholder).\n",
    "* Implement `neural_net_keep_prob_input`\n",
    " * Return a [TF Placeholder](https://www.tensorflow.org/api_docs/python/tf/placeholder) for dropout keep probability.\n",
    " * Name the TensorFlow placeholder \"keep_prob\" using the TensorFlow `name` parameter in the [TF Placeholder](https://www.tensorflow.org/api_docs/python/tf/placeholder).\n",
    "\n",
    "These names will be used at the end of the project to load your saved model.\n",
    "\n",
    "Note: `None` for shapes in TensorFlow allow for a dynamic size."
   ]
  },
  {
   "cell_type": "code",
   "execution_count": 3,
   "metadata": {},
   "outputs": [
    {
     "name": "stdout",
     "output_type": "stream",
     "text": [
      "Image Input Tests Passed.\n",
      "Label Input Tests Passed.\n",
      "Keep Prob Tests Passed.\n"
     ]
    }
   ],
   "source": [
    "import tensorflow as tf\n",
    "import numpy as np\n",
    "\n",
    "def neural_net_image_input(image_shape):\n",
    "    \"\"\"\n",
    "    Return a Tensor for a batch of image input\n",
    "    : image_shape: Shape of the images\n",
    "    : return: Tensor for image input.\n",
    "    \"\"\"\n",
    "    # TODO: Implement Function #image_shape is a tuple and needs to combine with None.\n",
    "    return tf.placeholder(tf.float32,shape=((None,)+(image_shape)), name=\"x\")\n",
    "\n",
    "\n",
    "def neural_net_label_input(n_classes):\n",
    "    \"\"\"\n",
    "    Return a Tensor for a batch of label input\n",
    "    : n_classes: Number of classes\n",
    "    : return: Tensor for label input.\n",
    "    \"\"\"\n",
    "    # TODO: Implement Function\n",
    "    return tf.placeholder(tf.float32,shape=(None, n_classes), name=\"y\")\n",
    "\n",
    "\n",
    "def neural_net_keep_prob_input():\n",
    "    \"\"\"\n",
    "    Return a Tensor for keep probability\n",
    "    : return: Tensor for keep probability.\n",
    "    \"\"\"\n",
    "    # TODO: Implement Function\n",
    "    return tf.placeholder(tf.float32,name=\"keep_prob\")\n",
    "\n",
    "\n",
    "\"\"\"\n",
    "DON'T MODIFY ANYTHING IN THIS CELL THAT IS BELOW THIS LINE\n",
    "\"\"\"\n",
    "tf.reset_default_graph()\n",
    "tests.test_nn_image_inputs(neural_net_image_input)\n",
    "tests.test_nn_label_inputs(neural_net_label_input)\n",
    "tests.test_nn_keep_prob_inputs(neural_net_keep_prob_input)"
   ]
  },
  {
   "cell_type": "markdown",
   "metadata": {},
   "source": [
    "### Convolution and Max Pooling Layer\n",
    "Convolution layers have a lot of success with images. For this code cell, you should implement the function `conv2d_maxpool` to apply convolution then max pooling:\n",
    "* Create the weight and bias using `conv_ksize`, `conv_num_outputs` and the shape of `x_tensor`.\n",
    "* Apply a convolution to `x_tensor` using weight and `conv_strides`.\n",
    " * We recommend you use same padding, but you're welcome to use any padding.\n",
    "* Add bias\n",
    "* Add a nonlinear activation to the convolution.\n",
    "* Apply Max Pooling using `pool_ksize` and `pool_strides`.\n",
    " * We recommend you use same padding, but you're welcome to use any padding.\n",
    "\n",
    "**Note:** You **can't** use [TensorFlow Layers](https://www.tensorflow.org/api_docs/python/tf/layers) or [TensorFlow Layers (contrib)](https://www.tensorflow.org/api_guides/python/contrib.layers) for **this** layer, but you can still use TensorFlow's [Neural Network](https://www.tensorflow.org/api_docs/python/tf/nn) package. You may still use the shortcut option for all the **other** layers.\n",
    "\n",
    "** Hint: **\n",
    "\n",
    "When unpacking values as an argument in Python, look into the [unpacking](https://docs.python.org/3/tutorial/controlflow.html#unpacking-argument-lists) operator. "
   ]
  },
  {
   "cell_type": "code",
   "execution_count": 5,
   "metadata": {},
   "outputs": [
    {
     "name": "stdout",
     "output_type": "stream",
     "text": [
      "Tests Passed\n"
     ]
    }
   ],
   "source": [
    "def conv2d_maxpool(x_tensor, conv_num_outputs, conv_ksize, conv_strides, pool_ksize, pool_strides):\n",
    "    \"\"\"\n",
    "    Apply convolution then max pooling to x_tensor\n",
    "    :param x_tensor: TensorFlow Tensor\n",
    "    :param conv_num_outputs: Number of outputs for the convolutional layer\n",
    "    :param conv_ksize: kernal size 2-D Tuple for the convolutional layer\n",
    "    :param conv_strides: Stride 2-D Tuple for convolution\n",
    "    :param pool_ksize: kernal size 2-D Tuple for pool\n",
    "    :param pool_strides: Stride 2-D Tuple for pool\n",
    "    : return: A tensor that represents convolution and max pooling of x_tensor\n",
    "    \"\"\"\n",
    "    # TODO: Implement Function\n",
    "    tensor_shape = x_tensor.get_shape().as_list()\n",
    "    weight_shape = [conv_ksize[0], conv_ksize[1], tensor_shape[-1], conv_num_outputs]\n",
    "    \n",
    "    # Weight and bias\n",
    "    weight = tf.Variable(tf.truncated_normal(weight_shape, stddev=0.08))\n",
    "    bias = tf.Variable(tf.zeros(conv_num_outputs, dtype=tf.float32))\n",
    "    \n",
    "    # Apply Convolution\n",
    "    conv = tf.nn.conv2d(x_tensor, weight, strides=[1, conv_strides[0], conv_strides[1], 1], padding='SAME')\n",
    "    # Add bias\n",
    "    conv = tf.nn.bias_add(conv, bias)\n",
    "    # Apply activation function\n",
    "    conv = tf.nn.relu(conv)\n",
    "    \n",
    "    # Apply pooling\n",
    "    conv = tf.nn.max_pool(conv, \n",
    "                         ksize=[1, pool_ksize[0], pool_ksize[1], 1],\n",
    "                         strides=[1, pool_strides[0], pool_strides[1], 1],\n",
    "                         padding='SAME'\n",
    "                         )\n",
    "    \n",
    "    return conv  \n",
    "\n",
    "\n",
    "\"\"\"\n",
    "DON'T MODIFY ANYTHING IN THIS CELL THAT IS BELOW THIS LINE\n",
    "\"\"\"\n",
    "tests.test_con_pool(conv2d_maxpool)"
   ]
  },
  {
   "cell_type": "markdown",
   "metadata": {},
   "source": [
    "### Flatten Layer\n",
    "Implement the `flatten` function to change the dimension of `x_tensor` from a 4-D tensor to a 2-D tensor.  The output should be the shape (*Batch Size*, *Flattened Image Size*). Shortcut option: you can use classes from the [TensorFlow Layers](https://www.tensorflow.org/api_docs/python/tf/layers) or [TensorFlow Layers (contrib)](https://www.tensorflow.org/api_guides/python/contrib.layers) packages for this layer. For more of a challenge, only use other TensorFlow packages."
   ]
  },
  {
   "cell_type": "code",
   "execution_count": 6,
   "metadata": {},
   "outputs": [
    {
     "name": "stdout",
     "output_type": "stream",
     "text": [
      "Tests Passed\n"
     ]
    }
   ],
   "source": [
    "def flatten(x_tensor):\n",
    "    \"\"\"\n",
    "    Flatten x_tensor to (Batch Size, Flattened Image Size)\n",
    "    : x_tensor: A tensor of size (Batch Size, ...), where ... are the image dimensions.\n",
    "    : return: A tensor of size (Batch Size, Flattened Image Size).\n",
    "    \"\"\"\n",
    "    # TODO: Implement Function\n",
    "    tensor_shape = x_tensor.get_shape().as_list()\n",
    "    flat = np.array(tensor_shape[1:]).prod()\n",
    "    return tf.reshape(x_tensor, [-1, flat])\n",
    "\n",
    "\n",
    "\"\"\"\n",
    "DON'T MODIFY ANYTHING IN THIS CELL THAT IS BELOW THIS LINE\n",
    "\"\"\"\n",
    "tests.test_flatten(flatten)"
   ]
  },
  {
   "cell_type": "markdown",
   "metadata": {},
   "source": [
    "### Fully-Connected Layer\n",
    "Implement the `fully_conn` function to apply a fully connected layer to `x_tensor` with the shape (*Batch Size*, *num_outputs*). Shortcut option: you can use classes from the [TensorFlow Layers](https://www.tensorflow.org/api_docs/python/tf/layers) or [TensorFlow Layers (contrib)](https://www.tensorflow.org/api_guides/python/contrib.layers) packages for this layer. For more of a challenge, only use other TensorFlow packages."
   ]
  },
  {
   "cell_type": "code",
   "execution_count": 7,
   "metadata": {},
   "outputs": [
    {
     "name": "stdout",
     "output_type": "stream",
     "text": [
      "Tests Passed\n"
     ]
    }
   ],
   "source": [
    "def fully_conn(x_tensor, num_outputs):\n",
    "    \"\"\"\n",
    "    Apply a fully connected layer to x_tensor using weight and bias\n",
    "    : x_tensor: A 2-D tensor where the first dimension is batch size.\n",
    "    : num_outputs: The number of output that the new tensor should be.\n",
    "    : return: A 2-D tensor where the second dimension is num_outputs.\n",
    "    \"\"\"\n",
    "    # TODO: Implement Function\n",
    "    tensor_shape = x_tensor.get_shape().as_list()\n",
    "    flat = np.array(tensor_shape[1:]).prod()\n",
    "    \n",
    "    weight = tf.Variable(tf.truncated_normal([flat, num_outputs]))\n",
    "    bias = tf.Variable(tf.zeros([num_outputs]))\n",
    "    \n",
    "    #Full Convolutional\n",
    "    full_conn = tf.nn.relu(tf.add(tf.matmul(x_tensor,weight),bias))\n",
    "    return full_conn\n",
    "\n",
    "\n",
    "\"\"\"\n",
    "DON'T MODIFY ANYTHING IN THIS CELL THAT IS BELOW THIS LINE\n",
    "\"\"\"\n",
    "tests.test_fully_conn(fully_conn)"
   ]
  },
  {
   "cell_type": "markdown",
   "metadata": {},
   "source": [
    "### Output Layer\n",
    "Implement the `output` function to apply a fully connected layer to `x_tensor` with the shape (*Batch Size*, *num_outputs*). Shortcut option: you can use classes from the [TensorFlow Layers](https://www.tensorflow.org/api_docs/python/tf/layers) or [TensorFlow Layers (contrib)](https://www.tensorflow.org/api_guides/python/contrib.layers) packages for this layer. For more of a challenge, only use other TensorFlow packages.\n",
    "\n",
    "**Note:** Activation, softmax, or cross entropy should **not** be applied to this."
   ]
  },
  {
   "cell_type": "code",
   "execution_count": 8,
   "metadata": {},
   "outputs": [
    {
     "name": "stdout",
     "output_type": "stream",
     "text": [
      "Tests Passed\n"
     ]
    }
   ],
   "source": [
    "def output(x_tensor, num_outputs):\n",
    "    \"\"\"\n",
    "    Apply a output layer to x_tensor using weight and bias\n",
    "    : x_tensor: A 2-D tensor where the first dimension is batch size.\n",
    "    : num_outputs: The number of output that the new tensor should be.\n",
    "    : return: A 2-D tensor where the second dimension is num_outputs.\n",
    "    \"\"\"\n",
    "    # TODO: Implement Function\n",
    "    tensor_shape = x_tensor.get_shape().as_list()\n",
    "    flat = np.array(tensor_shape[1:]).prod()\n",
    "    \n",
    "    weight = tf.Variable(tf.truncated_normal([flat, num_outputs], stddev=0.08))\n",
    "    bias = tf.Variable(tf.zeros([num_outputs]))\n",
    "    \n",
    "    #Full Convolutional\n",
    "    out = tf.add(tf.matmul(x_tensor,weight),bias)\n",
    "    return out\n",
    "\n",
    "\n",
    "\"\"\"\n",
    "DON'T MODIFY ANYTHING IN THIS CELL THAT IS BELOW THIS LINE\n",
    "\"\"\"\n",
    "tests.test_output(output)"
   ]
  },
  {
   "cell_type": "markdown",
   "metadata": {},
   "source": [
    "### Create Convolutional Model\n",
    "Implement the function `conv_net` to create a convolutional neural network model. The function takes in a batch of images, `x`, and outputs logits.  Use the layers you created above to create this model:\n",
    "\n",
    "* Apply 1, 2, or 3 Convolution and Max Pool layers\n",
    "* Apply a Flatten Layer\n",
    "* Apply 1, 2, or 3 Fully Connected Layers\n",
    "* Apply an Output Layer\n",
    "* Return the output\n",
    "* Apply [TensorFlow's Dropout](https://www.tensorflow.org/api_docs/python/tf/nn/dropout) to one or more layers in the model using `keep_prob`. "
   ]
  },
  {
   "cell_type": "code",
   "execution_count": 9,
   "metadata": {},
   "outputs": [
    {
     "name": "stdout",
     "output_type": "stream",
     "text": [
      "Neural Network Built!\n"
     ]
    }
   ],
   "source": [
    "def conv_net(x, keep_prob):\n",
    "    \"\"\"\n",
    "    Create a convolutional neural network model\n",
    "    : x: Placeholder tensor that holds image data.\n",
    "    : keep_prob: Placeholder tensor that hold dropout keep probability.\n",
    "    : return: Tensor that represents logits\n",
    "    \"\"\"\n",
    "    # TODO: Apply 1, 2, or 3 Convolution and Max Pool layers\n",
    "    #    Play around with different number of outputs, kernel size and stride\n",
    "    # Function Definition from Above:\n",
    "    #    conv2d_maxpool(x_tensor, conv_num_outputs, conv_ksize, conv_strides, pool_ksize, pool_strides)\n",
    "    conv = conv2d_maxpool(x, conv_num_outputs=64, conv_ksize=[3,3],conv_strides=[1,1], \n",
    "                         pool_ksize=[2,2], pool_strides=[2,2])\n",
    "    conv1 = conv2d_maxpool(conv, conv_num_outputs=128, conv_ksize=[3,3],conv_strides=[1,1], \n",
    "                         pool_ksize=[2,2], pool_strides=[2,2])\n",
    "    conv2 = conv2d_maxpool(conv1, conv_num_outputs=256, conv_ksize=[3,3],conv_strides=[1,1], \n",
    "                         pool_ksize=[2,2], pool_strides=[2,2])\n",
    "    \n",
    "\n",
    "    # TODO: Apply a Flatten Layer\n",
    "    # Function Definition from Above:\n",
    "    #   flatten(x_tensor)\n",
    "    flat_layer = flatten(conv2)\n",
    "\n",
    "    # TODO: Apply 1, 2, or 3 Fully Connected Layers\n",
    "    #    Play around with different number of outputs\n",
    "    # Function Definition from Above:\n",
    "    #   fully_conn(x_tensor, num_outputs)\n",
    "    full_conn = fully_conn(flat_layer, 128)\n",
    "    full_conn = fully_conn(full_conn, 64)\n",
    "    full_conn = tf.nn.dropout(full_conn, keep_prob)\n",
    "    # TODO: Apply an Output Layer\n",
    "    #    Set this to the number of classes\n",
    "    # Function Definition from Above:\n",
    "    #   output(x_tensor, num_outputs)\n",
    "    output_layer = output(full_conn, 10)\n",
    "    \n",
    "    # TODO: return output\n",
    "    return output_layer\n",
    "\n",
    "\n",
    "\"\"\"\n",
    "DON'T MODIFY ANYTHING IN THIS CELL THAT IS BELOW THIS LINE\n",
    "\"\"\"\n",
    "\n",
    "##############################\n",
    "## Build the Neural Network ##\n",
    "##############################\n",
    "\n",
    "# Remove previous weights, bias, inputs, etc..\n",
    "tf.reset_default_graph()\n",
    "\n",
    "# Inputs\n",
    "x = neural_net_image_input((32, 32, 3))\n",
    "y = neural_net_label_input(10)\n",
    "keep_prob = neural_net_keep_prob_input()\n",
    "\n",
    "# Model\n",
    "logits = conv_net(x, keep_prob)\n",
    "\n",
    "# Name logits Tensor, so that is can be loaded from disk after training\n",
    "logits = tf.identity(logits, name='logits')\n",
    "\n",
    "# Loss and Optimizer\n",
    "cost = tf.reduce_mean(tf.nn.softmax_cross_entropy_with_logits(logits=logits, labels=y))\n",
    "optimizer = tf.train.AdamOptimizer().minimize(cost)\n",
    "\n",
    "# Accuracy\n",
    "correct_pred = tf.equal(tf.argmax(logits, 1), tf.argmax(y, 1))\n",
    "accuracy = tf.reduce_mean(tf.cast(correct_pred, tf.float32), name='accuracy')\n",
    "\n",
    "tests.test_conv_net(conv_net)"
   ]
  },
  {
   "cell_type": "markdown",
   "metadata": {},
   "source": [
    "## Train the Neural Network\n",
    "### Single Optimization\n",
    "Implement the function `train_neural_network` to do a single optimization.  The optimization should use `optimizer` to optimize in `session` with a `feed_dict` of the following:\n",
    "* `x` for image input\n",
    "* `y` for labels\n",
    "* `keep_prob` for keep probability for dropout\n",
    "\n",
    "This function will be called for each batch, so `tf.global_variables_initializer()` has already been called.\n",
    "\n",
    "Note: Nothing needs to be returned. This function is only optimizing the neural network."
   ]
  },
  {
   "cell_type": "code",
   "execution_count": 10,
   "metadata": {},
   "outputs": [
    {
     "name": "stdout",
     "output_type": "stream",
     "text": [
      "Tests Passed\n"
     ]
    }
   ],
   "source": [
    "def train_neural_network(session, optimizer, keep_probability, feature_batch, label_batch):\n",
    "    \"\"\"\n",
    "    Optimize the session on a batch of images and labels\n",
    "    : session: Current TensorFlow session\n",
    "    : optimizer: TensorFlow optimizer function\n",
    "    : keep_probability: keep probability\n",
    "    : feature_batch: Batch of Numpy image data\n",
    "    : label_batch: Batch of Numpy label data\n",
    "    \"\"\"\n",
    "    # TODO: Implement Function\n",
    "    session.run(optimizer, feed_dict={x:feature_batch,y:label_batch,keep_prob:keep_probability})\n",
    "\n",
    "\n",
    "\"\"\"\n",
    "DON'T MODIFY ANYTHING IN THIS CELL THAT IS BELOW THIS LINE\n",
    "\"\"\"\n",
    "tests.test_train_nn(train_neural_network)"
   ]
  },
  {
   "cell_type": "markdown",
   "metadata": {},
   "source": [
    "### Show Stats\n",
    "Implement the function `print_stats` to print loss and validation accuracy.  Use the global variables `valid_features` and `valid_labels` to calculate validation accuracy.  Use a keep probability of `1.0` to calculate the loss and validation accuracy."
   ]
  },
  {
   "cell_type": "code",
   "execution_count": 11,
   "metadata": {
    "collapsed": true
   },
   "outputs": [],
   "source": [
    "def print_stats(session, feature_batch, label_batch, cost, accuracy):\n",
    "    \"\"\"\n",
    "    Print information about loss and validation accuracy\n",
    "    : session: Current TensorFlow session\n",
    "    : feature_batch: Batch of Numpy image data\n",
    "    : label_batch: Batch of Numpy label data\n",
    "    : cost: TensorFlow cost function\n",
    "    : accuracy: TensorFlow accuracy function\n",
    "    \"\"\"\n",
    "    # TODO: Implement Function\n",
    "    loss = session.run(cost, feed_dict={x:feature_batch,y:label_batch,keep_prob:1.0})\n",
    "    valid_acc= session.run(accuracy, feed_dict={x:valid_features,y:valid_labels,keep_prob:1.0})\n",
    "    \n",
    "    print('Loss: {} '.format(loss))\n",
    "    print('Validation Accuracy: {}'.format(valid_acc))"
   ]
  },
  {
   "cell_type": "markdown",
   "metadata": {},
   "source": [
    "### Hyperparameters\n",
    "Tune the following parameters:\n",
    "* Set `epochs` to the number of iterations until the network stops learning or start overfitting\n",
    "* Set `batch_size` to the highest number that your machine has memory for.  Most people set them to common sizes of memory:\n",
    " * 64\n",
    " * 128\n",
    " * 256\n",
    " * ...\n",
    "* Set `keep_probability` to the probability of keeping a node using dropout"
   ]
  },
  {
   "cell_type": "code",
   "execution_count": 12,
   "metadata": {
    "collapsed": true
   },
   "outputs": [],
   "source": [
    "# TODO: Tune Parameters\n",
    "epochs = 30\n",
    "batch_size = 256\n",
    "keep_probability = 0.70"
   ]
  },
  {
   "cell_type": "markdown",
   "metadata": {},
   "source": [
    "### Train on a Single CIFAR-10 Batch\n",
    "Instead of training the neural network on all the CIFAR-10 batches of data, let's use a single batch. This should save time while you iterate on the model to get a better accuracy.  Once the final validation accuracy is 50% or greater, run the model on all the data in the next section."
   ]
  },
  {
   "cell_type": "code",
   "execution_count": 15,
   "metadata": {},
   "outputs": [
    {
     "name": "stdout",
     "output_type": "stream",
     "text": [
      "Checking the Training on a Single Batch...\n",
      "Epoch  1, CIFAR-10 Batch 1:  Loss: 2.192220687866211 \n",
      "Validation Accuracy: 0.18479999899864197\n",
      "Epoch  2, CIFAR-10 Batch 1:  Loss: 1.9087625741958618 \n",
      "Validation Accuracy: 0.25040000677108765\n",
      "Epoch  3, CIFAR-10 Batch 1:  Loss: 1.7534431219100952 \n",
      "Validation Accuracy: 0.3057999908924103\n",
      "Epoch  4, CIFAR-10 Batch 1:  Loss: 1.5339417457580566 \n",
      "Validation Accuracy: 0.35920000076293945\n",
      "Epoch  5, CIFAR-10 Batch 1:  Loss: 1.424763798713684 \n",
      "Validation Accuracy: 0.3898000121116638\n",
      "Epoch  6, CIFAR-10 Batch 1:  Loss: 1.2733232975006104 \n",
      "Validation Accuracy: 0.40860000252723694\n",
      "Epoch  7, CIFAR-10 Batch 1:  Loss: 1.1279754638671875 \n",
      "Validation Accuracy: 0.4368000030517578\n",
      "Epoch  8, CIFAR-10 Batch 1:  Loss: 1.076719880104065 \n",
      "Validation Accuracy: 0.44699999690055847\n",
      "Epoch  9, CIFAR-10 Batch 1:  Loss: 0.9541136622428894 \n",
      "Validation Accuracy: 0.46160000562667847\n",
      "Epoch 10, CIFAR-10 Batch 1:  Loss: 0.8415573239326477 \n",
      "Validation Accuracy: 0.4814000129699707\n",
      "Epoch 11, CIFAR-10 Batch 1:  Loss: 0.7286956906318665 \n",
      "Validation Accuracy: 0.4925999939441681\n",
      "Epoch 12, CIFAR-10 Batch 1:  Loss: 0.6074582934379578 \n",
      "Validation Accuracy: 0.49540001153945923\n",
      "Epoch 13, CIFAR-10 Batch 1:  Loss: 0.6016833186149597 \n",
      "Validation Accuracy: 0.4887999892234802\n",
      "Epoch 14, CIFAR-10 Batch 1:  Loss: 0.4609357714653015 \n",
      "Validation Accuracy: 0.4970000088214874\n",
      "Epoch 15, CIFAR-10 Batch 1:  Loss: 0.38660719990730286 \n",
      "Validation Accuracy: 0.5031999945640564\n",
      "Epoch 16, CIFAR-10 Batch 1:  Loss: 0.38571351766586304 \n",
      "Validation Accuracy: 0.5144000053405762\n",
      "Epoch 17, CIFAR-10 Batch 1:  Loss: 0.33324679732322693 \n",
      "Validation Accuracy: 0.5163999795913696\n",
      "Epoch 18, CIFAR-10 Batch 1:  Loss: 0.2743854522705078 \n",
      "Validation Accuracy: 0.5113999843597412\n",
      "Epoch 19, CIFAR-10 Batch 1:  Loss: 0.23068824410438538 \n",
      "Validation Accuracy: 0.5202000141143799\n",
      "Epoch 20, CIFAR-10 Batch 1:  Loss: 0.25313103199005127 \n",
      "Validation Accuracy: 0.5202000141143799\n",
      "Epoch 21, CIFAR-10 Batch 1:  Loss: 0.21919091045856476 \n",
      "Validation Accuracy: 0.5194000005722046\n",
      "Epoch 22, CIFAR-10 Batch 1:  Loss: 0.2065945416688919 \n",
      "Validation Accuracy: 0.5260000228881836\n",
      "Epoch 23, CIFAR-10 Batch 1:  Loss: 0.2880805730819702 \n",
      "Validation Accuracy: 0.4986000061035156\n",
      "Epoch 24, CIFAR-10 Batch 1:  Loss: 0.21491065621376038 \n",
      "Validation Accuracy: 0.5238000154495239\n",
      "Epoch 25, CIFAR-10 Batch 1:  Loss: 0.19537284970283508 \n",
      "Validation Accuracy: 0.5144000053405762\n",
      "Epoch 26, CIFAR-10 Batch 1:  Loss: 0.1828375607728958 \n",
      "Validation Accuracy: 0.5311999917030334\n",
      "Epoch 27, CIFAR-10 Batch 1:  Loss: 0.1917821764945984 \n",
      "Validation Accuracy: 0.5285999774932861\n",
      "Epoch 28, CIFAR-10 Batch 1:  Loss: 0.1489969789981842 \n",
      "Validation Accuracy: 0.5339999794960022\n",
      "Epoch 29, CIFAR-10 Batch 1:  Loss: 0.14858277142047882 \n",
      "Validation Accuracy: 0.5461999773979187\n",
      "Epoch 30, CIFAR-10 Batch 1:  Loss: 0.17378266155719757 \n",
      "Validation Accuracy: 0.5085999965667725\n"
     ]
    }
   ],
   "source": [
    "\"\"\"\n",
    "DON'T MODIFY ANYTHING IN THIS CELL\n",
    "\"\"\"\n",
    "print('Checking the Training on a Single Batch...')\n",
    "with tf.Session() as sess:\n",
    "    # Initializing the variables\n",
    "    sess.run(tf.global_variables_initializer())\n",
    "    \n",
    "    # Training cycle\n",
    "    for epoch in range(epochs):\n",
    "        batch_i = 1\n",
    "        for batch_features, batch_labels in helper.load_preprocess_training_batch(batch_i, batch_size):\n",
    "            train_neural_network(sess, optimizer, keep_probability, batch_features, batch_labels)\n",
    "        print('Epoch {:>2}, CIFAR-10 Batch {}:  '.format(epoch + 1, batch_i), end='')\n",
    "        print_stats(sess, batch_features, batch_labels, cost, accuracy)"
   ]
  },
  {
   "cell_type": "markdown",
   "metadata": {},
   "source": [
    "### Fully Train the Model\n",
    "Now that you got a good accuracy with a single CIFAR-10 batch, try it with all five batches."
   ]
  },
  {
   "cell_type": "code",
   "execution_count": 13,
   "metadata": {},
   "outputs": [
    {
     "name": "stdout",
     "output_type": "stream",
     "text": [
      "Training...\n",
      "Epoch  1, CIFAR-10 Batch 1:  Loss: 2.4398281574249268 \n",
      "Validation Accuracy: 0.17440000176429749\n",
      "Epoch  1, CIFAR-10 Batch 2:  Loss: 1.996768593788147 \n",
      "Validation Accuracy: 0.25999999046325684\n",
      "Epoch  1, CIFAR-10 Batch 3:  Loss: 1.6712478399276733 \n",
      "Validation Accuracy: 0.2971999943256378\n",
      "Epoch  1, CIFAR-10 Batch 4:  Loss: 1.6415208578109741 \n",
      "Validation Accuracy: 0.32019999623298645\n",
      "Epoch  1, CIFAR-10 Batch 5:  Loss: 1.6036994457244873 \n",
      "Validation Accuracy: 0.35179999470710754\n",
      "Epoch  2, CIFAR-10 Batch 1:  Loss: 1.8939882516860962 \n",
      "Validation Accuracy: 0.3822000026702881\n",
      "Epoch  2, CIFAR-10 Batch 2:  Loss: 1.3711529970169067 \n",
      "Validation Accuracy: 0.39480000734329224\n",
      "Epoch  2, CIFAR-10 Batch 3:  Loss: 1.341554880142212 \n",
      "Validation Accuracy: 0.40540000796318054\n",
      "Epoch  2, CIFAR-10 Batch 4:  Loss: 1.419863224029541 \n",
      "Validation Accuracy: 0.43320000171661377\n",
      "Epoch  2, CIFAR-10 Batch 5:  Loss: 1.4126975536346436 \n",
      "Validation Accuracy: 0.42660000920295715\n",
      "Epoch  3, CIFAR-10 Batch 1:  Loss: 1.6153281927108765 \n",
      "Validation Accuracy: 0.4578000009059906\n",
      "Epoch  3, CIFAR-10 Batch 2:  Loss: 1.2191755771636963 \n",
      "Validation Accuracy: 0.45719999074935913\n",
      "Epoch  3, CIFAR-10 Batch 3:  Loss: 1.069108009338379 \n",
      "Validation Accuracy: 0.462799996137619\n",
      "Epoch  3, CIFAR-10 Batch 4:  Loss: 1.1848762035369873 \n",
      "Validation Accuracy: 0.4925999939441681\n",
      "Epoch  3, CIFAR-10 Batch 5:  Loss: 1.1977859735488892 \n",
      "Validation Accuracy: 0.48559999465942383\n",
      "Epoch  4, CIFAR-10 Batch 1:  Loss: 1.4521535634994507 \n",
      "Validation Accuracy: 0.5090000033378601\n",
      "Epoch  4, CIFAR-10 Batch 2:  Loss: 0.9716814160346985 \n",
      "Validation Accuracy: 0.49619999527931213\n",
      "Epoch  4, CIFAR-10 Batch 3:  Loss: 0.9076148867607117 \n",
      "Validation Accuracy: 0.5188000202178955\n",
      "Epoch  4, CIFAR-10 Batch 4:  Loss: 0.9377191662788391 \n",
      "Validation Accuracy: 0.5153999924659729\n",
      "Epoch  4, CIFAR-10 Batch 5:  Loss: 1.0477083921432495 \n",
      "Validation Accuracy: 0.5156000256538391\n",
      "Epoch  5, CIFAR-10 Batch 1:  Loss: 1.2080436944961548 \n",
      "Validation Accuracy: 0.520799994468689\n",
      "Epoch  5, CIFAR-10 Batch 2:  Loss: 0.8570994138717651 \n",
      "Validation Accuracy: 0.5419999957084656\n",
      "Epoch  5, CIFAR-10 Batch 3:  Loss: 0.8423548936843872 \n",
      "Validation Accuracy: 0.5551999807357788\n",
      "Epoch  5, CIFAR-10 Batch 4:  Loss: 0.830191969871521 \n",
      "Validation Accuracy: 0.5569999814033508\n",
      "Epoch  5, CIFAR-10 Batch 5:  Loss: 0.8507925271987915 \n",
      "Validation Accuracy: 0.5475999712944031\n",
      "Epoch  6, CIFAR-10 Batch 1:  Loss: 0.9646465182304382 \n",
      "Validation Accuracy: 0.5468000173568726\n",
      "Epoch  6, CIFAR-10 Batch 2:  Loss: 0.8442420959472656 \n",
      "Validation Accuracy: 0.5527999997138977\n",
      "Epoch  6, CIFAR-10 Batch 3:  Loss: 0.6605364084243774 \n",
      "Validation Accuracy: 0.5687999725341797\n",
      "Epoch  6, CIFAR-10 Batch 4:  Loss: 0.7521565556526184 \n",
      "Validation Accuracy: 0.5613999962806702\n",
      "Epoch  6, CIFAR-10 Batch 5:  Loss: 0.7488201856613159 \n",
      "Validation Accuracy: 0.5756000280380249\n",
      "Epoch  7, CIFAR-10 Batch 1:  Loss: 0.8333142995834351 \n",
      "Validation Accuracy: 0.5551999807357788\n",
      "Epoch  7, CIFAR-10 Batch 2:  Loss: 0.7048668265342712 \n",
      "Validation Accuracy: 0.5776000022888184\n",
      "Epoch  7, CIFAR-10 Batch 3:  Loss: 0.5825253129005432 \n",
      "Validation Accuracy: 0.5806000232696533\n",
      "Epoch  7, CIFAR-10 Batch 4:  Loss: 0.630959689617157 \n",
      "Validation Accuracy: 0.5875999927520752\n",
      "Epoch  7, CIFAR-10 Batch 5:  Loss: 0.706954300403595 \n",
      "Validation Accuracy: 0.5961999893188477\n",
      "Epoch  8, CIFAR-10 Batch 1:  Loss: 0.7592021226882935 \n",
      "Validation Accuracy: 0.5964000225067139\n",
      "Epoch  8, CIFAR-10 Batch 2:  Loss: 0.6315843462944031 \n",
      "Validation Accuracy: 0.5943999886512756\n",
      "Epoch  8, CIFAR-10 Batch 3:  Loss: 0.48421016335487366 \n",
      "Validation Accuracy: 0.5777999758720398\n",
      "Epoch  8, CIFAR-10 Batch 4:  Loss: 0.5518937706947327 \n",
      "Validation Accuracy: 0.6047999858856201\n",
      "Epoch  8, CIFAR-10 Batch 5:  Loss: 0.5844358205795288 \n",
      "Validation Accuracy: 0.5942000150680542\n",
      "Epoch  9, CIFAR-10 Batch 1:  Loss: 0.6421406865119934 \n",
      "Validation Accuracy: 0.5965999960899353\n",
      "Epoch  9, CIFAR-10 Batch 2:  Loss: 0.5362574458122253 \n",
      "Validation Accuracy: 0.6093999743461609\n",
      "Epoch  9, CIFAR-10 Batch 3:  Loss: 0.40441179275512695 \n",
      "Validation Accuracy: 0.5997999906539917\n",
      "Epoch  9, CIFAR-10 Batch 4:  Loss: 0.5137375593185425 \n",
      "Validation Accuracy: 0.620199978351593\n",
      "Epoch  9, CIFAR-10 Batch 5:  Loss: 0.4566706717014313 \n",
      "Validation Accuracy: 0.6064000129699707\n",
      "Epoch 10, CIFAR-10 Batch 1:  Loss: 0.5735599398612976 \n",
      "Validation Accuracy: 0.6055999994277954\n",
      "Epoch 10, CIFAR-10 Batch 2:  Loss: 0.5330716967582703 \n",
      "Validation Accuracy: 0.6083999872207642\n",
      "Epoch 10, CIFAR-10 Batch 3:  Loss: 0.3599594533443451 \n",
      "Validation Accuracy: 0.5965999960899353\n",
      "Epoch 10, CIFAR-10 Batch 4:  Loss: 0.4370625615119934 \n",
      "Validation Accuracy: 0.6141999959945679\n",
      "Epoch 10, CIFAR-10 Batch 5:  Loss: 0.44488176703453064 \n",
      "Validation Accuracy: 0.6169999837875366\n",
      "Epoch 11, CIFAR-10 Batch 1:  Loss: 0.49788346886634827 \n",
      "Validation Accuracy: 0.61080002784729\n",
      "Epoch 11, CIFAR-10 Batch 2:  Loss: 0.468906968832016 \n",
      "Validation Accuracy: 0.6169999837875366\n",
      "Epoch 11, CIFAR-10 Batch 3:  Loss: 0.2608680725097656 \n",
      "Validation Accuracy: 0.6331999897956848\n",
      "Epoch 11, CIFAR-10 Batch 4:  Loss: 0.3878882825374603 \n",
      "Validation Accuracy: 0.6317999958992004\n",
      "Epoch 11, CIFAR-10 Batch 5:  Loss: 0.36020275950431824 \n",
      "Validation Accuracy: 0.6277999877929688\n",
      "Epoch 12, CIFAR-10 Batch 1:  Loss: 0.46223384141921997 \n",
      "Validation Accuracy: 0.6226000189781189\n",
      "Epoch 12, CIFAR-10 Batch 2:  Loss: 0.37396040558815 \n",
      "Validation Accuracy: 0.6209999918937683\n",
      "Epoch 12, CIFAR-10 Batch 3:  Loss: 0.24550199508666992 \n",
      "Validation Accuracy: 0.6331999897956848\n",
      "Epoch 12, CIFAR-10 Batch 4:  Loss: 0.3674857020378113 \n",
      "Validation Accuracy: 0.6299999952316284\n",
      "Epoch 12, CIFAR-10 Batch 5:  Loss: 0.2898639142513275 \n",
      "Validation Accuracy: 0.6326000094413757\n",
      "Epoch 13, CIFAR-10 Batch 1:  Loss: 0.44113674759864807 \n",
      "Validation Accuracy: 0.6340000033378601\n",
      "Epoch 13, CIFAR-10 Batch 2:  Loss: 0.3359730839729309 \n",
      "Validation Accuracy: 0.6331999897956848\n",
      "Epoch 13, CIFAR-10 Batch 3:  Loss: 0.22326941788196564 \n",
      "Validation Accuracy: 0.6373999714851379\n",
      "Epoch 13, CIFAR-10 Batch 4:  Loss: 0.2975248098373413 \n",
      "Validation Accuracy: 0.6287999749183655\n",
      "Epoch 13, CIFAR-10 Batch 5:  Loss: 0.2636167109012604 \n",
      "Validation Accuracy: 0.6498000025749207\n",
      "Epoch 14, CIFAR-10 Batch 1:  Loss: 0.39008957147598267 \n",
      "Validation Accuracy: 0.6348000168800354\n",
      "Epoch 14, CIFAR-10 Batch 2:  Loss: 0.3028334081172943 \n",
      "Validation Accuracy: 0.620199978351593\n",
      "Epoch 14, CIFAR-10 Batch 3:  Loss: 0.19193318486213684 \n",
      "Validation Accuracy: 0.6402000188827515\n",
      "Epoch 14, CIFAR-10 Batch 4:  Loss: 0.29983991384506226 \n",
      "Validation Accuracy: 0.6521999835968018\n",
      "Epoch 14, CIFAR-10 Batch 5:  Loss: 0.2728688716888428 \n",
      "Validation Accuracy: 0.645799994468689\n",
      "Epoch 15, CIFAR-10 Batch 1:  Loss: 0.4162465035915375 \n",
      "Validation Accuracy: 0.6416000127792358\n",
      "Epoch 15, CIFAR-10 Batch 2:  Loss: 0.23649096488952637 \n",
      "Validation Accuracy: 0.6355999708175659\n",
      "Epoch 15, CIFAR-10 Batch 3:  Loss: 0.1803901493549347 \n",
      "Validation Accuracy: 0.6236000061035156\n",
      "Epoch 15, CIFAR-10 Batch 4:  Loss: 0.2253357470035553 \n",
      "Validation Accuracy: 0.652999997138977\n",
      "Epoch 15, CIFAR-10 Batch 5:  Loss: 0.21334433555603027 \n",
      "Validation Accuracy: 0.6583999991416931\n",
      "Epoch 16, CIFAR-10 Batch 1:  Loss: 0.3053033649921417 \n",
      "Validation Accuracy: 0.640999972820282\n",
      "Epoch 16, CIFAR-10 Batch 2:  Loss: 0.22180871665477753 \n",
      "Validation Accuracy: 0.6496000289916992\n",
      "Epoch 16, CIFAR-10 Batch 3:  Loss: 0.1480402946472168 \n",
      "Validation Accuracy: 0.6444000005722046\n",
      "Epoch 16, CIFAR-10 Batch 4:  Loss: 0.21956801414489746 \n",
      "Validation Accuracy: 0.6496000289916992\n",
      "Epoch 16, CIFAR-10 Batch 5:  Loss: 0.1893382966518402 \n",
      "Validation Accuracy: 0.6510000228881836\n",
      "Epoch 17, CIFAR-10 Batch 1:  Loss: 0.25875532627105713 \n",
      "Validation Accuracy: 0.6507999897003174\n",
      "Epoch 17, CIFAR-10 Batch 2:  Loss: 0.1940818727016449 \n",
      "Validation Accuracy: 0.6589999794960022\n",
      "Epoch 17, CIFAR-10 Batch 3:  Loss: 0.13352836668491364 \n",
      "Validation Accuracy: 0.6498000025749207\n",
      "Epoch 17, CIFAR-10 Batch 4:  Loss: 0.24558722972869873 \n",
      "Validation Accuracy: 0.6395999789237976\n",
      "Epoch 17, CIFAR-10 Batch 5:  Loss: 0.17714884877204895 \n",
      "Validation Accuracy: 0.6570000052452087\n",
      "Epoch 18, CIFAR-10 Batch 1:  Loss: 0.3388875126838684 \n",
      "Validation Accuracy: 0.6358000040054321\n"
     ]
    },
    {
     "name": "stdout",
     "output_type": "stream",
     "text": [
      "Epoch 18, CIFAR-10 Batch 2:  Loss: 0.21666455268859863 \n",
      "Validation Accuracy: 0.6480000019073486\n",
      "Epoch 18, CIFAR-10 Batch 3:  Loss: 0.1092112809419632 \n",
      "Validation Accuracy: 0.6567999720573425\n",
      "Epoch 18, CIFAR-10 Batch 4:  Loss: 0.23548975586891174 \n",
      "Validation Accuracy: 0.6258000135421753\n",
      "Epoch 18, CIFAR-10 Batch 5:  Loss: 0.15181291103363037 \n",
      "Validation Accuracy: 0.647599995136261\n",
      "Epoch 19, CIFAR-10 Batch 1:  Loss: 0.266019344329834 \n",
      "Validation Accuracy: 0.6241999864578247\n",
      "Epoch 19, CIFAR-10 Batch 2:  Loss: 0.1503668576478958 \n",
      "Validation Accuracy: 0.6489999890327454\n",
      "Epoch 19, CIFAR-10 Batch 3:  Loss: 0.1105768233537674 \n",
      "Validation Accuracy: 0.656000018119812\n",
      "Epoch 19, CIFAR-10 Batch 4:  Loss: 0.15261268615722656 \n",
      "Validation Accuracy: 0.6574000120162964\n",
      "Epoch 19, CIFAR-10 Batch 5:  Loss: 0.12106452882289886 \n",
      "Validation Accuracy: 0.6520000100135803\n",
      "Epoch 20, CIFAR-10 Batch 1:  Loss: 0.24122658371925354 \n",
      "Validation Accuracy: 0.6431999802589417\n",
      "Epoch 20, CIFAR-10 Batch 2:  Loss: 0.1812974065542221 \n",
      "Validation Accuracy: 0.6636000275611877\n",
      "Epoch 20, CIFAR-10 Batch 3:  Loss: 0.07694853842258453 \n",
      "Validation Accuracy: 0.6579999923706055\n",
      "Epoch 20, CIFAR-10 Batch 4:  Loss: 0.1608104556798935 \n",
      "Validation Accuracy: 0.6520000100135803\n",
      "Epoch 20, CIFAR-10 Batch 5:  Loss: 0.1207653135061264 \n",
      "Validation Accuracy: 0.6682000160217285\n",
      "Epoch 21, CIFAR-10 Batch 1:  Loss: 0.19184157252311707 \n",
      "Validation Accuracy: 0.6406000256538391\n",
      "Epoch 21, CIFAR-10 Batch 2:  Loss: 0.12299364805221558 \n",
      "Validation Accuracy: 0.6471999883651733\n",
      "Epoch 21, CIFAR-10 Batch 3:  Loss: 0.06784488260746002 \n",
      "Validation Accuracy: 0.6399999856948853\n",
      "Epoch 21, CIFAR-10 Batch 4:  Loss: 0.11758460104465485 \n",
      "Validation Accuracy: 0.640999972820282\n",
      "Epoch 21, CIFAR-10 Batch 5:  Loss: 0.08577045053243637 \n",
      "Validation Accuracy: 0.6769999861717224\n",
      "Epoch 22, CIFAR-10 Batch 1:  Loss: 0.15338782966136932 \n",
      "Validation Accuracy: 0.6611999869346619\n",
      "Epoch 22, CIFAR-10 Batch 2:  Loss: 0.13752783834934235 \n",
      "Validation Accuracy: 0.652400016784668\n",
      "Epoch 22, CIFAR-10 Batch 3:  Loss: 0.10281020402908325 \n",
      "Validation Accuracy: 0.6355999708175659\n",
      "Epoch 22, CIFAR-10 Batch 4:  Loss: 0.1388448029756546 \n",
      "Validation Accuracy: 0.6370000243186951\n",
      "Epoch 22, CIFAR-10 Batch 5:  Loss: 0.07172640413045883 \n",
      "Validation Accuracy: 0.6800000071525574\n",
      "Epoch 23, CIFAR-10 Batch 1:  Loss: 0.1272358000278473 \n",
      "Validation Accuracy: 0.6654000282287598\n",
      "Epoch 23, CIFAR-10 Batch 2:  Loss: 0.10290259122848511 \n",
      "Validation Accuracy: 0.65420001745224\n",
      "Epoch 23, CIFAR-10 Batch 3:  Loss: 0.07474619895219803 \n",
      "Validation Accuracy: 0.6460000276565552\n",
      "Epoch 23, CIFAR-10 Batch 4:  Loss: 0.08947456628084183 \n",
      "Validation Accuracy: 0.6417999863624573\n",
      "Epoch 23, CIFAR-10 Batch 5:  Loss: 0.053740572184324265 \n",
      "Validation Accuracy: 0.6779999732971191\n",
      "Epoch 24, CIFAR-10 Batch 1:  Loss: 0.1156507134437561 \n",
      "Validation Accuracy: 0.6710000038146973\n",
      "Epoch 24, CIFAR-10 Batch 2:  Loss: 0.11490365117788315 \n",
      "Validation Accuracy: 0.6478000283241272\n",
      "Epoch 24, CIFAR-10 Batch 3:  Loss: 0.062368202954530716 \n",
      "Validation Accuracy: 0.6679999828338623\n",
      "Epoch 24, CIFAR-10 Batch 4:  Loss: 0.09671861678361893 \n",
      "Validation Accuracy: 0.6448000073432922\n",
      "Epoch 24, CIFAR-10 Batch 5:  Loss: 0.05647165700793266 \n",
      "Validation Accuracy: 0.676800012588501\n",
      "Epoch 25, CIFAR-10 Batch 1:  Loss: 0.0890796110033989 \n",
      "Validation Accuracy: 0.6722000241279602\n",
      "Epoch 25, CIFAR-10 Batch 2:  Loss: 0.10010228306055069 \n",
      "Validation Accuracy: 0.6636000275611877\n",
      "Epoch 25, CIFAR-10 Batch 3:  Loss: 0.0668494701385498 \n",
      "Validation Accuracy: 0.6642000079154968\n",
      "Epoch 25, CIFAR-10 Batch 4:  Loss: 0.10034202039241791 \n",
      "Validation Accuracy: 0.6633999943733215\n",
      "Epoch 25, CIFAR-10 Batch 5:  Loss: 0.05487396568059921 \n",
      "Validation Accuracy: 0.6439999938011169\n",
      "Epoch 26, CIFAR-10 Batch 1:  Loss: 0.08691275119781494 \n",
      "Validation Accuracy: 0.6552000045776367\n",
      "Epoch 26, CIFAR-10 Batch 2:  Loss: 0.12193319946527481 \n",
      "Validation Accuracy: 0.6258000135421753\n",
      "Epoch 26, CIFAR-10 Batch 3:  Loss: 0.041434697806835175 \n",
      "Validation Accuracy: 0.6485999822616577\n",
      "Epoch 26, CIFAR-10 Batch 4:  Loss: 0.07860343158245087 \n",
      "Validation Accuracy: 0.6747999787330627\n",
      "Epoch 26, CIFAR-10 Batch 5:  Loss: 0.04911157116293907 \n",
      "Validation Accuracy: 0.6412000060081482\n",
      "Epoch 27, CIFAR-10 Batch 1:  Loss: 0.060851067304611206 \n",
      "Validation Accuracy: 0.6751999855041504\n",
      "Epoch 27, CIFAR-10 Batch 2:  Loss: 0.07396220415830612 \n",
      "Validation Accuracy: 0.6462000012397766\n",
      "Epoch 27, CIFAR-10 Batch 3:  Loss: 0.04363567754626274 \n",
      "Validation Accuracy: 0.6592000126838684\n",
      "Epoch 27, CIFAR-10 Batch 4:  Loss: 0.06511826813220978 \n",
      "Validation Accuracy: 0.676800012588501\n",
      "Epoch 27, CIFAR-10 Batch 5:  Loss: 0.03565957397222519 \n",
      "Validation Accuracy: 0.646399974822998\n",
      "Epoch 28, CIFAR-10 Batch 1:  Loss: 0.07963661104440689 \n",
      "Validation Accuracy: 0.6531999707221985\n",
      "Epoch 28, CIFAR-10 Batch 2:  Loss: 0.05472378060221672 \n",
      "Validation Accuracy: 0.6489999890327454\n",
      "Epoch 28, CIFAR-10 Batch 3:  Loss: 0.05147663503885269 \n",
      "Validation Accuracy: 0.6692000031471252\n",
      "Epoch 28, CIFAR-10 Batch 4:  Loss: 0.08350090682506561 \n",
      "Validation Accuracy: 0.6639999747276306\n",
      "Epoch 28, CIFAR-10 Batch 5:  Loss: 0.02699340507388115 \n",
      "Validation Accuracy: 0.6751999855041504\n",
      "Epoch 29, CIFAR-10 Batch 1:  Loss: 0.06917455792427063 \n",
      "Validation Accuracy: 0.6543999910354614\n",
      "Epoch 29, CIFAR-10 Batch 2:  Loss: 0.04296737536787987 \n",
      "Validation Accuracy: 0.6632000207901001\n",
      "Epoch 29, CIFAR-10 Batch 3:  Loss: 0.04621865972876549 \n",
      "Validation Accuracy: 0.6557999849319458\n",
      "Epoch 29, CIFAR-10 Batch 4:  Loss: 0.04196377843618393 \n",
      "Validation Accuracy: 0.6639999747276306\n",
      "Epoch 29, CIFAR-10 Batch 5:  Loss: 0.0198538675904274 \n",
      "Validation Accuracy: 0.6606000065803528\n",
      "Epoch 30, CIFAR-10 Batch 1:  Loss: 0.04126202315092087 \n",
      "Validation Accuracy: 0.6585999727249146\n",
      "Epoch 30, CIFAR-10 Batch 2:  Loss: 0.03356143832206726 \n",
      "Validation Accuracy: 0.629800021648407\n",
      "Epoch 30, CIFAR-10 Batch 3:  Loss: 0.048770640045404434 \n",
      "Validation Accuracy: 0.6520000100135803\n",
      "Epoch 30, CIFAR-10 Batch 4:  Loss: 0.04522194713354111 \n",
      "Validation Accuracy: 0.6492000222206116\n",
      "Epoch 30, CIFAR-10 Batch 5:  Loss: 0.013330990448594093 \n",
      "Validation Accuracy: 0.680400013923645\n"
     ]
    }
   ],
   "source": [
    "\"\"\"\n",
    "DON'T MODIFY ANYTHING IN THIS CELL\n",
    "\"\"\"\n",
    "save_model_path = './image_classification'\n",
    "\n",
    "print('Training...')\n",
    "with tf.Session() as sess:\n",
    "    # Initializing the variables\n",
    "    sess.run(tf.global_variables_initializer())\n",
    "    \n",
    "    # Training cycle\n",
    "    for epoch in range(epochs):\n",
    "        # Loop over all batches\n",
    "        n_batches = 5\n",
    "        for batch_i in range(1, n_batches + 1):\n",
    "            for batch_features, batch_labels in helper.load_preprocess_training_batch(batch_i, batch_size):\n",
    "                train_neural_network(sess, optimizer, keep_probability, batch_features, batch_labels)\n",
    "            print('Epoch {:>2}, CIFAR-10 Batch {}:  '.format(epoch + 1, batch_i), end='')\n",
    "            print_stats(sess, batch_features, batch_labels, cost, accuracy)\n",
    "            \n",
    "    # Save Model\n",
    "    saver = tf.train.Saver()\n",
    "    save_path = saver.save(sess, save_model_path)"
   ]
  },
  {
   "cell_type": "markdown",
   "metadata": {},
   "source": [
    "# Checkpoint\n",
    "The model has been saved to disk.\n",
    "## Test Model\n",
    "Test your model against the test dataset.  This will be your final accuracy. You should have an accuracy greater than 50%. If you don't, keep tweaking the model architecture and parameters."
   ]
  },
  {
   "cell_type": "code",
   "execution_count": 14,
   "metadata": {},
   "outputs": [
    {
     "name": "stdout",
     "output_type": "stream",
     "text": [
      "INFO:tensorflow:Restoring parameters from ./image_classification\n",
      "Testing Accuracy: 0.6744140625\n",
      "\n"
     ]
    },
    {
     "data": {
      "image/png": "[encoded data removed]",
      "text/plain": [
       "<matplotlib.figure.Figure at 0x28112606438>"
      ]
     },
     "metadata": {
      "image/png": {
       "height": 319,
       "width": 355
      }
     },
     "output_type": "display_data"
    }
   ],
   "source": [
    "\"\"\"\n",
    "DON'T MODIFY ANYTHING IN THIS CELL\n",
    "\"\"\"\n",
    "%matplotlib inline\n",
    "%config InlineBackend.figure_format = 'retina'\n",
    "\n",
    "import tensorflow as tf\n",
    "import pickle\n",
    "import helper\n",
    "import random\n",
    "\n",
    "# Set batch size if not already set\n",
    "try:\n",
    "    if batch_size:\n",
    "        pass\n",
    "except NameError:\n",
    "    batch_size = 64\n",
    "\n",
    "save_model_path = './image_classification'\n",
    "n_samples = 4\n",
    "top_n_predictions = 3\n",
    "\n",
    "def test_model():\n",
    "    \"\"\"\n",
    "    Test the saved model against the test dataset\n",
    "    \"\"\"\n",
    "\n",
    "    test_features, test_labels = pickle.load(open('preprocess_training.p', mode='rb'))\n",
    "    loaded_graph = tf.Graph()\n",
    "\n",
    "    with tf.Session(graph=loaded_graph) as sess:\n",
    "        # Load model\n",
    "        loader = tf.train.import_meta_graph(save_model_path + '.meta')\n",
    "        loader.restore(sess, save_model_path)\n",
    "\n",
    "        # Get Tensors from loaded model\n",
    "        loaded_x = loaded_graph.get_tensor_by_name('x:0')\n",
    "        loaded_y = loaded_graph.get_tensor_by_name('y:0')\n",
    "        loaded_keep_prob = loaded_graph.get_tensor_by_name('keep_prob:0')\n",
    "        loaded_logits = loaded_graph.get_tensor_by_name('logits:0')\n",
    "        loaded_acc = loaded_graph.get_tensor_by_name('accuracy:0')\n",
    "        \n",
    "        # Get accuracy in batches for memory limitations\n",
    "        test_batch_acc_total = 0\n",
    "        test_batch_count = 0\n",
    "        \n",
    "        for train_feature_batch, train_label_batch in helper.batch_features_labels(test_features, test_labels, batch_size):\n",
    "            test_batch_acc_total += sess.run(\n",
    "                loaded_acc,\n",
    "                feed_dict={loaded_x: train_feature_batch, loaded_y: train_label_batch, loaded_keep_prob: 1.0})\n",
    "            test_batch_count += 1\n",
    "\n",
    "        print('Testing Accuracy: {}\\n'.format(test_batch_acc_total/test_batch_count))\n",
    "\n",
    "        # Print Random Samples\n",
    "        random_test_features, random_test_labels = tuple(zip(*random.sample(list(zip(test_features, test_labels)), n_samples)))\n",
    "        random_test_predictions = sess.run(\n",
    "            tf.nn.top_k(tf.nn.softmax(loaded_logits), top_n_predictions),\n",
    "            feed_dict={loaded_x: random_test_features, loaded_y: random_test_labels, loaded_keep_prob: 1.0})\n",
    "        helper.display_image_predictions(random_test_features, random_test_labels, random_test_predictions)\n",
    "\n",
    "\n",
    "test_model()"
   ]
  },
  {
   "cell_type": "markdown",
   "metadata": {},
   "source": [
    "## Why 50-80% Accuracy?\n",
    "You might be wondering why you can't get an accuracy any higher. First things first, 50% isn't bad for a simple CNN.  Pure guessing would get you 10% accuracy. That's because there are many more techniques that can be applied to your model and we recemmond that once you are done with this project, you explore!\n",
    "\n",
    "## Submitting This Project\n",
    "When submitting this project, make sure to run all the cells before saving the notebook.  Save the notebook file as \"image_classification.ipynb\" and save it as a HTML file under \"File\" -> \"Download as\".  Include the \"helper.py\" and \"problem_unittests.py\" files in your submission."
   ]
  }
 ],
 "metadata": {
  "kernelspec": {
   "display_name": "Python 3",
   "language": "python",
   "name": "python3"
  },
  "language_info": {
   "codemirror_mode": {
    "name": "ipython",
    "version": 3
   },
   "file_extension": ".py",
   "mimetype": "text/x-python",
   "name": "python",
   "nbconvert_exporter": "python",
   "pygments_lexer": "ipython3",
   "version": "3.6.1"
  }
 },
 "nbformat": 4,
 "nbformat_minor": 1
}
